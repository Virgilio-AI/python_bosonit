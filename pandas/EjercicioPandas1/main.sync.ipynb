{
 "cells": [
  {
   "cell_type": "markdown",
   "id": "ea49e62f",
   "metadata": {},
   "source": [
    "# Setup"
   ]
  },
  {
   "cell_type": "markdown",
   "id": "5d349970-9ef3-4636-8074-792d37f20e36",
   "metadata": {
    "tags": []
   },
   "source": [
    "### 1. Datasets\n",
    "\n",
    "Los datos de origen constan de dos archivos csv con la misma estructura y tipo de columnas.\n",
    "\n",
    "* trade_details: dataset original con datos reales de operaciones financieras.\n",
    "* trade_details_snapshot: copia de seguridad por posibles perdidas de datos.\n",
    "\n",
    "### 2. Columnas y significado:\n",
    "\n",
    "* mfamily: indica la familia de operaciones a la que pertenece.\n",
    "* mgroup: indica el grupo de operaciones dentro de la familia.\n",
    "* mtype: indica el tipo de operación dentro del grupo.\n",
    "* origin_trade_number: indica el número de la operación de trading (la misma operación puede tener varios números de trading).\n",
    "* origin_contract_number: indica el número de contrato de la operación (igual para todas las operaciones que pertenecen al mismo contrato).\n",
    "* maturity: fecha de finalización del contrato de cada operación.\n",
    "\n",
    "### 3. Descripción del problema:\n",
    "\n",
    "En estos datasets se encuentran varias operaciones financieras de distinto tipo, que diferenciaremos mediante los distintos valores de las columnas mfamily, mgroup y mtype.\n",
    "\n",
    "Existe un cierto tipo de operaciones especiales, llamadas FXSwaps. Estas pueden ser diferenciadas por medio de los siguientes valores:\n",
    "\n",
    "**mfamily = CURR** \\\n",
    "**mgroup = FXD** \\\n",
    "**mtype = SWLEG**\n",
    "\n",
    "Podemos ver en nuestro dataset que estas operaciones aparecen duplicadas, es decir, con el mismo **origin_contract_number** aunque distinto **origin_trade_number**. De estas operaciones duplicadas en origen, queremos obtener solo una de ellas.\n",
    "\n",
    "La forma para decidir cuál de las operaciones nos interesa obtener es mediante la columna *maturity*. De ambas operaciones de trading (distinto origin_trade_number) para un mismo contrato (origin_contract_number), queremos obtener solo la *long leg*, es decir, la que tiene una mayor fecha de vencimiento (fecha más actual de la columna maturity).\n",
    "\n",
    "Existe un cierto problema en nuestro dataset trade_details que tendremos que solucionar. Podemos ver que para algunas operaciones el campo maturity vendrá como *null*, es decir, sin informar. En estos casos, deberemos buscar esa operacion en el dataset trade_details_snapshot y el respectivo campo maturity para poder saber cuál de las dos operaciones es la *long leg* y filtrar la *short leg* \n",
    "\n",
    "**NOTA: Si se quiere conocer más el significado de estas operaciones financieras: https://es.wikipedia.org/wiki/Swap_(finanzas)**\n",
    "\n",
    "### 4. Reto:\n",
    "\n",
    "* Obtener un dataframe final donde tengamos todas las operaciones originales excepto los short leg de los contratos tipo FXSwap.\n",
    "* Aunque usemos el valor de la columna maturity del dataset trade_details_snapshot en los casos que venga en la trade_details a *null*, en el dataframe final deberá venir con el valor original de trade_details.\n",
    "* Hacerlo de la manera más eficiente posible a nivel computacional."
   ]
  },
  {
   "cell_type": "markdown",
   "id": "72629e18",
   "metadata": {},
   "source": [
    "## imports"
   ]
  },
  {
   "cell_type": "code",
   "execution_count": 1,
   "id": "fc3639c6",
   "metadata": {},
   "outputs": [
    {
     "name": "stderr",
     "output_type": "stream",
     "text": [
      "/home/rockhight/Documents/gitrepos/formacion_python/pandas/Ejercicio Pandas 1/envi/lib/python3.10/site-packages/tqdm/auto.py:21: TqdmWarning: IProgress not found. Please update jupyter and ipywidgets. See https://ipywidgets.readthedocs.io/en/stable/user_install.html\n",
      "  from .autonotebook import tqdm as notebook_tqdm\n"
     ]
    }
   ],
   "source": [
    "import pandas as pd\n",
    "import numpy as np\n",
    "import matplotlib.pyplot as plt\n",
    "import seaborn as sns\n",
    "import sklearn\n",
    "# import tensorflow as tf\n",
    "# import keras\n",
    "import statsmodels.api as sm\n",
    "import scipy.stats as stats\n",
    "import datetime\n",
    "import warnings\n",
    "from sklearn.metrics import accuracy_score\n",
    "from sklearn.metrics import matthews_corrcoef as mcc\n",
    "from sklearn.metrics import f1_score, make_scorer\n",
    "from sklearn.metrics import recall_score, precision_score\n",
    "from sklearn.model_selection import train_test_split, GridSearchCV\n",
    "from sklearn.preprocessing import FunctionTransformer\n",
    "from sklearn.compose import ColumnTransformer\n",
    "from sklearn.pipeline import Pipeline\n",
    "from IPython.display import display\n",
    "from sklearn.preprocessing import StandardScaler, RobustScaler\n",
    "from tqdm.auto import tqdm\n",
    "import mapply\n",
    "import warnings\n",
    "import importlib"
   ]
  },
  {
   "cell_type": "code",
   "execution_count": 2,
   "id": "86764d76-66c1-4c91-9c91-5d4062cc5f7d",
   "metadata": {
    "tags": []
   },
   "outputs": [],
   "source": [
    "mapply.init(n_workers = -1)"
   ]
  },
  {
   "cell_type": "code",
   "execution_count": 3,
   "id": "a2fbbfeb",
   "metadata": {},
   "outputs": [],
   "source": [
    "%matplotlib inline"
   ]
  },
  {
   "cell_type": "code",
   "execution_count": 4,
   "id": "8585f572",
   "metadata": {},
   "outputs": [],
   "source": [
    "warnings.filterwarnings('ignore')"
   ]
  },
  {
   "cell_type": "code",
   "execution_count": 5,
   "id": "4468e0dd-d393-4e29-8783-483322ab33c5",
   "metadata": {
    "tags": []
   },
   "outputs": [
    {
     "data": {
      "text/html": [
       "<div>\n",
       "<style scoped>\n",
       "    .dataframe tbody tr th:only-of-type {\n",
       "        vertical-align: middle;\n",
       "    }\n",
       "\n",
       "    .dataframe tbody tr th {\n",
       "        vertical-align: top;\n",
       "    }\n",
       "\n",
       "    .dataframe thead th {\n",
       "        text-align: right;\n",
       "    }\n",
       "</style>\n",
       "<table border=\"1\" class=\"dataframe\">\n",
       "  <thead>\n",
       "    <tr style=\"text-align: right;\">\n",
       "      <th></th>\n",
       "      <th>mfamily</th>\n",
       "      <th>mgroup</th>\n",
       "      <th>mtype</th>\n",
       "      <th>origin_trade_number</th>\n",
       "      <th>origin_contract_number</th>\n",
       "      <th>maturity</th>\n",
       "    </tr>\n",
       "  </thead>\n",
       "  <tbody>\n",
       "    <tr>\n",
       "      <th>0</th>\n",
       "      <td>IRD</td>\n",
       "      <td>BOND</td>\n",
       "      <td>NaN</td>\n",
       "      <td>316391872</td>\n",
       "      <td>678876251</td>\n",
       "      <td>2021-09-22</td>\n",
       "    </tr>\n",
       "    <tr>\n",
       "      <th>1</th>\n",
       "      <td>CURR</td>\n",
       "      <td>FXD</td>\n",
       "      <td>FXD</td>\n",
       "      <td>32734782</td>\n",
       "      <td>54853428</td>\n",
       "      <td>2021-09-22</td>\n",
       "    </tr>\n",
       "    <tr>\n",
       "      <th>2</th>\n",
       "      <td>IRD</td>\n",
       "      <td>LN_BR</td>\n",
       "      <td>NaN</td>\n",
       "      <td>1111</td>\n",
       "      <td>2222</td>\n",
       "      <td>2022-10-06</td>\n",
       "    </tr>\n",
       "    <tr>\n",
       "      <th>3</th>\n",
       "      <td>IRD</td>\n",
       "      <td>IRS</td>\n",
       "      <td>NaN</td>\n",
       "      <td>2222222</td>\n",
       "      <td>2222222</td>\n",
       "      <td>2024-10-15</td>\n",
       "    </tr>\n",
       "    <tr>\n",
       "      <th>4</th>\n",
       "      <td>SCF</td>\n",
       "      <td>SCF</td>\n",
       "      <td>SCF</td>\n",
       "      <td>3815982</td>\n",
       "      <td>3672136</td>\n",
       "      <td>NaN</td>\n",
       "    </tr>\n",
       "  </tbody>\n",
       "</table>\n",
       "</div>"
      ],
      "text/plain": [
       "  mfamily mgroup mtype  origin_trade_number  origin_contract_number   \n",
       "0     IRD   BOND   NaN            316391872               678876251  \\\n",
       "1    CURR    FXD   FXD             32734782                54853428   \n",
       "2     IRD  LN_BR   NaN                 1111                    2222   \n",
       "3     IRD    IRS   NaN              2222222                 2222222   \n",
       "4     SCF    SCF   SCF              3815982                 3672136   \n",
       "\n",
       "     maturity  \n",
       "0  2021-09-22  \n",
       "1  2021-09-22  \n",
       "2  2022-10-06  \n",
       "3  2024-10-15  \n",
       "4         NaN  "
      ]
     },
     "metadata": {},
     "output_type": "display_data"
    },
    {
     "data": {
      "text/html": [
       "<div>\n",
       "<style scoped>\n",
       "    .dataframe tbody tr th:only-of-type {\n",
       "        vertical-align: middle;\n",
       "    }\n",
       "\n",
       "    .dataframe tbody tr th {\n",
       "        vertical-align: top;\n",
       "    }\n",
       "\n",
       "    .dataframe thead th {\n",
       "        text-align: right;\n",
       "    }\n",
       "</style>\n",
       "<table border=\"1\" class=\"dataframe\">\n",
       "  <thead>\n",
       "    <tr style=\"text-align: right;\">\n",
       "      <th></th>\n",
       "      <th>mfamily</th>\n",
       "      <th>mgroup</th>\n",
       "      <th>mtype</th>\n",
       "      <th>origin_trade_number</th>\n",
       "      <th>origin_contract_number</th>\n",
       "      <th>maturity</th>\n",
       "    </tr>\n",
       "  </thead>\n",
       "  <tbody>\n",
       "    <tr>\n",
       "      <th>0</th>\n",
       "      <td>CURR</td>\n",
       "      <td>FXD</td>\n",
       "      <td>SWLEG</td>\n",
       "      <td>19665185</td>\n",
       "      <td>18622136</td>\n",
       "      <td>2020-04-29</td>\n",
       "    </tr>\n",
       "    <tr>\n",
       "      <th>1</th>\n",
       "      <td>CURR</td>\n",
       "      <td>FXD</td>\n",
       "      <td>SWLEG</td>\n",
       "      <td>19665186</td>\n",
       "      <td>18622136</td>\n",
       "      <td>2020-12-30</td>\n",
       "    </tr>\n",
       "    <tr>\n",
       "      <th>2</th>\n",
       "      <td>CURR</td>\n",
       "      <td>FXD</td>\n",
       "      <td>SWLEG</td>\n",
       "      <td>19772399</td>\n",
       "      <td>18724280</td>\n",
       "      <td>2020-11-05</td>\n",
       "    </tr>\n",
       "    <tr>\n",
       "      <th>3</th>\n",
       "      <td>CURR</td>\n",
       "      <td>FXD</td>\n",
       "      <td>SWLEG</td>\n",
       "      <td>19772400</td>\n",
       "      <td>18724280</td>\n",
       "      <td>2021-11-05</td>\n",
       "    </tr>\n",
       "    <tr>\n",
       "      <th>4</th>\n",
       "      <td>CURR</td>\n",
       "      <td>FXD</td>\n",
       "      <td>SWLEG</td>\n",
       "      <td>20980932</td>\n",
       "      <td>19883451</td>\n",
       "      <td>2020-02-02</td>\n",
       "    </tr>\n",
       "  </tbody>\n",
       "</table>\n",
       "</div>"
      ],
      "text/plain": [
       "  mfamily mgroup  mtype  origin_trade_number  origin_contract_number   \n",
       "0    CURR    FXD  SWLEG             19665185                18622136  \\\n",
       "1    CURR    FXD  SWLEG             19665186                18622136   \n",
       "2    CURR    FXD  SWLEG             19772399                18724280   \n",
       "3    CURR    FXD  SWLEG             19772400                18724280   \n",
       "4    CURR    FXD  SWLEG             20980932                19883451   \n",
       "\n",
       "     maturity  \n",
       "0  2020-04-29  \n",
       "1  2020-12-30  \n",
       "2  2020-11-05  \n",
       "3  2021-11-05  \n",
       "4  2020-02-02  "
      ]
     },
     "metadata": {},
     "output_type": "display_data"
    },
    {
     "name": "stdout",
     "output_type": "stream",
     "text": [
      "<class 'pandas.core.frame.DataFrame'>\n",
      "RangeIndex: 31 entries, 0 to 30\n",
      "Data columns (total 6 columns):\n",
      " #   Column                  Non-Null Count  Dtype \n",
      "---  ------                  --------------  ----- \n",
      " 0   mfamily                 31 non-null     object\n",
      " 1   mgroup                  31 non-null     object\n",
      " 2   mtype                   14 non-null     object\n",
      " 3   origin_trade_number     31 non-null     int64 \n",
      " 4   origin_contract_number  31 non-null     int64 \n",
      " 5   maturity                22 non-null     object\n",
      "dtypes: int64(2), object(4)\n",
      "memory usage: 1.6+ KB\n"
     ]
    },
    {
     "data": {
      "text/plain": [
       "None"
      ]
     },
     "metadata": {},
     "output_type": "display_data"
    },
    {
     "name": "stdout",
     "output_type": "stream",
     "text": [
      "<class 'pandas.core.frame.DataFrame'>\n",
      "RangeIndex: 36 entries, 0 to 35\n",
      "Data columns (total 6 columns):\n",
      " #   Column                  Non-Null Count  Dtype \n",
      "---  ------                  --------------  ----- \n",
      " 0   mfamily                 36 non-null     object\n",
      " 1   mgroup                  36 non-null     object\n",
      " 2   mtype                   14 non-null     object\n",
      " 3   origin_trade_number     36 non-null     int64 \n",
      " 4   origin_contract_number  36 non-null     int64 \n",
      " 5   maturity                36 non-null     object\n",
      "dtypes: int64(2), object(4)\n",
      "memory usage: 1.8+ KB\n"
     ]
    },
    {
     "data": {
      "text/plain": [
       "None"
      ]
     },
     "metadata": {},
     "output_type": "display_data"
    }
   ],
   "source": [
    "trade_details = pd.read_csv(\"trade_details.csv\",sep = ';')\n",
    "trade_details_snapshot = pd.read_csv(\"trade_details_snapshot.csv\",sep = ';')\n",
    "display(trade_details.head())\n",
    "display(trade_details_snapshot.head())\n",
    "display(trade_details.info())\n",
    "display(trade_details_snapshot.info())"
   ]
  },
  {
   "cell_type": "code",
   "execution_count": 6,
   "id": "7d9e4aa1-3659-4934-9854-a4597b2287ed",
   "metadata": {
    "tags": []
   },
   "outputs": [],
   "source": [
    "trade_details['maturity'] = pd.to_datetime(trade_details['maturity'])\n",
    "trade_details_snapshot['maturity'] = pd.to_datetime(trade_details_snapshot['maturity'])"
   ]
  },
  {
   "cell_type": "code",
   "execution_count": 7,
   "id": "9a408ec7-89ae-4b72-b4ec-ede92c91af07",
   "metadata": {
    "tags": []
   },
   "outputs": [],
   "source": [
    "# we will set the index to origin_trade_number\n",
    "trade_details = trade_details.set_index('origin_trade_number')\n",
    "trade_details_snapshot = trade_details_snapshot.set_index(\"origin_trade_number\")"
   ]
  },
  {
   "cell_type": "code",
   "execution_count": 8,
   "id": "4bcd7084-7212-42aa-9dbc-6751a4832394",
   "metadata": {},
   "outputs": [
    {
     "name": "stdout",
     "output_type": "stream",
     "text": [
      "31\n",
      "mfamily 4\n",
      "mgroup 7\n",
      "mtype 4\n",
      "origin_contract_number 26\n",
      "maturity 13\n",
      "36\n",
      "mfamily 4\n",
      "mgroup 7\n",
      "mtype 4\n",
      "origin_contract_number 31\n",
      "maturity 18\n"
     ]
    }
   ],
   "source": [
    "# duplicated:\n",
    "# mfamily = CURR\n",
    "# mgroup = FXD\n",
    "# mtype = SWLEG\n",
    "# mismo origin_contract_number distinto origin_trade_number\n",
    "# solo obtener la que tiene una mayor fecha de vencimiento\n",
    "print(len(trade_details))\n",
    "for col in trade_details.columns:\n",
    "    print(col,len(trade_details[col].value_counts()))\n",
    "    \n",
    "    \n",
    "print(len(trade_details_snapshot))\n",
    "for col in trade_details_snapshot.columns:\n",
    "    print(col,len(trade_details_snapshot[col].value_counts()))\n"
   ]
  },
  {
   "cell_type": "code",
   "execution_count": 9,
   "id": "3991325f-0c76-40da-9ce1-2e95ffedcee3",
   "metadata": {
    "tags": []
   },
   "outputs": [
    {
     "data": {
      "text/html": [
       "<div>\n",
       "<style scoped>\n",
       "    .dataframe tbody tr th:only-of-type {\n",
       "        vertical-align: middle;\n",
       "    }\n",
       "\n",
       "    .dataframe tbody tr th {\n",
       "        vertical-align: top;\n",
       "    }\n",
       "\n",
       "    .dataframe thead th {\n",
       "        text-align: right;\n",
       "    }\n",
       "</style>\n",
       "<table border=\"1\" class=\"dataframe\">\n",
       "  <thead>\n",
       "    <tr style=\"text-align: right;\">\n",
       "      <th></th>\n",
       "      <th>mfamily</th>\n",
       "      <th>mgroup</th>\n",
       "      <th>mtype</th>\n",
       "      <th>origin_contract_number</th>\n",
       "      <th>maturity</th>\n",
       "    </tr>\n",
       "    <tr>\n",
       "      <th>origin_trade_number</th>\n",
       "      <th></th>\n",
       "      <th></th>\n",
       "      <th></th>\n",
       "      <th></th>\n",
       "      <th></th>\n",
       "    </tr>\n",
       "  </thead>\n",
       "  <tbody>\n",
       "    <tr>\n",
       "      <th>32734782</th>\n",
       "      <td>CURR</td>\n",
       "      <td>FXD</td>\n",
       "      <td>FXD</td>\n",
       "      <td>54853428</td>\n",
       "      <td>2021-09-22</td>\n",
       "    </tr>\n",
       "    <tr>\n",
       "      <th>19665185</th>\n",
       "      <td>CURR</td>\n",
       "      <td>FXD</td>\n",
       "      <td>SWLEG</td>\n",
       "      <td>18622136</td>\n",
       "      <td>2020-04-29</td>\n",
       "    </tr>\n",
       "    <tr>\n",
       "      <th>19665186</th>\n",
       "      <td>CURR</td>\n",
       "      <td>FXD</td>\n",
       "      <td>SWLEG</td>\n",
       "      <td>18622136</td>\n",
       "      <td>2020-12-30</td>\n",
       "    </tr>\n",
       "  </tbody>\n",
       "</table>\n",
       "</div>"
      ],
      "text/plain": [
       "                    mfamily mgroup  mtype  origin_contract_number   maturity\n",
       "origin_trade_number                                                         \n",
       "32734782               CURR    FXD    FXD                54853428 2021-09-22\n",
       "19665185               CURR    FXD  SWLEG                18622136 2020-04-29\n",
       "19665186               CURR    FXD  SWLEG                18622136 2020-12-30"
      ]
     },
     "metadata": {},
     "output_type": "display_data"
    },
    {
     "name": "stdout",
     "output_type": "stream",
     "text": [
      "<class 'pandas.core.frame.DataFrame'>\n",
      "Index: 11 entries, 32734782 to 20665178\n",
      "Data columns (total 5 columns):\n",
      " #   Column                  Non-Null Count  Dtype         \n",
      "---  ------                  --------------  -----         \n",
      " 0   mfamily                 11 non-null     object        \n",
      " 1   mgroup                  11 non-null     object        \n",
      " 2   mtype                   11 non-null     object        \n",
      " 3   origin_contract_number  11 non-null     int64         \n",
      " 4   maturity                6 non-null      datetime64[ns]\n",
      "dtypes: datetime64[ns](1), int64(1), object(3)\n",
      "memory usage: 528.0+ bytes\n"
     ]
    },
    {
     "data": {
      "text/plain": [
       "None"
      ]
     },
     "metadata": {},
     "output_type": "display_data"
    }
   ],
   "source": [
    "# Paso 1: Filtrar las operaciones FXSwap\n",
    "fxswap = trade_details[(trade_details['mfamily'] == 'CURR') |\n",
    "                       (trade_details['mgroup'] == 'FXD') |\n",
    "                       (trade_details['mtype'] == 'SWLEG')]\n",
    "display(fxswap.head(3))\n",
    "display(fxswap.info())"
   ]
  },
  {
   "cell_type": "code",
   "execution_count": 10,
   "id": "88ed47a3-cb5a-4435-97b3-f03aadc15a77",
   "metadata": {
    "tags": []
   },
   "outputs": [],
   "source": [
    "# we will fill missing values\n",
    "null_maturity = fxswap[fxswap['maturity'].isnull()]\n",
    "fxswap.loc[null_maturity.index,'maturity'] = trade_details_snapshot.loc[null_maturity.index, 'maturity'].head()"
   ]
  },
  {
   "cell_type": "code",
   "execution_count": 11,
   "id": "2aefe554-b5da-4b20-ae76-698fde44da99",
   "metadata": {
    "tags": []
   },
   "outputs": [
    {
     "name": "stdout",
     "output_type": "stream",
     "text": [
      "<class 'pandas.core.frame.DataFrame'>\n",
      "Index: 11 entries, 32734782 to 20665178\n",
      "Data columns (total 5 columns):\n",
      " #   Column                  Non-Null Count  Dtype         \n",
      "---  ------                  --------------  -----         \n",
      " 0   mfamily                 11 non-null     object        \n",
      " 1   mgroup                  11 non-null     object        \n",
      " 2   mtype                   11 non-null     object        \n",
      " 3   origin_contract_number  11 non-null     int64         \n",
      " 4   maturity                11 non-null     datetime64[ns]\n",
      "dtypes: datetime64[ns](1), int64(1), object(3)\n",
      "memory usage: 828.0+ bytes\n"
     ]
    }
   ],
   "source": [
    "fxswap.info()"
   ]
  },
  {
   "cell_type": "code",
   "execution_count": 15,
   "id": "3b34de5e-df3c-4a0e-9e60-c3f68f16c0f3",
   "metadata": {
    "tags": []
   },
   "outputs": [
    {
     "data": {
      "text/html": [
       "<div>\n",
       "<style scoped>\n",
       "    .dataframe tbody tr th:only-of-type {\n",
       "        vertical-align: middle;\n",
       "    }\n",
       "\n",
       "    .dataframe tbody tr th {\n",
       "        vertical-align: top;\n",
       "    }\n",
       "\n",
       "    .dataframe thead th {\n",
       "        text-align: right;\n",
       "    }\n",
       "</style>\n",
       "<table border=\"1\" class=\"dataframe\">\n",
       "  <thead>\n",
       "    <tr style=\"text-align: right;\">\n",
       "      <th></th>\n",
       "      <th>mfamily</th>\n",
       "      <th>mgroup</th>\n",
       "      <th>mtype</th>\n",
       "      <th>origin_contract_number</th>\n",
       "      <th>maturity</th>\n",
       "    </tr>\n",
       "    <tr>\n",
       "      <th>origin_trade_number</th>\n",
       "      <th></th>\n",
       "      <th></th>\n",
       "      <th></th>\n",
       "      <th></th>\n",
       "      <th></th>\n",
       "    </tr>\n",
       "  </thead>\n",
       "  <tbody>\n",
       "    <tr>\n",
       "      <th>32734782</th>\n",
       "      <td>CURR</td>\n",
       "      <td>FXD</td>\n",
       "      <td>FXD</td>\n",
       "      <td>54853428</td>\n",
       "      <td>2021-09-22</td>\n",
       "    </tr>\n",
       "    <tr>\n",
       "      <th>19665185</th>\n",
       "      <td>CURR</td>\n",
       "      <td>FXD</td>\n",
       "      <td>SWLEG</td>\n",
       "      <td>18622136</td>\n",
       "      <td>2020-04-29</td>\n",
       "    </tr>\n",
       "    <tr>\n",
       "      <th>19665186</th>\n",
       "      <td>CURR</td>\n",
       "      <td>FXD</td>\n",
       "      <td>SWLEG</td>\n",
       "      <td>18622136</td>\n",
       "      <td>2020-12-30</td>\n",
       "    </tr>\n",
       "    <tr>\n",
       "      <th>19772399</th>\n",
       "      <td>CURR</td>\n",
       "      <td>FXD</td>\n",
       "      <td>SWLEG</td>\n",
       "      <td>18724280</td>\n",
       "      <td>2020-11-05</td>\n",
       "    </tr>\n",
       "    <tr>\n",
       "      <th>19772400</th>\n",
       "      <td>CURR</td>\n",
       "      <td>FXD</td>\n",
       "      <td>SWLEG</td>\n",
       "      <td>18724280</td>\n",
       "      <td>2021-11-05</td>\n",
       "    </tr>\n",
       "  </tbody>\n",
       "</table>\n",
       "</div>"
      ],
      "text/plain": [
       "                    mfamily mgroup  mtype  origin_contract_number   maturity\n",
       "origin_trade_number                                                         \n",
       "32734782               CURR    FXD    FXD                54853428 2021-09-22\n",
       "19665185               CURR    FXD  SWLEG                18622136 2020-04-29\n",
       "19665186               CURR    FXD  SWLEG                18622136 2020-12-30\n",
       "19772399               CURR    FXD  SWLEG                18724280 2020-11-05\n",
       "19772400               CURR    FXD  SWLEG                18724280 2021-11-05"
      ]
     },
     "execution_count": 15,
     "metadata": {},
     "output_type": "execute_result"
    }
   ],
   "source": [
    "fxswap.head()"
   ]
  },
  {
   "cell_type": "code",
   "execution_count": 39,
   "id": "5755a569-31d9-40d4-8a20-409d7f7aae6d",
   "metadata": {
    "tags": []
   },
   "outputs": [
    {
     "name": "stdout",
     "output_type": "stream",
     "text": [
      "                     origin_contract_number\n",
      "origin_trade_number                        \n",
      "19665185                           18622136\n",
      "19772399                           18724280\n",
      "20665177                           19622128\n",
      "20980933                           19883451\n",
      "22798004                           21622649\n",
      "32734782                           54853428\n"
     ]
    }
   ],
   "source": [
    "to_delete = fxswap.groupby('origin_contract_number').agg({'maturity':'idxmin'})\n",
    "to_delete = to_delete.reset_index()\n",
    "to_delete = to_delete.rename(columns = {'maturity':'origin_trade_number'})\n",
    "to_delete = to_delete.set_index('origin_trade_number')\n",
    "print(to_delete)"
   ]
  },
  {
   "cell_type": "code",
   "execution_count": 40,
   "id": "bd5e4da5-b4c8-43ed-9745-1a080280d340",
   "metadata": {
    "tags": []
   },
   "outputs": [],
   "source": [
    "final = trade_details.drop(index = to_delete.index)"
   ]
  },
  {
   "cell_type": "code",
   "execution_count": 41,
   "id": "4a0c911d-5db6-4e1f-865c-5186f621aeab",
   "metadata": {
    "tags": []
   },
   "outputs": [
    {
     "data": {
      "text/html": [
       "<div>\n",
       "<style scoped>\n",
       "    .dataframe tbody tr th:only-of-type {\n",
       "        vertical-align: middle;\n",
       "    }\n",
       "\n",
       "    .dataframe tbody tr th {\n",
       "        vertical-align: top;\n",
       "    }\n",
       "\n",
       "    .dataframe thead th {\n",
       "        text-align: right;\n",
       "    }\n",
       "</style>\n",
       "<table border=\"1\" class=\"dataframe\">\n",
       "  <thead>\n",
       "    <tr style=\"text-align: right;\">\n",
       "      <th></th>\n",
       "      <th>mfamily</th>\n",
       "      <th>mgroup</th>\n",
       "      <th>mtype</th>\n",
       "      <th>origin_contract_number</th>\n",
       "      <th>maturity</th>\n",
       "    </tr>\n",
       "    <tr>\n",
       "      <th>origin_trade_number</th>\n",
       "      <th></th>\n",
       "      <th></th>\n",
       "      <th></th>\n",
       "      <th></th>\n",
       "      <th></th>\n",
       "    </tr>\n",
       "  </thead>\n",
       "  <tbody>\n",
       "    <tr>\n",
       "      <th>316391872</th>\n",
       "      <td>IRD</td>\n",
       "      <td>BOND</td>\n",
       "      <td>NaN</td>\n",
       "      <td>678876251</td>\n",
       "      <td>2021-09-22</td>\n",
       "    </tr>\n",
       "    <tr>\n",
       "      <th>1111</th>\n",
       "      <td>IRD</td>\n",
       "      <td>LN_BR</td>\n",
       "      <td>NaN</td>\n",
       "      <td>2222</td>\n",
       "      <td>2022-10-06</td>\n",
       "    </tr>\n",
       "    <tr>\n",
       "      <th>2222222</th>\n",
       "      <td>IRD</td>\n",
       "      <td>IRS</td>\n",
       "      <td>NaN</td>\n",
       "      <td>2222222</td>\n",
       "      <td>2024-10-15</td>\n",
       "    </tr>\n",
       "    <tr>\n",
       "      <th>3815982</th>\n",
       "      <td>SCF</td>\n",
       "      <td>SCF</td>\n",
       "      <td>SCF</td>\n",
       "      <td>3672136</td>\n",
       "      <td>NaT</td>\n",
       "    </tr>\n",
       "    <tr>\n",
       "      <th>14596583</th>\n",
       "      <td>IRD</td>\n",
       "      <td>LN_BR</td>\n",
       "      <td>NaN</td>\n",
       "      <td>13774383</td>\n",
       "      <td>2020-12-29</td>\n",
       "    </tr>\n",
       "  </tbody>\n",
       "</table>\n",
       "</div>"
      ],
      "text/plain": [
       "                    mfamily mgroup mtype  origin_contract_number   maturity\n",
       "origin_trade_number                                                        \n",
       "316391872               IRD   BOND   NaN               678876251 2021-09-22\n",
       "1111                    IRD  LN_BR   NaN                    2222 2022-10-06\n",
       "2222222                 IRD    IRS   NaN                 2222222 2024-10-15\n",
       "3815982                 SCF    SCF   SCF                 3672136        NaT\n",
       "14596583                IRD  LN_BR   NaN                13774383 2020-12-29"
      ]
     },
     "metadata": {},
     "output_type": "display_data"
    },
    {
     "name": "stdout",
     "output_type": "stream",
     "text": [
      "<class 'pandas.core.frame.DataFrame'>\n",
      "Index: 25 entries, 316391872 to 20665178\n",
      "Data columns (total 5 columns):\n",
      " #   Column                  Non-Null Count  Dtype         \n",
      "---  ------                  --------------  -----         \n",
      " 0   mfamily                 25 non-null     object        \n",
      " 1   mgroup                  25 non-null     object        \n",
      " 2   mtype                   8 non-null      object        \n",
      " 3   origin_contract_number  25 non-null     int64         \n",
      " 4   maturity                19 non-null     datetime64[ns]\n",
      "dtypes: datetime64[ns](1), int64(1), object(3)\n",
      "memory usage: 1.2+ KB\n"
     ]
    },
    {
     "data": {
      "text/plain": [
       "None"
      ]
     },
     "metadata": {},
     "output_type": "display_data"
    }
   ],
   "source": [
    "display(final.head())\n",
    "display(final.info())"
   ]
  },
  {
   "cell_type": "code",
   "execution_count": 42,
   "id": "8320080d-de4e-44d9-b573-47cfb0e4e59c",
   "metadata": {
    "tags": []
   },
   "outputs": [],
   "source": [
    "# save to csv\n",
    "final.to_csv('challenge.csv')"
   ]
  }
 ],
 "metadata": {
  "kernelspec": {
   "display_name": "Python 3 (ipykernel)",
   "language": "python",
   "name": "python3"
  },
  "language_info": {
   "codemirror_mode": {
    "name": "ipython",
    "version": 3
   },
   "file_extension": ".py",
   "mimetype": "text/x-python",
   "name": "python",
   "nbconvert_exporter": "python",
   "pygments_lexer": "ipython3",
   "version": "3.10.10"
  }
 },
 "nbformat": 4,
 "nbformat_minor": 5
}
