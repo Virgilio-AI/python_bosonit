{
 "cells": [
  {
   "cell_type": "markdown",
   "id": "ea49e62f",
   "metadata": {},
   "source": [
    "# Setup"
   ]
  },
  {
   "cell_type": "markdown",
   "id": "72629e18",
   "metadata": {},
   "source": [
    "## imports"
   ]
  },
  {
   "cell_type": "code",
   "execution_count": 1,
   "id": "fc3639c6",
   "metadata": {},
   "outputs": [
    {
     "name": "stderr",
     "output_type": "stream",
     "text": [
      "/home/rockhight/Documents/gitrepos/formacion_python/pandas/Ejercicio2/envi/lib/python3.10/site-packages/tqdm/auto.py:21: TqdmWarning: IProgress not found. Please update jupyter and ipywidgets. See https://ipywidgets.readthedocs.io/en/stable/user_install.html\n",
      "  from .autonotebook import tqdm as notebook_tqdm\n"
     ]
    }
   ],
   "source": [
    "import pandas as pd\n",
    "import numpy as np\n",
    "import matplotlib.pyplot as plt\n",
    "import seaborn as sns\n",
    "import sklearn\n",
    "import statsmodels.api as sm\n",
    "import scipy.stats as stats\n",
    "import datetime\n",
    "import warnings\n",
    "from sklearn.metrics import accuracy_score\n",
    "from sklearn.metrics import matthews_corrcoef as mcc\n",
    "from sklearn.metrics import f1_score, make_scorer\n",
    "from sklearn.metrics import recall_score, precision_score\n",
    "from sklearn.model_selection import train_test_split, GridSearchCV\n",
    "from sklearn.preprocessing import FunctionTransformer\n",
    "from sklearn.compose import ColumnTransformer\n",
    "from sklearn.pipeline import Pipeline\n",
    "from IPython.display import display\n",
    "from sklearn.preprocessing import StandardScaler, RobustScaler\n",
    "from tqdm.auto import tqdm\n",
    "import mapply\n",
    "import warnings\n",
    "import importlib"
   ]
  },
  {
   "cell_type": "markdown",
   "id": "52c18a3b-505e-4924-8dd1-79b2fbf4f181",
   "metadata": {},
   "source": [
    "### 1. Dataset\n",
    "\n",
    "Los datos de origen son proporcionados en un archivos csv:\n",
    "\n",
    "* udfs: dataset con datos de operaciones financieras.\n",
    "\n",
    "### 2. Columnas y significado:\n",
    "\n",
    "* nb: número de referencia de la operación.\n",
    "* contract: identificador de contrato.\n",
    "* udf_ref: identificador de operación de trading.\n",
    "* fmly: familia a la que pertenece la operación financiera.\n",
    "* grp: grupo al que pertenece la operación financiera.\n",
    "* type: tipo de operación financiera.\n",
    "* country: país de origen de la operación.\n",
    "* udf_name: campo informado en el registro.\n",
    "* num_value: valor numérico.\n",
    "* string_value: valor de cadena de caracteres.\n",
    "* date_value: valor de fecha.\n",
    "* data_timestamp_part: marca temporal.\n",
    "* data_date_part: fecha en la que se almacena la información.\n",
    "* source_system: fuente de los datos.\n",
    "\n",
    "### 3. Descripción del problema:\n",
    "\n",
    "Si hacemos una visión general a nuestro conjunto de datos, podemos observar como hay hasta 10 registros (filas) para cada valor de *nb*, donde cada registro solo da información para un valor de *udf_name*. Esto es un gasto innecesario de almacenamiento y computación, además de complicar los futuros cálculos derivados de estos datos. Por esta razón, necesitamos convertir estos registros con el mismo *nb* a un solo registro.\n",
    "\n",
    "Nuestro dataframe final tendrá que contener las siguientes columnas: `nb, M_CCY, M_CLIENT, M_CRDTCHRG, M_DIRECTIAV, M_DISCMARGIN, M_LIQDTYCHRG, M_MVA, M_RVA, M_SELLER, M_SUCURSAL`\n",
    "\n",
    "* nb: debe contener el número de referencia de la operación.\n",
    "* M_CLIENT, M_SELLER, M_CCY, M_SUCURSAL: deben mapear el valor de *string_value*\n",
    "* M_DISCMARGIN, M_DIRECTIAV, M_LIQDTYCHRG, M_CRDTCHRG, , M_MVA, M_RVA: deben mapear el valor de *num_value*\n",
    "\n",
    "\n",
    "Una vez tengamos este resultado, necesitaremos eliminar las operaciones que no tengan informados ninguno de los siguientes campos:\n",
    "\n",
    "M_DISCMARGIN, M_DIRECTIAV, M_LIQDTYCHRG, M_CRDTCHRG, M_MVA, M_RVA, M_SELLER\n",
    "\n",
    "No informados en este caso significa que o son valores nulos, vacíos o 0, en el caso de los campos numéricos.\n",
    "\n",
    "### 4. Reto:\n",
    "\n",
    "* Obtener un dataframe final que contenga las columnas indicadas, con un registro por *nb* y con los valores correctos mapeados.\n",
    "* Las operaciones con los campos M_DISCMARGIN, M_DIRECTIAV, M_LIQDTYCHRG, M_CRDTCHRG, , M_MVA, M_RVA, M_SELLER no informados no deben existir.\n",
    "* Hacerlo de la manera más eficiente posible a nivel computacional.\n",
    "\n",
    "**NOTA:** Cada uno de los pasos descritos en el problema pueden efectuarse en una sola línea."
   ]
  },
  {
   "cell_type": "code",
   "execution_count": 2,
   "id": "86764d76-66c1-4c91-9c91-5d4062cc5f7d",
   "metadata": {
    "tags": []
   },
   "outputs": [],
   "source": [
    "mapply.init(n_workers = -1)"
   ]
  },
  {
   "cell_type": "code",
   "execution_count": 3,
   "id": "a2fbbfeb",
   "metadata": {},
   "outputs": [],
   "source": [
    "%matplotlib inline"
   ]
  },
  {
   "cell_type": "code",
   "execution_count": 4,
   "id": "8585f572",
   "metadata": {},
   "outputs": [],
   "source": [
    "warnings.filterwarnings('ignore')"
   ]
  },
  {
   "cell_type": "code",
   "execution_count": 5,
   "id": "9cf344b1-a602-4b1f-addc-74337a90be47",
   "metadata": {
    "tags": []
   },
   "outputs": [
    {
     "data": {
      "text/plain": [
       "array(['LB_TLECLER', '1999', 'CCMO', 'USD', 'EUR', 'AMAM', '5493',\n",
       "       'PRUEBA', 'GBP', 'MXN', 'LB_VSTAVRE', 'WATT', 'SELLER 11',\n",
       "       'CE_NGIRARD', 'SELLER 10', 'SOV_GSM', 'BRL', 'SSSSSSS', 'VVVVVV',\n",
       "       '1212', 'MMMM', 'SELLER1', 'SELLER9'], dtype=object)"
      ]
     },
     "execution_count": 5,
     "metadata": {},
     "output_type": "execute_result"
    }
   ],
   "source": [
    "udfs = pd.read_csv(\"udfs.csv\",sep = ';')\n",
    "udfs[udfs['string_value'].notna()]['string_value'].unique()"
   ]
  },
  {
   "cell_type": "code",
   "execution_count": 6,
   "id": "fe10f030-c151-4f37-8744-1cb35784780d",
   "metadata": {
    "tags": []
   },
   "outputs": [
    {
     "data": {
      "text/html": [
       "<div>\n",
       "<style scoped>\n",
       "    .dataframe tbody tr th:only-of-type {\n",
       "        vertical-align: middle;\n",
       "    }\n",
       "\n",
       "    .dataframe tbody tr th {\n",
       "        vertical-align: top;\n",
       "    }\n",
       "\n",
       "    .dataframe thead th {\n",
       "        text-align: right;\n",
       "    }\n",
       "</style>\n",
       "<table border=\"1\" class=\"dataframe\">\n",
       "  <thead>\n",
       "    <tr style=\"text-align: right;\">\n",
       "      <th></th>\n",
       "      <th>nb</th>\n",
       "      <th>contract</th>\n",
       "      <th>udf_ref</th>\n",
       "      <th>fmly</th>\n",
       "      <th>grp</th>\n",
       "      <th>type</th>\n",
       "      <th>country</th>\n",
       "      <th>udf_name</th>\n",
       "      <th>num_value</th>\n",
       "      <th>string_value</th>\n",
       "      <th>date_value</th>\n",
       "      <th>data_timestamp_part</th>\n",
       "      <th>data_date_part</th>\n",
       "      <th>source_system</th>\n",
       "    </tr>\n",
       "  </thead>\n",
       "  <tbody>\n",
       "    <tr>\n",
       "      <th>0</th>\n",
       "      <td>444444</td>\n",
       "      <td>3333</td>\n",
       "      <td>28786653</td>\n",
       "      <td>IRD</td>\n",
       "      <td>LN_BR</td>\n",
       "      <td>NaN</td>\n",
       "      <td>ESP</td>\n",
       "      <td>M_CCY</td>\n",
       "      <td>NaN</td>\n",
       "      <td>NaN</td>\n",
       "      <td>NaN</td>\n",
       "      <td>20201128041303</td>\n",
       "      <td>2020-12-30</td>\n",
       "      <td>Mx3EU</td>\n",
       "    </tr>\n",
       "    <tr>\n",
       "      <th>1</th>\n",
       "      <td>2222222</td>\n",
       "      <td>2222222</td>\n",
       "      <td>2222222</td>\n",
       "      <td>IRD</td>\n",
       "      <td>IRS</td>\n",
       "      <td>NaN</td>\n",
       "      <td>ESP</td>\n",
       "      <td>M_CRDTCHRG</td>\n",
       "      <td>30.0</td>\n",
       "      <td>NaN</td>\n",
       "      <td>NaN</td>\n",
       "      <td>20210203032054</td>\n",
       "      <td>2020-12-30</td>\n",
       "      <td>Mx3EU</td>\n",
       "    </tr>\n",
       "    <tr>\n",
       "      <th>2</th>\n",
       "      <td>2222222</td>\n",
       "      <td>2222222</td>\n",
       "      <td>2222222</td>\n",
       "      <td>IRD</td>\n",
       "      <td>IRS</td>\n",
       "      <td>NaN</td>\n",
       "      <td>ESP</td>\n",
       "      <td>M_SELLER</td>\n",
       "      <td>NaN</td>\n",
       "      <td>LB_TLECLER</td>\n",
       "      <td>NaN</td>\n",
       "      <td>20210203032054</td>\n",
       "      <td>2020-12-30</td>\n",
       "      <td>Mx3EU</td>\n",
       "    </tr>\n",
       "    <tr>\n",
       "      <th>3</th>\n",
       "      <td>2222222</td>\n",
       "      <td>2222222</td>\n",
       "      <td>2222222</td>\n",
       "      <td>IRD</td>\n",
       "      <td>IRS</td>\n",
       "      <td>NaN</td>\n",
       "      <td>ESP</td>\n",
       "      <td>M_LIQDTYCHRG</td>\n",
       "      <td>50.0</td>\n",
       "      <td>NaN</td>\n",
       "      <td>NaN</td>\n",
       "      <td>20210203032054</td>\n",
       "      <td>2020-12-30</td>\n",
       "      <td>Mx3EU</td>\n",
       "    </tr>\n",
       "    <tr>\n",
       "      <th>4</th>\n",
       "      <td>2222222</td>\n",
       "      <td>2222222</td>\n",
       "      <td>2222222</td>\n",
       "      <td>IRD</td>\n",
       "      <td>IRS</td>\n",
       "      <td>NaN</td>\n",
       "      <td>ESP</td>\n",
       "      <td>M_MVA</td>\n",
       "      <td>20.0</td>\n",
       "      <td>NaN</td>\n",
       "      <td>NaN</td>\n",
       "      <td>20210203032054</td>\n",
       "      <td>2020-12-30</td>\n",
       "      <td>Mx3EU</td>\n",
       "    </tr>\n",
       "  </tbody>\n",
       "</table>\n",
       "</div>"
      ],
      "text/plain": [
       "        nb  contract   udf_ref fmly    grp type country      udf_name   \n",
       "0   444444      3333  28786653  IRD  LN_BR  NaN     ESP         M_CCY  \\\n",
       "1  2222222   2222222   2222222  IRD    IRS  NaN     ESP    M_CRDTCHRG   \n",
       "2  2222222   2222222   2222222  IRD    IRS  NaN     ESP      M_SELLER   \n",
       "3  2222222   2222222   2222222  IRD    IRS  NaN     ESP  M_LIQDTYCHRG   \n",
       "4  2222222   2222222   2222222  IRD    IRS  NaN     ESP         M_MVA   \n",
       "\n",
       "   num_value string_value  date_value  data_timestamp_part data_date_part   \n",
       "0        NaN          NaN         NaN       20201128041303     2020-12-30  \\\n",
       "1       30.0          NaN         NaN       20210203032054     2020-12-30   \n",
       "2        NaN   LB_TLECLER         NaN       20210203032054     2020-12-30   \n",
       "3       50.0          NaN         NaN       20210203032054     2020-12-30   \n",
       "4       20.0          NaN         NaN       20210203032054     2020-12-30   \n",
       "\n",
       "  source_system  \n",
       "0         Mx3EU  \n",
       "1         Mx3EU  \n",
       "2         Mx3EU  \n",
       "3         Mx3EU  \n",
       "4         Mx3EU  "
      ]
     },
     "metadata": {},
     "output_type": "display_data"
    },
    {
     "name": "stdout",
     "output_type": "stream",
     "text": [
      "<class 'pandas.core.frame.DataFrame'>\n",
      "RangeIndex: 386 entries, 0 to 385\n",
      "Data columns (total 14 columns):\n",
      " #   Column               Non-Null Count  Dtype  \n",
      "---  ------               --------------  -----  \n",
      " 0   nb                   386 non-null    int64  \n",
      " 1   contract             386 non-null    int64  \n",
      " 2   udf_ref              386 non-null    int64  \n",
      " 3   fmly                 386 non-null    object \n",
      " 4   grp                  386 non-null    object \n",
      " 5   type                 241 non-null    object \n",
      " 6   country              386 non-null    object \n",
      " 7   udf_name             386 non-null    object \n",
      " 8   num_value            211 non-null    float64\n",
      " 9   string_value         130 non-null    object \n",
      " 10  date_value           0 non-null      float64\n",
      " 11  data_timestamp_part  386 non-null    int64  \n",
      " 12  data_date_part       386 non-null    object \n",
      " 13  source_system        386 non-null    object \n",
      "dtypes: float64(2), int64(4), object(8)\n",
      "memory usage: 42.3+ KB\n"
     ]
    },
    {
     "data": {
      "text/plain": [
       "None"
      ]
     },
     "metadata": {},
     "output_type": "display_data"
    }
   ],
   "source": [
    "display(udfs.head())\n",
    "display(udfs.info())"
   ]
  },
  {
   "cell_type": "code",
   "execution_count": 7,
   "id": "da4718c4-3071-4e8d-9856-449ec4c31683",
   "metadata": {
    "tags": []
   },
   "outputs": [
    {
     "data": {
      "text/html": [
       "<div>\n",
       "<style scoped>\n",
       "    .dataframe tbody tr th:only-of-type {\n",
       "        vertical-align: middle;\n",
       "    }\n",
       "\n",
       "    .dataframe tbody tr th {\n",
       "        vertical-align: top;\n",
       "    }\n",
       "\n",
       "    .dataframe thead tr th {\n",
       "        text-align: left;\n",
       "    }\n",
       "\n",
       "    .dataframe thead tr:last-of-type th {\n",
       "        text-align: right;\n",
       "    }\n",
       "</style>\n",
       "<table border=\"1\" class=\"dataframe\">\n",
       "  <thead>\n",
       "    <tr>\n",
       "      <th></th>\n",
       "      <th colspan=\"6\" halign=\"left\">num_value</th>\n",
       "      <th colspan=\"5\" halign=\"left\">string_value</th>\n",
       "    </tr>\n",
       "    <tr>\n",
       "      <th>udf_name</th>\n",
       "      <th>M_CRDTCHRG</th>\n",
       "      <th>M_DIRECTIAV</th>\n",
       "      <th>M_DISCMARGIN</th>\n",
       "      <th>M_LIQDTYCHRG</th>\n",
       "      <th>M_MVA</th>\n",
       "      <th>M_RVA</th>\n",
       "      <th>M_CCY</th>\n",
       "      <th>M_CLIENT</th>\n",
       "      <th>M_PRUEBA</th>\n",
       "      <th>M_SELLER</th>\n",
       "      <th>M_SUCURSAL</th>\n",
       "    </tr>\n",
       "    <tr>\n",
       "      <th>nb</th>\n",
       "      <th></th>\n",
       "      <th></th>\n",
       "      <th></th>\n",
       "      <th></th>\n",
       "      <th></th>\n",
       "      <th></th>\n",
       "      <th></th>\n",
       "      <th></th>\n",
       "      <th></th>\n",
       "      <th></th>\n",
       "      <th></th>\n",
       "    </tr>\n",
       "  </thead>\n",
       "  <tbody>\n",
       "    <tr>\n",
       "      <th>2222222</th>\n",
       "      <td>30.0</td>\n",
       "      <td>0.0</td>\n",
       "      <td>10.0</td>\n",
       "      <td>50.0</td>\n",
       "      <td>20.0</td>\n",
       "      <td>0.0</td>\n",
       "      <td>USD</td>\n",
       "      <td>CCMO</td>\n",
       "      <td>NaN</td>\n",
       "      <td>LB_TLECLER</td>\n",
       "      <td>1999</td>\n",
       "    </tr>\n",
       "    <tr>\n",
       "      <th>3815982</th>\n",
       "      <td>0.0</td>\n",
       "      <td>0.0</td>\n",
       "      <td>0.0</td>\n",
       "      <td>0.0</td>\n",
       "      <td>0.0</td>\n",
       "      <td>0.0</td>\n",
       "      <td>NaN</td>\n",
       "      <td>NaN</td>\n",
       "      <td>NaN</td>\n",
       "      <td>NaN</td>\n",
       "      <td>NaN</td>\n",
       "    </tr>\n",
       "    <tr>\n",
       "      <th>8216817</th>\n",
       "      <td>NaN</td>\n",
       "      <td>0.0</td>\n",
       "      <td>NaN</td>\n",
       "      <td>NaN</td>\n",
       "      <td>NaN</td>\n",
       "      <td>NaN</td>\n",
       "      <td>EUR</td>\n",
       "      <td>NaN</td>\n",
       "      <td>NaN</td>\n",
       "      <td>AMAM</td>\n",
       "      <td>NaN</td>\n",
       "    </tr>\n",
       "    <tr>\n",
       "      <th>10000001</th>\n",
       "      <td>20.0</td>\n",
       "      <td>0.0</td>\n",
       "      <td>10.0</td>\n",
       "      <td>30.0</td>\n",
       "      <td>0.0</td>\n",
       "      <td>0.0</td>\n",
       "      <td>NaN</td>\n",
       "      <td>NaN</td>\n",
       "      <td>NaN</td>\n",
       "      <td>SELLER1</td>\n",
       "      <td>1999</td>\n",
       "    </tr>\n",
       "    <tr>\n",
       "      <th>10000009</th>\n",
       "      <td>20.0</td>\n",
       "      <td>0.0</td>\n",
       "      <td>10.0</td>\n",
       "      <td>30.0</td>\n",
       "      <td>0.0</td>\n",
       "      <td>0.0</td>\n",
       "      <td>NaN</td>\n",
       "      <td>NaN</td>\n",
       "      <td>NaN</td>\n",
       "      <td>SELLER9</td>\n",
       "      <td>1999</td>\n",
       "    </tr>\n",
       "  </tbody>\n",
       "</table>\n",
       "</div>"
      ],
      "text/plain": [
       "          num_value                                                     \n",
       "udf_name M_CRDTCHRG M_DIRECTIAV M_DISCMARGIN M_LIQDTYCHRG M_MVA M_RVA   \n",
       "nb                                                                      \n",
       "2222222        30.0         0.0         10.0         50.0  20.0   0.0  \\\n",
       "3815982         0.0         0.0          0.0          0.0   0.0   0.0   \n",
       "8216817         NaN         0.0          NaN          NaN   NaN   NaN   \n",
       "10000001       20.0         0.0         10.0         30.0   0.0   0.0   \n",
       "10000009       20.0         0.0         10.0         30.0   0.0   0.0   \n",
       "\n",
       "         string_value                                           \n",
       "udf_name        M_CCY M_CLIENT M_PRUEBA    M_SELLER M_SUCURSAL  \n",
       "nb                                                              \n",
       "2222222           USD     CCMO      NaN  LB_TLECLER       1999  \n",
       "3815982           NaN      NaN      NaN         NaN        NaN  \n",
       "8216817           EUR      NaN      NaN        AMAM        NaN  \n",
       "10000001          NaN      NaN      NaN     SELLER1       1999  \n",
       "10000009          NaN      NaN      NaN     SELLER9       1999  "
      ]
     },
     "execution_count": 7,
     "metadata": {},
     "output_type": "execute_result"
    }
   ],
   "source": [
    "df_pivot = udfs.pivot_table(index=['nb'], columns='udf_name', values=['string_value', 'num_value'], aggfunc='first')\n",
    "df_pivot.head()"
   ]
  },
  {
   "cell_type": "code",
   "execution_count": 8,
   "id": "486229fe-6f4d-49eb-a9b4-38f5be9c017d",
   "metadata": {
    "tags": []
   },
   "outputs": [],
   "source": [
    "df_pivot.columns = [col[-1] for col in df_pivot.columns.values]\n",
    "df_pivot.reset_index(inplace=True)"
   ]
  },
  {
   "cell_type": "code",
   "execution_count": 9,
   "id": "1deccbb9-1ad3-4e27-930f-6bb7478fac58",
   "metadata": {
    "tags": []
   },
   "outputs": [
    {
     "data": {
      "text/plain": [
       "'hola_mundo'"
      ]
     },
     "execution_count": 9,
     "metadata": {},
     "output_type": "execute_result"
    }
   ],
   "source": [
    "'hola_mundo'.strip()"
   ]
  },
  {
   "cell_type": "code",
   "execution_count": 10,
   "id": "e5f3de7a-183d-4c27-be05-167dd69b5d64",
   "metadata": {
    "tags": []
   },
   "outputs": [
    {
     "name": "stdout",
     "output_type": "stream",
     "text": [
      "<class 'pandas.core.frame.DataFrame'>\n",
      "RangeIndex: 61 entries, 0 to 60\n",
      "Data columns (total 12 columns):\n",
      " #   Column        Non-Null Count  Dtype  \n",
      "---  ------        --------------  -----  \n",
      " 0   nb            61 non-null     int64  \n",
      " 1   M_CRDTCHRG    30 non-null     float64\n",
      " 2   M_DIRECTIAV   61 non-null     float64\n",
      " 3   M_DISCMARGIN  30 non-null     float64\n",
      " 4   M_LIQDTYCHRG  30 non-null     float64\n",
      " 5   M_MVA         30 non-null     float64\n",
      " 6   M_RVA         30 non-null     float64\n",
      " 7   M_CCY         36 non-null     object \n",
      " 8   M_CLIENT      9 non-null      object \n",
      " 9   M_PRUEBA      1 non-null      object \n",
      " 10  M_SELLER      58 non-null     object \n",
      " 11  M_SUCURSAL    26 non-null     object \n",
      "dtypes: float64(6), int64(1), object(5)\n",
      "memory usage: 5.8+ KB\n"
     ]
    }
   ],
   "source": [
    "df_pivot.info()"
   ]
  },
  {
   "cell_type": "code",
   "execution_count": 11,
   "id": "7e51f7d3-5842-4098-8c76-5b6a7675eee8",
   "metadata": {
    "tags": []
   },
   "outputs": [],
   "source": [
    "df_filtered = df_pivot.dropna(subset=['M_DISCMARGIN', 'M_DIRECTIAV', 'M_LIQDTYCHRG', 'M_CRDTCHRG', 'M_MVA', 'M_RVA', 'M_SELLER'], how='all')\n",
    "df_filtered.loc[:, ['M_DISCMARGIN', 'M_DIRECTIAV', 'M_LIQDTYCHRG', 'M_CRDTCHRG', 'M_MVA', 'M_RVA']] = df_filtered.loc[:, ['M_DISCMARGIN', 'M_DIRECTIAV', 'M_LIQDTYCHRG', 'M_CRDTCHRG', 'M_MVA', 'M_RVA']].replace(0, pd.NA)\n",
    "df_filtered.dropna(subset=['M_DISCMARGIN', 'M_DIRECTIAV', 'M_LIQDTYCHRG', 'M_CRDTCHRG', 'M_MVA', 'M_RVA'], how='all', inplace=True)"
   ]
  },
  {
   "cell_type": "code",
   "execution_count": 12,
   "id": "51fab61a-a040-4cd5-adcf-3e930ca54899",
   "metadata": {
    "tags": []
   },
   "outputs": [
    {
     "name": "stdout",
     "output_type": "stream",
     "text": [
      "<class 'pandas.core.frame.DataFrame'>\n",
      "Index: 27 entries, 0 to 60\n",
      "Data columns (total 12 columns):\n",
      " #   Column        Non-Null Count  Dtype \n",
      "---  ------        --------------  ----- \n",
      " 0   nb            27 non-null     int64 \n",
      " 1   M_CRDTCHRG    17 non-null     object\n",
      " 2   M_DIRECTIAV   13 non-null     object\n",
      " 3   M_DISCMARGIN  17 non-null     object\n",
      " 4   M_LIQDTYCHRG  15 non-null     object\n",
      " 5   M_MVA         13 non-null     object\n",
      " 6   M_RVA         7 non-null      object\n",
      " 7   M_CCY         6 non-null      object\n",
      " 8   M_CLIENT      9 non-null      object\n",
      " 9   M_PRUEBA      1 non-null      object\n",
      " 10  M_SELLER      25 non-null     object\n",
      " 11  M_SUCURSAL    24 non-null     object\n",
      "dtypes: int64(1), object(11)\n",
      "memory usage: 2.7+ KB\n"
     ]
    }
   ],
   "source": [
    "df_filtered.info()"
   ]
  },
  {
   "cell_type": "code",
   "execution_count": 14,
   "id": "cf843f0a-debb-436d-a01f-0b99e71253ec",
   "metadata": {
    "tags": []
   },
   "outputs": [],
   "source": [
    "df_filtered.to_csv(\"df_filtered.csv\")"
   ]
  }
 ],
 "metadata": {
  "kernelspec": {
   "display_name": "Python 3 (ipykernel)",
   "language": "python",
   "name": "python3"
  },
  "language_info": {
   "codemirror_mode": {
    "name": "ipython",
    "version": 3
   },
   "file_extension": ".py",
   "mimetype": "text/x-python",
   "name": "python",
   "nbconvert_exporter": "python",
   "pygments_lexer": "ipython3",
   "version": "3.10.10"
  }
 },
 "nbformat": 4,
 "nbformat_minor": 5
}
