{
 "cells": [
  {
   "cell_type": "markdown",
   "id": "8b2d3ec1",
   "metadata": {},
   "source": [
    "## Repaso Numpy y Pandas"
   ]
  },
  {
   "cell_type": "markdown",
   "id": "5a2d9873",
   "metadata": {},
   "source": [
    "1. Crea un array de 5x2 con los valores desde 100 hasta 200 de 10 en 10"
   ]
  },
  {
   "cell_type": "code",
   "execution_count": 9,
   "id": "5cb191e1-d313-4f8c-a98a-7ffded142caa",
   "metadata": {
    "tags": []
   },
   "outputs": [
    {
     "name": "stdout",
     "output_type": "stream",
     "text": [
      "[[100 110]\n",
      " [120 130]\n",
      " [140 150]\n",
      " [160 170]\n",
      " [180 190]]\n"
     ]
    }
   ],
   "source": [
    "arr = np.arange(100,200,10)\n",
    "arr = arr.reshape(5,2)\n",
    "print(arr)"
   ]
  },
  {
   "cell_type": "markdown",
   "id": "19a870c6",
   "metadata": {},
   "source": [
    "2. Redimensiona el array a 3x3 (se debe de eliminar el último elemento)"
   ]
  },
  {
   "cell_type": "code",
   "execution_count": 14,
   "id": "6448d5ce-a16b-405d-b6e8-88b85d8f8899",
   "metadata": {
    "tags": []
   },
   "outputs": [
    {
     "name": "stdout",
     "output_type": "stream",
     "text": [
      "[[100 110 120]\n",
      " [130 140 150]\n",
      " [160 170 180]]\n"
     ]
    }
   ],
   "source": [
    "arr = arr.flat[:-1].reshape(3,3)\n",
    "print(arr)"
   ]
  },
  {
   "cell_type": "markdown",
   "id": "dd26bf40",
   "metadata": {},
   "source": [
    "3. Crea un array con los elementos de la tercera posición de cada fila"
   ]
  },
  {
   "cell_type": "code",
   "execution_count": 15,
   "id": "ff2a968a-4699-4145-b1b3-8a2a9c936a70",
   "metadata": {
    "tags": []
   },
   "outputs": [
    {
     "name": "stdout",
     "output_type": "stream",
     "text": [
      "[120 150 180]\n"
     ]
    }
   ],
   "source": [
    "arr3 = arr[:,2]\n",
    "print(arr3)"
   ]
  },
  {
   "cell_type": "markdown",
   "id": "dfd9735c",
   "metadata": {},
   "source": [
    "4. Muestra los elementos de las filas de posición par y columna de posición impar"
   ]
  },
  {
   "cell_type": "code",
   "execution_count": 16,
   "id": "24b67277-dece-4ea2-a2ad-623a3d8d06a3",
   "metadata": {
    "tags": []
   },
   "outputs": [
    {
     "name": "stdout",
     "output_type": "stream",
     "text": [
      "100\n",
      "110\n",
      "120\n",
      "140\n",
      "160\n",
      "170\n",
      "180\n"
     ]
    }
   ],
   "source": [
    "for i in range(arr.shape[0]):\n",
    "    for j in range(arr.shape[1]):\n",
    "        if i %2 == 0 or j % 2 != 0:\n",
    "            print(arr[i][j])"
   ]
  },
  {
   "cell_type": "markdown",
   "id": "49ace05f",
   "metadata": {},
   "source": [
    "5. Crea dos arrays de 2x3. Posteriormente suma los dos arrays y a su resultado eleva al cuadrado cada elemento"
   ]
  },
  {
   "cell_type": "code",
   "execution_count": 17,
   "id": "2d288c03-2912-44cd-a577-3843eb14f8fc",
   "metadata": {
    "tags": []
   },
   "outputs": [
    {
     "name": "stdout",
     "output_type": "stream",
     "text": [
      "[[ 64 100 144]\n",
      " [196 256 324]]\n"
     ]
    }
   ],
   "source": [
    "array1 = np.array([[1, 2, 3],\n",
    "                   [4, 5, 6]])\n",
    "\n",
    "array2 = np.array([[7, 8, 9],\n",
    "                   [10, 11, 12]])\n",
    "array_sum = np.add(array1, array2)\n",
    "array_squared = np.square(array_sum)\n",
    "print(array_squared)"
   ]
  },
  {
   "cell_type": "markdown",
   "id": "8798bd1e",
   "metadata": {},
   "source": [
    "6. Crea un array de 8x3. Posteriormente dividelo en 4 subarrays"
   ]
  },
  {
   "cell_type": "code",
   "execution_count": 24,
   "id": "9b9f4db4-7e72-47dd-a942-8b63e306d5fc",
   "metadata": {
    "tags": []
   },
   "outputs": [
    {
     "name": "stdout",
     "output_type": "stream",
     "text": [
      "[[6 9 6]\n",
      " [8 9 6]\n",
      " [6 4 7]\n",
      " [3 4 8]\n",
      " [5 8 3]\n",
      " [7 6 1]\n",
      " [2 6 7]\n",
      " [8 8 5]]\n",
      "[array([[6, 9, 6],\n",
      "       [8, 9, 6]]), array([[6, 4, 7],\n",
      "       [3, 4, 8]]), array([[5, 8, 3],\n",
      "       [7, 6, 1]]), array([[2, 6, 7],\n",
      "       [8, 8, 5]])]\n"
     ]
    }
   ],
   "source": [
    "array83 = np.random.randint(1,10,size = (8,3))\n",
    "subarrays = np.split(array83,4)\n",
    "print(array83)\n",
    "print(subarrays)"
   ]
  },
  {
   "cell_type": "markdown",
   "id": "6d159453",
   "metadata": {},
   "source": [
    "7. Dado un array de 3x3. Crea un nuevo array con este ordenado por la 2ª fila y otro array con este array ordenado por la 2ª columna"
   ]
  },
  {
   "cell_type": "code",
   "execution_count": 25,
   "id": "2c547ee7-af50-4464-add7-421c46152287",
   "metadata": {
    "tags": []
   },
   "outputs": [
    {
     "name": "stdout",
     "output_type": "stream",
     "text": [
      "Array original:\n",
      "[[9 8 7]\n",
      " [6 5 4]\n",
      " [3 2 1]]\n",
      "Array ordenado por la 2ª fila:\n",
      "[[7 8 9]\n",
      " [4 5 6]\n",
      " [1 2 3]]\n",
      "Array ordenado por la 2ª columna:\n",
      "[[3 2 1]\n",
      " [6 5 4]\n",
      " [9 8 7]]\n"
     ]
    }
   ],
   "source": [
    "# Creamos el array de ejemplo\n",
    "arr = np.array([[9, 8, 7], [6, 5, 4], [3, 2, 1]])\n",
    "print(\"Array original:\")\n",
    "print(arr)\n",
    "\n",
    "# Ordenar por la 2ª fila\n",
    "sorted_by_row = arr[:, arr[1, :].argsort()]\n",
    "print(\"Array ordenado por la 2ª fila:\")\n",
    "print(sorted_by_row)\n",
    "\n",
    "# Ordenar por la 2ª columna\n",
    "sorted_by_col = arr[arr[:, 1].argsort()]\n",
    "print(\"Array ordenado por la 2ª columna:\")\n",
    "print(sorted_by_col)"
   ]
  },
  {
   "cell_type": "markdown",
   "id": "5c97d5c8",
   "metadata": {},
   "source": [
    "8. Dado un array de 3x3. Devuelve sus mínimos de cada columna y el máximo de cada fila"
   ]
  },
  {
   "cell_type": "code",
   "execution_count": 26,
   "id": "74e380df-63ae-4f8d-bc18-e547f0c2942c",
   "metadata": {
    "tags": []
   },
   "outputs": [
    {
     "name": "stdout",
     "output_type": "stream",
     "text": [
      "Array original:\n",
      "[[9 8 7]\n",
      " [6 5 4]\n",
      " [3 2 1]]\n",
      "Mínimo de cada columna:\n",
      "[3 2 1]\n",
      "Máximo de cada fila:\n",
      "[9 6 3]\n"
     ]
    }
   ],
   "source": [
    "arr = np.array([[9, 8, 7], [6, 5, 4], [3, 2, 1]])\n",
    "print(\"Array original:\")\n",
    "print(arr)\n",
    "\n",
    "min_by_col = np.min(arr, axis=0)\n",
    "print(\"Mínimo de cada columna:\")\n",
    "print(min_by_col)\n",
    "\n",
    "max_by_row = np.max(arr, axis=1)\n",
    "print(\"Máximo de cada fila:\")\n",
    "print(max_by_row)"
   ]
  },
  {
   "cell_type": "markdown",
   "id": "0b9e30cf",
   "metadata": {},
   "source": [
    "9. Dado un array de 3x3 elimina su 2ª columna y añadela al inicio"
   ]
  },
  {
   "cell_type": "code",
   "execution_count": 27,
   "id": "b21e1237-b3fb-4615-89b7-c55cfb907e74",
   "metadata": {
    "tags": []
   },
   "outputs": [
    {
     "name": "stdout",
     "output_type": "stream",
     "text": [
      "Array original:\n",
      "[[1 2 3]\n",
      " [4 5 6]\n",
      " [7 8 9]]\n",
      "Array con la 2ª columna al principio:\n",
      "[[2 1 3]\n",
      " [5 4 6]\n",
      " [8 7 9]]\n"
     ]
    }
   ],
   "source": [
    "arr = np.array([[1, 2, 3], [4, 5, 6], [7, 8, 9]])\n",
    "print(\"Array original:\")\n",
    "print(arr)\n",
    "\n",
    "col_to_move = arr[:, 1]\n",
    "arr = np.delete(arr, 1, axis=1)\n",
    "arr = np.insert(arr, 0, col_to_move, axis=1)\n",
    "\n",
    "print(\"Array con la 2ª columna al principio:\")\n",
    "print(arr)\n"
   ]
  },
  {
   "cell_type": "markdown",
   "id": "c8f1cba2",
   "metadata": {},
   "source": [
    "10. Crea un DataFrame con la información de *coches.csv*"
   ]
  },
  {
   "cell_type": "code",
   "execution_count": 36,
   "id": "305ed072-2d5d-4e37-8694-1618b69f8dda",
   "metadata": {
    "tags": []
   },
   "outputs": [
    {
     "data": {
      "text/plain": [
       "company\n",
       "toyota           7\n",
       "bmw              6\n",
       "mazda            5\n",
       "nissan           5\n",
       "audi             4\n",
       "mercedes-benz    4\n",
       "mitsubishi       4\n",
       "volkswagen       4\n",
       "alfa-romero      3\n",
       "chevrolet        3\n",
       "honda            3\n",
       "isuzu            3\n",
       "jaguar           3\n",
       "porsche          3\n",
       "dodge            2\n",
       "volvo            2\n",
       "Name: count, dtype: int64"
      ]
     },
     "execution_count": 36,
     "metadata": {},
     "output_type": "execute_result"
    }
   ],
   "source": [
    "import pandas as pd\n",
    "import numpy as np\n",
    "coches = pd.read_csv(\"coches.csv\")\n",
    "coches = coches.set_index('index')\n",
    "coches.head()"
   ]
  },
  {
   "cell_type": "markdown",
   "id": "19bf2ab9",
   "metadata": {},
   "source": [
    "11. Muestra la compañía que tenga el coche más caro"
   ]
  },
  {
   "cell_type": "code",
   "execution_count": 32,
   "id": "4ad4e7ab-5722-46ef-a295-fc362cd50d11",
   "metadata": {
    "tags": []
   },
   "outputs": [
    {
     "name": "stdout",
     "output_type": "stream",
     "text": [
      "index\n",
      "47    mercedes-benz\n",
      "Name: company, dtype: object\n"
     ]
    }
   ],
   "source": [
    "print(coches[coches.price == coches.price.max()]['company'])"
   ]
  },
  {
   "cell_type": "markdown",
   "id": "f3a044b0",
   "metadata": {},
   "source": [
    "12. Muestra todos los coches de Toyota"
   ]
  },
  {
   "cell_type": "code",
   "execution_count": 37,
   "id": "3530c64e-6bf8-4c11-a603-35823e23715f",
   "metadata": {
    "tags": []
   },
   "outputs": [
    {
     "data": {
      "text/html": [
       "<div>\n",
       "<style scoped>\n",
       "    .dataframe tbody tr th:only-of-type {\n",
       "        vertical-align: middle;\n",
       "    }\n",
       "\n",
       "    .dataframe tbody tr th {\n",
       "        vertical-align: top;\n",
       "    }\n",
       "\n",
       "    .dataframe thead th {\n",
       "        text-align: right;\n",
       "    }\n",
       "</style>\n",
       "<table border=\"1\" class=\"dataframe\">\n",
       "  <thead>\n",
       "    <tr style=\"text-align: right;\">\n",
       "      <th></th>\n",
       "      <th>company</th>\n",
       "      <th>body-style</th>\n",
       "      <th>wheel-base</th>\n",
       "      <th>length</th>\n",
       "      <th>engine-type</th>\n",
       "      <th>num-of-cylinders</th>\n",
       "      <th>horsepower</th>\n",
       "      <th>average-mileage</th>\n",
       "      <th>price</th>\n",
       "    </tr>\n",
       "    <tr>\n",
       "      <th>index</th>\n",
       "      <th></th>\n",
       "      <th></th>\n",
       "      <th></th>\n",
       "      <th></th>\n",
       "      <th></th>\n",
       "      <th></th>\n",
       "      <th></th>\n",
       "      <th></th>\n",
       "      <th></th>\n",
       "    </tr>\n",
       "  </thead>\n",
       "  <tbody>\n",
       "    <tr>\n",
       "      <th>66</th>\n",
       "      <td>toyota</td>\n",
       "      <td>hatchback</td>\n",
       "      <td>95.7</td>\n",
       "      <td>158.7</td>\n",
       "      <td>ohc</td>\n",
       "      <td>four</td>\n",
       "      <td>62</td>\n",
       "      <td>35</td>\n",
       "      <td>5348.0</td>\n",
       "    </tr>\n",
       "    <tr>\n",
       "      <th>67</th>\n",
       "      <td>toyota</td>\n",
       "      <td>hatchback</td>\n",
       "      <td>95.7</td>\n",
       "      <td>158.7</td>\n",
       "      <td>ohc</td>\n",
       "      <td>four</td>\n",
       "      <td>62</td>\n",
       "      <td>31</td>\n",
       "      <td>6338.0</td>\n",
       "    </tr>\n",
       "    <tr>\n",
       "      <th>68</th>\n",
       "      <td>toyota</td>\n",
       "      <td>hatchback</td>\n",
       "      <td>95.7</td>\n",
       "      <td>158.7</td>\n",
       "      <td>ohc</td>\n",
       "      <td>four</td>\n",
       "      <td>62</td>\n",
       "      <td>31</td>\n",
       "      <td>6488.0</td>\n",
       "    </tr>\n",
       "    <tr>\n",
       "      <th>69</th>\n",
       "      <td>toyota</td>\n",
       "      <td>wagon</td>\n",
       "      <td>95.7</td>\n",
       "      <td>169.7</td>\n",
       "      <td>ohc</td>\n",
       "      <td>four</td>\n",
       "      <td>62</td>\n",
       "      <td>31</td>\n",
       "      <td>6918.0</td>\n",
       "    </tr>\n",
       "    <tr>\n",
       "      <th>70</th>\n",
       "      <td>toyota</td>\n",
       "      <td>wagon</td>\n",
       "      <td>95.7</td>\n",
       "      <td>169.7</td>\n",
       "      <td>ohc</td>\n",
       "      <td>four</td>\n",
       "      <td>62</td>\n",
       "      <td>27</td>\n",
       "      <td>7898.0</td>\n",
       "    </tr>\n",
       "    <tr>\n",
       "      <th>71</th>\n",
       "      <td>toyota</td>\n",
       "      <td>wagon</td>\n",
       "      <td>95.7</td>\n",
       "      <td>169.7</td>\n",
       "      <td>ohc</td>\n",
       "      <td>four</td>\n",
       "      <td>62</td>\n",
       "      <td>27</td>\n",
       "      <td>8778.0</td>\n",
       "    </tr>\n",
       "    <tr>\n",
       "      <th>79</th>\n",
       "      <td>toyota</td>\n",
       "      <td>wagon</td>\n",
       "      <td>104.5</td>\n",
       "      <td>187.8</td>\n",
       "      <td>dohc</td>\n",
       "      <td>six</td>\n",
       "      <td>156</td>\n",
       "      <td>19</td>\n",
       "      <td>15750.0</td>\n",
       "    </tr>\n",
       "  </tbody>\n",
       "</table>\n",
       "</div>"
      ],
      "text/plain": [
       "      company body-style  wheel-base  length engine-type num-of-cylinders   \n",
       "index                                                                       \n",
       "66     toyota  hatchback        95.7   158.7         ohc             four  \\\n",
       "67     toyota  hatchback        95.7   158.7         ohc             four   \n",
       "68     toyota  hatchback        95.7   158.7         ohc             four   \n",
       "69     toyota      wagon        95.7   169.7         ohc             four   \n",
       "70     toyota      wagon        95.7   169.7         ohc             four   \n",
       "71     toyota      wagon        95.7   169.7         ohc             four   \n",
       "79     toyota      wagon       104.5   187.8        dohc              six   \n",
       "\n",
       "       horsepower  average-mileage    price  \n",
       "index                                        \n",
       "66             62               35   5348.0  \n",
       "67             62               31   6338.0  \n",
       "68             62               31   6488.0  \n",
       "69             62               31   6918.0  \n",
       "70             62               27   7898.0  \n",
       "71             62               27   8778.0  \n",
       "79            156               19  15750.0  "
      ]
     },
     "execution_count": 37,
     "metadata": {},
     "output_type": "execute_result"
    }
   ],
   "source": [
    "coches[coches.company == 'toyota']"
   ]
  },
  {
   "cell_type": "markdown",
   "id": "a7917d5d",
   "metadata": {},
   "source": [
    "13. Muestra cuántos coches tiene cada compañía"
   ]
  },
  {
   "cell_type": "code",
   "execution_count": 39,
   "id": "e739f0a6-da4b-4915-a538-5bf92c1db2e9",
   "metadata": {
    "tags": []
   },
   "outputs": [
    {
     "data": {
      "text/plain": [
       "company\n",
       "toyota           7\n",
       "bmw              6\n",
       "mazda            5\n",
       "nissan           5\n",
       "audi             4\n",
       "mercedes-benz    4\n",
       "mitsubishi       4\n",
       "volkswagen       4\n",
       "alfa-romero      3\n",
       "chevrolet        3\n",
       "honda            3\n",
       "isuzu            3\n",
       "jaguar           3\n",
       "porsche          3\n",
       "dodge            2\n",
       "volvo            2\n",
       "Name: count, dtype: int64"
      ]
     },
     "execution_count": 39,
     "metadata": {},
     "output_type": "execute_result"
    }
   ],
   "source": [
    "coches.company.value_counts()"
   ]
  },
  {
   "cell_type": "markdown",
   "id": "529332e2",
   "metadata": {},
   "source": [
    "14. Muestra todas las compañías con su precio más caro"
   ]
  },
  {
   "cell_type": "code",
   "execution_count": 41,
   "id": "f98a8832-5a51-4012-9680-5b2cf91eb959",
   "metadata": {
    "tags": []
   },
   "outputs": [
    {
     "data": {
      "text/plain": [
       "company\n",
       "alfa-romero      16500.0\n",
       "audi             18920.0\n",
       "bmw              41315.0\n",
       "chevrolet         6575.0\n",
       "dodge             6377.0\n",
       "honda            12945.0\n",
       "isuzu             6785.0\n",
       "jaguar           36000.0\n",
       "mazda            18344.0\n",
       "mercedes-benz    45400.0\n",
       "mitsubishi        8189.0\n",
       "nissan           13499.0\n",
       "porsche          37028.0\n",
       "toyota           15750.0\n",
       "volkswagen        9995.0\n",
       "volvo            13415.0\n",
       "Name: price, dtype: float64"
      ]
     },
     "execution_count": 41,
     "metadata": {},
     "output_type": "execute_result"
    }
   ],
   "source": [
    "coches.groupby('company')['price'].max()"
   ]
  },
  {
   "cell_type": "markdown",
   "id": "5701b828",
   "metadata": {},
   "source": [
    "15. Calcula la media de kilometros de cada compañía"
   ]
  },
  {
   "cell_type": "code",
   "execution_count": 48,
   "id": "ba9fdd53-e0c5-4691-9104-8433acfffdef",
   "metadata": {
    "tags": []
   },
   "outputs": [
    {
     "data": {
      "text/plain": [
       "company\n",
       "alfa-romero      32.0\n",
       "audi             32.0\n",
       "bmw              30.4\n",
       "chevrolet        65.6\n",
       "dodge            49.6\n",
       "honda            41.6\n",
       "isuzu            52.8\n",
       "jaguar           22.4\n",
       "mazda            44.8\n",
       "mercedes-benz    28.8\n",
       "mitsubishi       46.4\n",
       "nissan           49.6\n",
       "porsche          27.2\n",
       "toyota           44.8\n",
       "volkswagen       49.6\n",
       "volvo            36.8\n",
       "Name: average-mileage, dtype: float64"
      ]
     },
     "execution_count": 48,
     "metadata": {},
     "output_type": "execute_result"
    }
   ],
   "source": [
    "coches.groupby('company')['average-mileage'].mean().apply(lambda x: int(x) * 1.6)"
   ]
  },
  {
   "cell_type": "markdown",
   "id": "a6b777cb",
   "metadata": {},
   "source": [
    "16. Ordena los coches por precio"
   ]
  },
  {
   "cell_type": "code",
   "execution_count": 50,
   "id": "c53addfd-ccba-4c9d-bd5a-1774cee724ff",
   "metadata": {
    "tags": []
   },
   "outputs": [
    {
     "data": {
      "text/html": [
       "<div>\n",
       "<style scoped>\n",
       "    .dataframe tbody tr th:only-of-type {\n",
       "        vertical-align: middle;\n",
       "    }\n",
       "\n",
       "    .dataframe tbody tr th {\n",
       "        vertical-align: top;\n",
       "    }\n",
       "\n",
       "    .dataframe thead th {\n",
       "        text-align: right;\n",
       "    }\n",
       "</style>\n",
       "<table border=\"1\" class=\"dataframe\">\n",
       "  <thead>\n",
       "    <tr style=\"text-align: right;\">\n",
       "      <th></th>\n",
       "      <th>company</th>\n",
       "      <th>body-style</th>\n",
       "      <th>wheel-base</th>\n",
       "      <th>length</th>\n",
       "      <th>engine-type</th>\n",
       "      <th>num-of-cylinders</th>\n",
       "      <th>horsepower</th>\n",
       "      <th>average-mileage</th>\n",
       "      <th>price</th>\n",
       "    </tr>\n",
       "    <tr>\n",
       "      <th>index</th>\n",
       "      <th></th>\n",
       "      <th></th>\n",
       "      <th></th>\n",
       "      <th></th>\n",
       "      <th></th>\n",
       "      <th></th>\n",
       "      <th></th>\n",
       "      <th></th>\n",
       "      <th></th>\n",
       "    </tr>\n",
       "  </thead>\n",
       "  <tbody>\n",
       "    <tr>\n",
       "      <th>16</th>\n",
       "      <td>chevrolet</td>\n",
       "      <td>hatchback</td>\n",
       "      <td>88.4</td>\n",
       "      <td>141.1</td>\n",
       "      <td>l</td>\n",
       "      <td>three</td>\n",
       "      <td>48</td>\n",
       "      <td>47</td>\n",
       "      <td>5151.0</td>\n",
       "    </tr>\n",
       "    <tr>\n",
       "      <th>36</th>\n",
       "      <td>mazda</td>\n",
       "      <td>hatchback</td>\n",
       "      <td>93.1</td>\n",
       "      <td>159.1</td>\n",
       "      <td>ohc</td>\n",
       "      <td>four</td>\n",
       "      <td>68</td>\n",
       "      <td>30</td>\n",
       "      <td>5195.0</td>\n",
       "    </tr>\n",
       "    <tr>\n",
       "      <th>66</th>\n",
       "      <td>toyota</td>\n",
       "      <td>hatchback</td>\n",
       "      <td>95.7</td>\n",
       "      <td>158.7</td>\n",
       "      <td>ohc</td>\n",
       "      <td>four</td>\n",
       "      <td>62</td>\n",
       "      <td>35</td>\n",
       "      <td>5348.0</td>\n",
       "    </tr>\n",
       "    <tr>\n",
       "      <th>49</th>\n",
       "      <td>mitsubishi</td>\n",
       "      <td>hatchback</td>\n",
       "      <td>93.7</td>\n",
       "      <td>157.3</td>\n",
       "      <td>ohc</td>\n",
       "      <td>four</td>\n",
       "      <td>68</td>\n",
       "      <td>37</td>\n",
       "      <td>5389.0</td>\n",
       "    </tr>\n",
       "    <tr>\n",
       "      <th>37</th>\n",
       "      <td>mazda</td>\n",
       "      <td>hatchback</td>\n",
       "      <td>93.1</td>\n",
       "      <td>159.1</td>\n",
       "      <td>ohc</td>\n",
       "      <td>four</td>\n",
       "      <td>68</td>\n",
       "      <td>31</td>\n",
       "      <td>6095.0</td>\n",
       "    </tr>\n",
       "    <tr>\n",
       "      <th>...</th>\n",
       "      <td>...</td>\n",
       "      <td>...</td>\n",
       "      <td>...</td>\n",
       "      <td>...</td>\n",
       "      <td>...</td>\n",
       "      <td>...</td>\n",
       "      <td>...</td>\n",
       "      <td>...</td>\n",
       "      <td>...</td>\n",
       "    </tr>\n",
       "    <tr>\n",
       "      <th>14</th>\n",
       "      <td>bmw</td>\n",
       "      <td>sedan</td>\n",
       "      <td>103.5</td>\n",
       "      <td>193.8</td>\n",
       "      <td>ohc</td>\n",
       "      <td>six</td>\n",
       "      <td>182</td>\n",
       "      <td>16</td>\n",
       "      <td>41315.0</td>\n",
       "    </tr>\n",
       "    <tr>\n",
       "      <th>47</th>\n",
       "      <td>mercedes-benz</td>\n",
       "      <td>hardtop</td>\n",
       "      <td>112.0</td>\n",
       "      <td>199.2</td>\n",
       "      <td>ohcv</td>\n",
       "      <td>eight</td>\n",
       "      <td>184</td>\n",
       "      <td>14</td>\n",
       "      <td>45400.0</td>\n",
       "    </tr>\n",
       "    <tr>\n",
       "      <th>31</th>\n",
       "      <td>isuzu</td>\n",
       "      <td>sedan</td>\n",
       "      <td>94.5</td>\n",
       "      <td>155.9</td>\n",
       "      <td>ohc</td>\n",
       "      <td>four</td>\n",
       "      <td>70</td>\n",
       "      <td>38</td>\n",
       "      <td>NaN</td>\n",
       "    </tr>\n",
       "    <tr>\n",
       "      <th>32</th>\n",
       "      <td>isuzu</td>\n",
       "      <td>sedan</td>\n",
       "      <td>94.5</td>\n",
       "      <td>155.9</td>\n",
       "      <td>ohc</td>\n",
       "      <td>four</td>\n",
       "      <td>70</td>\n",
       "      <td>38</td>\n",
       "      <td>NaN</td>\n",
       "    </tr>\n",
       "    <tr>\n",
       "      <th>63</th>\n",
       "      <td>porsche</td>\n",
       "      <td>hatchback</td>\n",
       "      <td>98.4</td>\n",
       "      <td>175.7</td>\n",
       "      <td>dohcv</td>\n",
       "      <td>eight</td>\n",
       "      <td>288</td>\n",
       "      <td>17</td>\n",
       "      <td>NaN</td>\n",
       "    </tr>\n",
       "  </tbody>\n",
       "</table>\n",
       "<p>61 rows × 9 columns</p>\n",
       "</div>"
      ],
      "text/plain": [
       "             company body-style  wheel-base  length engine-type   \n",
       "index                                                             \n",
       "16         chevrolet  hatchback        88.4   141.1           l  \\\n",
       "36             mazda  hatchback        93.1   159.1         ohc   \n",
       "66            toyota  hatchback        95.7   158.7         ohc   \n",
       "49        mitsubishi  hatchback        93.7   157.3         ohc   \n",
       "37             mazda  hatchback        93.1   159.1         ohc   \n",
       "...              ...        ...         ...     ...         ...   \n",
       "14               bmw      sedan       103.5   193.8         ohc   \n",
       "47     mercedes-benz    hardtop       112.0   199.2        ohcv   \n",
       "31             isuzu      sedan        94.5   155.9         ohc   \n",
       "32             isuzu      sedan        94.5   155.9         ohc   \n",
       "63           porsche  hatchback        98.4   175.7       dohcv   \n",
       "\n",
       "      num-of-cylinders  horsepower  average-mileage    price  \n",
       "index                                                         \n",
       "16               three          48               47   5151.0  \n",
       "36                four          68               30   5195.0  \n",
       "66                four          62               35   5348.0  \n",
       "49                four          68               37   5389.0  \n",
       "37                four          68               31   6095.0  \n",
       "...                ...         ...              ...      ...  \n",
       "14                 six         182               16  41315.0  \n",
       "47               eight         184               14  45400.0  \n",
       "31                four          70               38      NaN  \n",
       "32                four          70               38      NaN  \n",
       "63               eight         288               17      NaN  \n",
       "\n",
       "[61 rows x 9 columns]"
      ]
     },
     "execution_count": 50,
     "metadata": {},
     "output_type": "execute_result"
    }
   ],
   "source": [
    "coches.sort_values('price')"
   ]
  }
 ],
 "metadata": {
  "kernelspec": {
   "display_name": "Python 3 (ipykernel)",
   "language": "python",
   "name": "python3"
  },
  "language_info": {
   "codemirror_mode": {
    "name": "ipython",
    "version": 3
   },
   "file_extension": ".py",
   "mimetype": "text/x-python",
   "name": "python",
   "nbconvert_exporter": "python",
   "pygments_lexer": "ipython3",
   "version": "3.10.10"
  }
 },
 "nbformat": 4,
 "nbformat_minor": 5
}
