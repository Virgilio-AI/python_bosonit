{
 "cells": [
  {
   "cell_type": "markdown",
   "id": "4f8157d3",
   "metadata": {},
   "source": [
    "## Ejercicios repaso Pandas"
   ]
  },
  {
   "cell_type": "code",
   "execution_count": 2,
   "id": "d1f054dc",
   "metadata": {
    "tags": []
   },
   "outputs": [],
   "source": [
    "import pandas as pd\n",
    "lst1 = ['gato', 'perro', 'ratón', 'elefante', 'rinoceronte']\n",
    "lst2 = [x for x in range(1,6)]"
   ]
  },
  {
   "cell_type": "markdown",
   "id": "f3a1b319",
   "metadata": {},
   "source": [
    "1. Convierte lst1 a un Series y lst2 a otro Series. Una vez creados, combinar los Series para crear un DataFrame"
   ]
  },
  {
   "cell_type": "code",
   "execution_count": 3,
   "id": "e5de42a1-2199-4736-b12a-c7dfcf81f879",
   "metadata": {
    "tags": []
   },
   "outputs": [
    {
     "name": "stdout",
     "output_type": "stream",
     "text": [
      "      animales  numeros\n",
      "0         gato        1\n",
      "1        perro        2\n",
      "2        ratón        3\n",
      "3     elefante        4\n",
      "4  rinoceronte        5\n"
     ]
    }
   ],
   "source": [
    "serie1 = pd.Series(lst1)\n",
    "serie2 = pd.Series(lst2)\n",
    "\n",
    "df = pd.DataFrame({'animales': serie1, 'numeros': serie2})\n",
    "\n",
    "print(df)"
   ]
  },
  {
   "cell_type": "markdown",
   "id": "37ee267c",
   "metadata": {},
   "source": [
    "2. Renombra la Series basada en lst1 creada previamente a \"animales\""
   ]
  },
  {
   "cell_type": "code",
   "execution_count": 5,
   "id": "ad3baa13-bbfe-4e39-8850-b10621b502af",
   "metadata": {
    "tags": []
   },
   "outputs": [
    {
     "name": "stdout",
     "output_type": "stream",
     "text": [
      "0           gato\n",
      "1          perro\n",
      "2          ratón\n",
      "3       elefante\n",
      "4    rinoceronte\n",
      "Name: animales, dtype: object\n"
     ]
    }
   ],
   "source": [
    "serie1 = serie1.rename('animales')\n",
    "print(serie1)"
   ]
  },
  {
   "cell_type": "markdown",
   "id": "49473b99",
   "metadata": {},
   "source": [
    "3. Crea dos series de tamaño 10 con valores entre 1 y 10. Elimina del series1 los elementos que aparezcan en Series2"
   ]
  },
  {
   "cell_type": "code",
   "execution_count": 7,
   "id": "da67c4b6-6e77-424d-9563-b2467d37d5b0",
   "metadata": {
    "tags": []
   },
   "outputs": [
    {
     "name": "stdout",
     "output_type": "stream",
     "text": [
      "0    1\n",
      "1    4\n",
      "2    2\n",
      "3    2\n",
      "4    5\n",
      "5    8\n",
      "6    3\n",
      "7    1\n",
      "8    6\n",
      "9    3\n",
      "dtype: int64 0     9\n",
      "1    10\n",
      "2     8\n",
      "3     2\n",
      "4     3\n",
      "5     7\n",
      "6     4\n",
      "7     5\n",
      "8     4\n",
      "9     5\n",
      "dtype: int64\n",
      "0    1\n",
      "7    1\n",
      "8    6\n",
      "dtype: int64\n"
     ]
    }
   ],
   "source": [
    "import numpy as np\n",
    "s1 = pd.Series(np.random.randint(1,11,size = 10))\n",
    "s2 = pd.Series(np.random.randint(1,11,size = 10))\n",
    "\n",
    "print(s1,s2)\n",
    "# eliminamos lo elementos de la primera serie que aparezcan en la segunda\n",
    "s1 = s1[~s1.isin(s2)]\n",
    "print(s1)"
   ]
  },
  {
   "cell_type": "markdown",
   "id": "548bcbb2",
   "metadata": {},
   "source": [
    "4. Obtén los elementos no comunes en ambas series"
   ]
  },
  {
   "cell_type": "code",
   "execution_count": 8,
   "id": "c3034f2d-4922-4860-be76-bf9e79dd393b",
   "metadata": {
    "tags": []
   },
   "outputs": [
    {
     "name": "stdout",
     "output_type": "stream",
     "text": [
      "0     True\n",
      "1    False\n",
      "2    False\n",
      "3    False\n",
      "4    False\n",
      "5    False\n",
      "6    False\n",
      "7     True\n",
      "8     True\n",
      "9    False\n",
      "dtype: bool\n"
     ]
    }
   ],
   "source": [
    "no_comunes = s1[~s1.isin(s2)] | s2[~s2.isin(s1) ]\n",
    "print(no_comunes)"
   ]
  },
  {
   "cell_type": "markdown",
   "id": "ebc0c811",
   "metadata": {},
   "source": [
    "5. Obtén el mínimo y los percentiles 25, 50, 75 y 80 de la primera serie"
   ]
  },
  {
   "cell_type": "code",
   "execution_count": 12,
   "id": "50125408-d0ef-40c1-885b-198e291312f8",
   "metadata": {
    "tags": []
   },
   "outputs": [
    {
     "name": "stdout",
     "output_type": "stream",
     "text": [
      "count     20.000000\n",
      "mean      49.000000\n",
      "std       31.109315\n",
      "min        9.000000\n",
      "25%       18.000000\n",
      "50%       47.500000\n",
      "75%       72.250000\n",
      "80%       79.600000\n",
      "max      100.000000\n",
      "dtype: float64\n"
     ]
    }
   ],
   "source": [
    "# Creamos la Serie\n",
    "serie1 = pd.Series(np.random.randint(1, 101, size=20))\n",
    "\n",
    "# Obtenemos el mínimo y los percentiles 25, 50, 75 y 80\n",
    "resultados = serie1.describe(percentiles=[0.25, 0.5, 0.75, 0.8])\n",
    "print(resultados)"
   ]
  },
  {
   "cell_type": "markdown",
   "id": "16c14a4f",
   "metadata": {},
   "source": [
    "6. Obtén la frecuencia con la que se repite cada valor"
   ]
  },
  {
   "cell_type": "code",
   "execution_count": 13,
   "id": "71979a2e-6434-4a1a-a5c0-49587525a17b",
   "metadata": {
    "tags": []
   },
   "outputs": [
    {
     "data": {
      "text/plain": [
       "14     3\n",
       "99     2\n",
       "32     1\n",
       "48     1\n",
       "27     1\n",
       "19     1\n",
       "70     1\n",
       "47     1\n",
       "82     1\n",
       "51     1\n",
       "79     1\n",
       "43     1\n",
       "15     1\n",
       "9      1\n",
       "100    1\n",
       "57     1\n",
       "61     1\n",
       "Name: count, dtype: int64"
      ]
     },
     "execution_count": 13,
     "metadata": {},
     "output_type": "execute_result"
    }
   ],
   "source": [
    "serie1.value_counts()"
   ]
  },
  {
   "cell_type": "markdown",
   "id": "13e8adcd",
   "metadata": {},
   "source": [
    "7. Mantén el valor de los dos elementos más repetidos y al resto asignale el valor \"Otros\""
   ]
  },
  {
   "cell_type": "code",
   "execution_count": 14,
   "id": "79b2956b-cdc1-49a0-961f-cacffa3b28e0",
   "metadata": {
    "tags": []
   },
   "outputs": [
    {
     "name": "stdout",
     "output_type": "stream",
     "text": [
      "0     otros\n",
      "1     otros\n",
      "2        14\n",
      "3     otros\n",
      "4     otros\n",
      "5     otros\n",
      "6     otros\n",
      "7     otros\n",
      "8     otros\n",
      "9        14\n",
      "10    otros\n",
      "11    otros\n",
      "12       14\n",
      "13       99\n",
      "14    otros\n",
      "15    otros\n",
      "16    otros\n",
      "17    otros\n",
      "18    otros\n",
      "19       99\n",
      "dtype: object\n"
     ]
    }
   ],
   "source": [
    "comunes = serie1.value_counts().head(2).index.tolist()\n",
    "\n",
    "serie1[~serie1.isin(comunes)] = 'otros'\n",
    "\n",
    "print(serie1)"
   ]
  },
  {
   "cell_type": "markdown",
   "id": "6f62999c",
   "metadata": {},
   "source": [
    "8. Crea un Series de tamaño 35 con valores aleatorios. Crea un DataFrame basado en este Series de dimensión 7 filas y 5 columnas"
   ]
  },
  {
   "cell_type": "code",
   "execution_count": 15,
   "id": "6e650452-4ae9-41ac-a27e-274243ab7f1c",
   "metadata": {
    "tags": []
   },
   "outputs": [
    {
     "name": "stdout",
     "output_type": "stream",
     "text": [
      "   0  1  2  3  4\n",
      "0  1  1  4  5  9\n",
      "1  6  6  8  6  3\n",
      "2  1  7  1  8  5\n",
      "3  1  7  8  6  1\n",
      "4  2  9  5  6  7\n",
      "5  5  7  9  9  8\n",
      "6  1  5  5  5  1\n"
     ]
    }
   ],
   "source": [
    "s1 = pd.Series(np.random.randint(1,10,size = 35))\n",
    "df = pd.DataFrame(s1.values.reshape(7,5))\n",
    "print(df)"
   ]
  },
  {
   "cell_type": "markdown",
   "id": "4aeca4e5",
   "metadata": {},
   "source": [
    "9. Partiendo de las series creadas en el *Ejercicio 1* apilar las dos series verticalmente."
   ]
  },
  {
   "cell_type": "code",
   "execution_count": 16,
   "id": "2a61f798-18a1-49a9-9b06-868316ffd7c4",
   "metadata": {
    "tags": []
   },
   "outputs": [
    {
     "name": "stdout",
     "output_type": "stream",
     "text": [
      "0           gato\n",
      "1          perro\n",
      "2          ratón\n",
      "3       elefante\n",
      "4    rinoceronte\n",
      "0              1\n",
      "1              2\n",
      "2              3\n",
      "3              4\n",
      "4              5\n",
      "dtype: object\n"
     ]
    }
   ],
   "source": [
    "serie1 = pd.Series(lst1)\n",
    "serie2 = pd.Series(lst2)\n",
    "apilado = pd.concat([serie1, serie2], axis=0)\n",
    "print(apilado)"
   ]
  },
  {
   "cell_type": "markdown",
   "id": "2bc5028a",
   "metadata": {},
   "source": [
    "10. Ahora apila horizontalmente"
   ]
  },
  {
   "cell_type": "code",
   "execution_count": 17,
   "id": "4310c8dd-569b-471c-a052-4755c1d07074",
   "metadata": {
    "tags": []
   },
   "outputs": [
    {
     "name": "stdout",
     "output_type": "stream",
     "text": [
      "             0  1\n",
      "0         gato  1\n",
      "1        perro  2\n",
      "2        ratón  3\n",
      "3     elefante  4\n",
      "4  rinoceronte  5\n"
     ]
    }
   ],
   "source": [
    "apilado = pd.concat([serie1, serie2], axis=1a)\n",
    "print(apilado)"
   ]
  },
  {
   "cell_type": "markdown",
   "id": "22a258c7",
   "metadata": {},
   "source": [
    "11. Cómo convertir en mayúscula el primer caracter de Series de animales"
   ]
  },
  {
   "cell_type": "code",
   "execution_count": 19,
   "id": "bcf9e530-2e39-4058-a83e-b2d3a78ff6da",
   "metadata": {
    "tags": []
   },
   "outputs": [
    {
     "name": "stdout",
     "output_type": "stream",
     "text": [
      "0           Gato\n",
      "1          Perro\n",
      "2          Ratón\n",
      "3       Elefante\n",
      "4    Rinoceronte\n",
      "dtype: object\n"
     ]
    }
   ],
   "source": [
    "def capitalizar_primera_letra(texto):\n",
    "    return texto.capitalize()\n",
    "animales = serie1\n",
    "animales = animales.apply(capitalizar_primera_letra)\n",
    "print(animales)"
   ]
  },
  {
   "cell_type": "markdown",
   "id": "4cefcc04",
   "metadata": {},
   "source": [
    "12. Calcula el número de caracteres de cada elemento"
   ]
  },
  {
   "cell_type": "code",
   "execution_count": 20,
   "id": "4e0d1a66-dd8e-42df-b16f-4c6d3c861601",
   "metadata": {
    "tags": []
   },
   "outputs": [
    {
     "name": "stdout",
     "output_type": "stream",
     "text": [
      "0     4\n",
      "1     5\n",
      "2     5\n",
      "3     8\n",
      "4    11\n",
      "dtype: int64\n"
     ]
    }
   ],
   "source": [
    "def longitud(texto):\n",
    "    return len(texto)\n",
    "longitudes = animales.apply(longitud)\n",
    "print(longitudes)"
   ]
  },
  {
   "cell_type": "markdown",
   "id": "05040d2c",
   "metadata": {},
   "source": [
    "13. Calcula la diferencia entre los valores de cada elemento consecutivo del Series numérico"
   ]
  },
  {
   "cell_type": "code",
   "execution_count": 27,
   "id": "ac5755e6-0a4f-4ab9-88e7-c65811c7c929",
   "metadata": {
    "tags": []
   },
   "outputs": [
    {
     "name": "stdout",
     "output_type": "stream",
     "text": [
      "0    1\n",
      "1    2\n",
      "2    3\n",
      "3    4\n",
      "4    5\n",
      "dtype: int64\n",
      "0    1\n",
      "1    1\n",
      "2    1\n",
      "3    1\n",
      "dtype: int64\n"
     ]
    }
   ],
   "source": [
    "numeros = pd.Series(lst2)\n",
    "\n",
    "diferencias = pd.Series([numeros.iloc[i+1] - numeros.iloc[i] for i in range(len(numeros)-1)])\n",
    "print(numeros)\n",
    "print(diferencias)"
   ]
  },
  {
   "cell_type": "markdown",
   "id": "16d1e640",
   "metadata": {},
   "source": [
    "14. Dada la lista siguiente de fechas, carga un Series de string a datetime\n",
    "['2015-08-06T12:20', '2012-04-02', '2021/01/03', '20191121', '01-12-2015', '04 Jan 2007']"
   ]
  },
  {
   "cell_type": "code",
   "execution_count": 31,
   "id": "15f1b252-c4b2-4b1e-9326-bd6d0c1912ca",
   "metadata": {
    "tags": []
   },
   "outputs": [
    {
     "name": "stdout",
     "output_type": "stream",
     "text": [
      "0    2015-08-06T12:20\n",
      "1    2012-04-02T00:00\n",
      "2    2021-01-03T00:00\n",
      "3    2019-11-21T00:00\n",
      "4    2015-12-01T00:00\n",
      "5    2007-01-04T00:00\n",
      "dtype: object\n"
     ]
    }
   ],
   "source": [
    "fechas = pd.Series(['2015-08-06T12:20', '2012-04-02', '2021/01/03', '20191121', '01-12-2015', '04 Jan 2007'])\n",
    "\n",
    "# Definir una función para intentar varios formatos de fecha y devolver el primer formato válido\n",
    "def try_parsing_date(text):\n",
    "    for fmt in ('%Y-%m-%dT%H:%M', '%Y-%m-%d', '%Y/%m/%d', '%Y%m%d', '%d-%m-%Y', '%d %b %Y'):\n",
    "        try:\n",
    "            return pd.to_datetime(text, format=fmt)\n",
    "        except ValueError:\n",
    "            pass\n",
    "    raise ValueError(f'No se pudo convertir la fecha: {text}')\n",
    "\n",
    "# Aplicar la función a cada elemento de la serie\n",
    "fechas_convertidas = fechas.apply(try_parsing_date)\n",
    "\n",
    "# Cambiar el formato a '%Y-%m-%dT%H:%M'\n",
    "fechas_formateadas = fechas_convertidas.dt.strftime('%Y-%m-%dT%H:%M')\n",
    "\n",
    "print(fechas_formateadas)"
   ]
  },
  {
   "cell_type": "markdown",
   "id": "dcdc6ddb",
   "metadata": {},
   "source": [
    "15. Obtén el día del año del Series anterior"
   ]
  },
  {
   "cell_type": "code",
   "execution_count": 32,
   "id": "64627f52-a606-4f10-a1e0-49e5607e299a",
   "metadata": {
    "tags": []
   },
   "outputs": [
    {
     "name": "stdout",
     "output_type": "stream",
     "text": [
      "0    218\n",
      "1     93\n",
      "2      3\n",
      "3    325\n",
      "4    335\n",
      "5      4\n",
      "dtype: int32\n"
     ]
    }
   ],
   "source": [
    "fechas_dt = pd.to_datetime(fechas_formateadas)\n",
    "dias_del_año = fechas_dt.dt.dayofyear\n",
    "\n",
    "print(dias_del_año)"
   ]
  },
  {
   "cell_type": "markdown",
   "id": "f46a8e66",
   "metadata": {},
   "source": [
    "16. Obtén el día de la semana"
   ]
  },
  {
   "cell_type": "code",
   "execution_count": 33,
   "id": "fa5806ac-43d4-4d34-bc09-bdaf9a3b0318",
   "metadata": {
    "tags": []
   },
   "outputs": [
    {
     "name": "stdout",
     "output_type": "stream",
     "text": [
      "0    3\n",
      "1    0\n",
      "2    6\n",
      "3    3\n",
      "4    1\n",
      "5    3\n",
      "dtype: int32\n",
      "0    Thursday\n",
      "1      Monday\n",
      "2      Sunday\n",
      "3    Thursday\n",
      "4     Tuesday\n",
      "5    Thursday\n",
      "dtype: object\n"
     ]
    }
   ],
   "source": [
    "dias_de_la_semana_numeros = fechas_dt.dt.dayofweek\n",
    "dias_de_la_semana_nombres = fechas_dt.dt.strftime('%A')\n",
    "\n",
    "print(dias_de_la_semana_numeros)\n",
    "print(dias_de_la_semana_nombres)"
   ]
  },
  {
   "cell_type": "markdown",
   "id": "d9890155",
   "metadata": {},
   "source": [
    "17. Crea un DataFrame basado en un Series de 10 elementos que se genere aleatoriamente entre \"manzana\", \"plátano\", \"zanahoria\" y pesos que sea un Series de 10 elementos aleatorios entre 1 y 10. Calcula la media del peso por fruta."
   ]
  },
  {
   "cell_type": "code",
   "execution_count": 34,
   "id": "c0fc3e60-1b8c-450b-9054-c6dc43aaf0c0",
   "metadata": {
    "tags": []
   },
   "outputs": [
    {
     "name": "stdout",
     "output_type": "stream",
     "text": [
      "               peso\n",
      "fruta              \n",
      "manzana    7.000000\n",
      "plátano    5.500000\n",
      "zanahoria  8.333333\n"
     ]
    }
   ],
   "source": [
    "frutas = pd.Series(np.random.choice(['manzana', 'plátano', 'zanahoria'], 10))\n",
    "pesos = pd.Series(np.random.randint(1, 11, 10))\n",
    "df = pd.DataFrame({'fruta': frutas, 'peso': pesos})\n",
    "media_peso_por_fruta = df.groupby('fruta').mean()\n",
    "\n",
    "print(media_peso_por_fruta)"
   ]
  },
  {
   "cell_type": "markdown",
   "id": "1eedeed1",
   "metadata": {},
   "source": [
    "18. Crea un Series que contenga los 10 primeros lunes de 2022 como índice y un número aleatorio como valor"
   ]
  },
  {
   "cell_type": "code",
   "execution_count": 35,
   "id": "2be06d98-fb74-499f-9eb0-df2650a45ea4",
   "metadata": {
    "tags": []
   },
   "outputs": [
    {
     "name": "stdout",
     "output_type": "stream",
     "text": [
      "2022-01-03    0.093200\n",
      "2022-01-10    0.605607\n",
      "2022-01-17    0.591034\n",
      "2022-01-24    0.767764\n",
      "2022-01-31    0.412314\n",
      "2022-02-07    0.376368\n",
      "2022-02-14    0.531030\n",
      "2022-02-21    0.019900\n",
      "2022-02-28    0.810151\n",
      "2022-03-07    0.462699\n",
      "Freq: W-MON, dtype: float64\n"
     ]
    }
   ],
   "source": [
    "fechas = pd.date_range(start='2022-01-03', periods=10, freq='W-MON')\n",
    "valores = np.random.rand(10)\n",
    "serie_lunes = pd.Series(valores, index=fechas)\n",
    "print(serie_lunes)"
   ]
  },
  {
   "cell_type": "markdown",
   "id": "f2eaa4e8",
   "metadata": {},
   "source": [
    "19. Crea un DataFrame basado en el Series del *Ejercicio 18* con las columnas llamadas fecha y precio"
   ]
  },
  {
   "cell_type": "code",
   "execution_count": 36,
   "id": "39e0e7f8-35ef-430b-a917-5191bbf4794d",
   "metadata": {
    "tags": []
   },
   "outputs": [
    {
     "name": "stdout",
     "output_type": "stream",
     "text": [
      "       fecha    precio\n",
      "0 2022-01-03  0.093200\n",
      "1 2022-01-10  0.605607\n",
      "2 2022-01-17  0.591034\n",
      "3 2022-01-24  0.767764\n",
      "4 2022-01-31  0.412314\n",
      "5 2022-02-07  0.376368\n",
      "6 2022-02-14  0.531030\n",
      "7 2022-02-21  0.019900\n",
      "8 2022-02-28  0.810151\n",
      "9 2022-03-07  0.462699\n"
     ]
    }
   ],
   "source": [
    "df = pd.DataFrame({'fecha': serie_lunes.index, 'precio': serie_lunes.values})\n",
    "print(df)"
   ]
  },
  {
   "cell_type": "markdown",
   "id": "f0b3989c",
   "metadata": {},
   "source": [
    "20. Genera un DataFrame de 5x5 y posteriormente invierte el orden de los valores de sus filas"
   ]
  },
  {
   "cell_type": "code",
   "execution_count": 38,
   "id": "0431c954-c81b-4497-9a42-473bfa16b7cc",
   "metadata": {
    "tags": []
   },
   "outputs": [
    {
     "name": "stdout",
     "output_type": "stream",
     "text": [
      "          0         1         2         3         4\n",
      "0  0.677621  0.434453  0.912577  0.154754  0.733404\n",
      "1  0.716029  0.133005  0.999546  0.015498  0.934117\n",
      "2  0.203348  0.358784  0.085867  0.217220  0.184255\n",
      "3  0.510183  0.571786  0.270658  0.897728  0.145764\n",
      "4  0.821887  0.336637  0.909481  0.370858  0.771770\n"
     ]
    }
   ],
   "source": [
    "df = pd.DataFrame(np.random.rand(5, 5))\n",
    "\n",
    "df_invertido = df.iloc[::-1].reset_index(drop=True)\n",
    "print(df_invertido)"
   ]
  },
  {
   "cell_type": "markdown",
   "id": "27ca9a3f",
   "metadata": {},
   "source": [
    "21. Añade una nueva columna que sea el máximo entre el mínimo de cada fila"
   ]
  },
  {
   "cell_type": "code",
   "execution_count": 39,
   "id": "87837090-59eb-4a62-b43b-8e8df9eda503",
   "metadata": {
    "tags": []
   },
   "outputs": [
    {
     "name": "stdout",
     "output_type": "stream",
     "text": [
      "          0         1         2         3         4   max_min\n",
      "0  0.821887  0.336637  0.909481  0.370858  0.771770  0.336637\n",
      "1  0.510183  0.571786  0.270658  0.897728  0.145764  0.336637\n",
      "2  0.203348  0.358784  0.085867  0.217220  0.184255  0.336637\n",
      "3  0.716029  0.133005  0.999546  0.015498  0.934117  0.336637\n",
      "4  0.677621  0.434453  0.912577  0.154754  0.733404  0.336637\n"
     ]
    }
   ],
   "source": [
    "df['max_min'] = df.min(axis=1).max()\n",
    "print(df)"
   ]
  }
 ],
 "metadata": {
  "kernelspec": {
   "display_name": "Python 3 (ipykernel)",
   "language": "python",
   "name": "python3"
  },
  "language_info": {
   "codemirror_mode": {
    "name": "ipython",
    "version": 3
   },
   "file_extension": ".py",
   "mimetype": "text/x-python",
   "name": "python",
   "nbconvert_exporter": "python",
   "pygments_lexer": "ipython3",
   "version": "3.10.10"
  }
 },
 "nbformat": 4,
 "nbformat_minor": 5
}
