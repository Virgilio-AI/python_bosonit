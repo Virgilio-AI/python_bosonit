{
 "cells": [
  {
   "cell_type": "markdown",
   "id": "960cea4e",
   "metadata": {},
   "source": [
    "# Ejercicios repaso tipos y operadores\n",
    "\n",
    "\n",
    "## Ejercicio 1\n",
    "\n",
    "Calcular el área y el volumen de un cilindro de 2 m de radio y 3 m de altura. Se puede utilizar $\\pi$ como una variable más escribiendo *math.pi*."
   ]
  },
  {
   "cell_type": "code",
   "execution_count": 1,
   "id": "a5824fe7",
   "metadata": {},
   "outputs": [
    {
     "name": "stdout",
     "output_type": "stream",
     "text": [
      "Área del cilindro: 62.83 metros cuadrados\n",
      "Volumen del cilindro: 37.70 metros cúbicos\n"
     ]
    }
   ],
   "source": [
    "import math\n",
    "r = 2  \n",
    "h = 3  \n",
    "\n",
    "area = 2 * math.pi * r * h + 2 * math.pi * r**2\n",
    "\n",
    "volumen = math.pi * r**2 * h\n",
    "\n",
    "print(\"Área del cilindro: {:.2f} metros cuadrados\".format(area))\n",
    "print(\"Volumen del cilindro: {:.2f} metros cúbicos\".format(volumen))"
   ]
  },
  {
   "cell_type": "markdown",
   "id": "7cfc5918",
   "metadata": {},
   "source": [
    "## Ejercicio 2\n",
    "\n",
    "Resolver la ecuación\n",
    "\n",
    "$$7x^2+21x-28 = 0$$\n",
    "y mostrar por pantalla el resultado."
   ]
  },
  {
   "cell_type": "code",
   "execution_count": 3,
   "id": "2f226c0c",
   "metadata": {},
   "outputs": [
    {
     "name": "stdout",
     "output_type": "stream",
     "text": [
      "Las raíces de la ecuación son: 1.00 y -4.00\n"
     ]
    }
   ],
   "source": [
    "a = 7\n",
    "b = 21\n",
    "c = -28\n",
    "\n",
    "tosquare = b**2 - 4*a*c\n",
    "\n",
    "\n",
    "if tosquare >= 0:\n",
    "    x1 = (-b + math.sqrt(tosquare)) / (2*a)\n",
    "    x2 = (-b - math.sqrt(tosquare)) / (2*a)\n",
    "\n",
    "\n",
    "    print(\"Las raíces de la ecuación son: {:.2f} y {:.2f}\".format(x1, x2))\n",
    "else:\n",
    "    print(\"La ecuación no tiene soluciones reales\")"
   ]
  },
  {
   "cell_type": "markdown",
   "id": "532ccd61",
   "metadata": {},
   "source": [
    "## Ejercicio 3\n",
    "\n",
    "Mostrar por pantalla los números del 0 al 10 junto con una anotación que diga si el número es par o impar."
   ]
  },
  {
   "cell_type": "code",
   "execution_count": 4,
   "id": "1fc3ce39",
   "metadata": {},
   "outputs": [
    {
     "name": "stdout",
     "output_type": "stream",
     "text": [
      "par 0\n",
      "impar 1\n",
      "par 2\n",
      "impar 3\n",
      "par 4\n",
      "impar 5\n",
      "par 6\n",
      "impar 7\n",
      "par 8\n",
      "impar 9\n",
      "par 10\n"
     ]
    }
   ],
   "source": [
    "for i in range(11):\n",
    "    if i % 2 == 0:\n",
    "        print(\"par\",i)\n",
    "    else:\n",
    "        print(\"impar\",i)"
   ]
  },
  {
   "cell_type": "markdown",
   "id": "a48078db",
   "metadata": {},
   "source": [
    "## Ejercicio 4\n",
    "\n",
    "Mostrar por pantalla las tablas de multiplicar del 7, el 8 y el 9. El formato debe ser \"7x1 = 7\""
   ]
  },
  {
   "cell_type": "code",
   "execution_count": 5,
   "id": "91607100",
   "metadata": {},
   "outputs": [
    {
     "name": "stdout",
     "output_type": "stream",
     "text": [
      "Tabla de multiplicar del 7:\n",
      "7 x 1 = 7\n",
      "7 x 2 = 14\n",
      "7 x 3 = 21\n",
      "7 x 4 = 28\n",
      "7 x 5 = 35\n",
      "7 x 6 = 42\n",
      "7 x 7 = 49\n",
      "7 x 8 = 56\n",
      "7 x 9 = 63\n",
      "7 x 10 = 70\n",
      "\n",
      "Tabla de multiplicar del 8:\n",
      "8 x 1 = 8\n",
      "8 x 2 = 16\n",
      "8 x 3 = 24\n",
      "8 x 4 = 32\n",
      "8 x 5 = 40\n",
      "8 x 6 = 48\n",
      "8 x 7 = 56\n",
      "8 x 8 = 64\n",
      "8 x 9 = 72\n",
      "8 x 10 = 80\n",
      "\n",
      "Tabla de multiplicar del 9:\n",
      "9 x 1 = 9\n",
      "9 x 2 = 18\n",
      "9 x 3 = 27\n",
      "9 x 4 = 36\n",
      "9 x 5 = 45\n",
      "9 x 6 = 54\n",
      "9 x 7 = 63\n",
      "9 x 8 = 72\n",
      "9 x 9 = 81\n",
      "9 x 10 = 90\n"
     ]
    }
   ],
   "source": [
    "# Mostrar la tabla de multiplicar del 7\n",
    "print(\"Tabla de multiplicar del 7:\")\n",
    "for i in range(1, 11):\n",
    "    print(\"7 x {} = {}\".format(i, 7*i))\n",
    "\n",
    "# Mostrar la tabla de multiplicar del 8\n",
    "print(\"\\nTabla de multiplicar del 8:\")\n",
    "for i in range(1, 11):\n",
    "    print(\"8 x {} = {}\".format(i, 8*i))\n",
    "\n",
    "# Mostrar la tabla de multiplicar del 9\n",
    "print(\"\\nTabla de multiplicar del 9:\")\n",
    "for i in range(1, 11):\n",
    "    print(\"9 x {} = {}\".format(i, 9*i))\n"
   ]
  },
  {
   "cell_type": "markdown",
   "id": "9141d66a",
   "metadata": {},
   "source": [
    "## Ejercicio 5\n",
    "\n",
    "Extraer el segundo y tercer elemento de lista y calcular su producto."
   ]
  },
  {
   "cell_type": "code",
   "execution_count": 6,
   "id": "b40a65f2",
   "metadata": {},
   "outputs": [
    {
     "name": "stdout",
     "output_type": "stream",
     "text": [
      "El producto del segundo y tercer elemento de la lista es: 6\n"
     ]
    }
   ],
   "source": [
    "# Definir la lista\n",
    "lista = [1, 2, 3, 4, 5]\n",
    "\n",
    "# Extraer el segundo y tercer elemento\n",
    "segundo = lista[1]\n",
    "tercero = lista[2]\n",
    "\n",
    "# Calcular el producto\n",
    "producto = segundo * tercero\n",
    "\n",
    "# Mostrar el resultado\n",
    "print(\"El producto del segundo y tercer elemento de la lista es:\", producto)\n"
   ]
  },
  {
   "cell_type": "markdown",
   "id": "6e3b2e74",
   "metadata": {},
   "source": [
    "## Ejercicio 6\n",
    "\n",
    "Mostrar todos los elementos de la lista"
   ]
  },
  {
   "cell_type": "code",
   "execution_count": 7,
   "id": "09caf7b1",
   "metadata": {},
   "outputs": [
    {
     "name": "stdout",
     "output_type": "stream",
     "text": [
      "[1, 2, 3, 4, 5]\n"
     ]
    }
   ],
   "source": [
    "print(lista)"
   ]
  },
  {
   "cell_type": "markdown",
   "id": "0501a56d",
   "metadata": {},
   "source": [
    "## Ejercicio 7\n",
    "\n",
    "Calcular la suma de los N primeros números pares"
   ]
  },
  {
   "cell_type": "code",
   "execution_count": 8,
   "id": "fa8680f3",
   "metadata": {},
   "outputs": [],
   "source": [
    "# Definir el número de elementos a sumar\n",
    "N = 10\n",
    "\n",
    "# Inicializar la suma en cero\n",
    "suma = 0"
   ]
  },
  {
   "cell_type": "code",
   "execution_count": 9,
   "id": "1c2c67f3",
   "metadata": {},
   "outputs": [
    {
     "name": "stdout",
     "output_type": "stream",
     "text": [
      "La suma de los primeros 10 números pares es: 110\n"
     ]
    }
   ],
   "source": [
    "# Calcular la suma de los N primeros números pares\n",
    "for i in range(1, 2*N+1):\n",
    "    if i % 2 == 0:\n",
    "        suma += i\n",
    "\n",
    "# Mostrar el resultado\n",
    "print(\"La suma de los primeros\", N, \"números pares es:\", suma)"
   ]
  },
  {
   "cell_type": "markdown",
   "id": "31e5e27f",
   "metadata": {},
   "source": [
    "## Ejercicio 8\n",
    "\n",
    "Calcular el máximo, el mínimo y la media de una lista de enteros."
   ]
  },
  {
   "cell_type": "code",
   "execution_count": 10,
   "id": "2b8c9ae2",
   "metadata": {},
   "outputs": [
    {
     "name": "stdout",
     "output_type": "stream",
     "text": [
      "El máximo de la lista es: 30\n",
      "El mínimo de la lista es: 5\n",
      "La media de la lista es: 17.5\n"
     ]
    }
   ],
   "source": [
    "# Definir la lista de enteros\n",
    "lista = [10, 5, 20, 15, 30, 25]\n",
    "\n",
    "# Calcular el máximo\n",
    "maximo = max(lista)\n",
    "\n",
    "# Calcular el mínimo\n",
    "minimo = min(lista)\n",
    "\n",
    "# Calcular la media\n",
    "media = sum(lista) / len(lista)\n",
    "\n",
    "# Mostrar los resultados\n",
    "print(\"El máximo de la lista es:\", maximo)\n",
    "print(\"El mínimo de la lista es:\", minimo)\n",
    "print(\"La media de la lista es:\", media)\n"
   ]
  },
  {
   "cell_type": "markdown",
   "id": "652e251c",
   "metadata": {},
   "source": [
    "## Ejercicio 9\n",
    "\n",
    "Dado un número entero $n$, comprobar si el número es primo."
   ]
  },
  {
   "cell_type": "code",
   "execution_count": 11,
   "id": "26c793a2",
   "metadata": {},
   "outputs": [
    {
     "name": "stdout",
     "output_type": "stream",
     "text": [
      "17 es un número primo\n"
     ]
    }
   ],
   "source": [
    "# Definir el número entero a comprobar\n",
    "n = 17\n",
    "\n",
    "# Inicializar una variable para comprobar si es primo\n",
    "es_primo = True\n",
    "\n",
    "# Comprobar si el número es primo\n",
    "for i in range(2, n):\n",
    "    if n % i == 0:\n",
    "        es_primo = False\n",
    "        break\n",
    "\n",
    "# Mostrar el resultado\n",
    "if es_primo:\n",
    "    print(n, \"es un número primo\")\n",
    "else:\n",
    "    print(n, \"no es un número primo\")"
   ]
  },
  {
   "cell_type": "markdown",
   "id": "465042b6",
   "metadata": {},
   "source": [
    "## Ejercicio 10\n",
    "\n",
    "Queremos crear una máquina que de el cambio de lo que han pagado a nuestros clientes. Supondremos que nuestros depósitos de billetes de cualquier tipo son ilimitados y que el máximo billete es de 50€. A partir del dinero entregado y el precio de la compra, sacaremos por pantalla el cambio óptimo."
   ]
  },
  {
   "cell_type": "code",
   "execution_count": 12,
   "id": "6f99b17f",
   "metadata": {},
   "outputs": [
    {
     "name": "stdout",
     "output_type": "stream",
     "text": [
      "Cambio:\n",
      "1 billetes de 20 euros\n",
      "1 billetes de 5 euros\n"
     ]
    }
   ],
   "source": [
    "# Definir el precio de la compra y el dinero entregado por el cliente\n",
    "precio = 24.99\n",
    "dinero_entregado = 50.0\n",
    "\n",
    "# Calcular el cambio\n",
    "cambio = dinero_entregado - precio\n",
    "\n",
    "# Definir los tipos de billetes y sus valores\n",
    "billetes = [50, 20, 10, 5, 2, 1]\n",
    "\n",
    "# Calcular la cantidad de billetes de cada tipo para el cambio\n",
    "cantidad_billetes = []\n",
    "for billete in billetes:\n",
    "    cantidad = cambio // billete\n",
    "    cantidad_billetes.append(int(cantidad))\n",
    "    cambio %= billete\n",
    "\n",
    "# Mostrar el resultado\n",
    "print(\"Cambio:\")\n",
    "for i in range(len(billetes)):\n",
    "    if cantidad_billetes[i] > 0:\n",
    "        print(cantidad_billetes[i], \"billetes de\", billetes[i], \"euros\")\n"
   ]
  },
  {
   "cell_type": "markdown",
   "id": "aa5d97a4",
   "metadata": {},
   "source": [
    "## Ejercicio 11\n",
    "\n",
    "Crear un módulo de validación de nombres de usuario. Las condciones de un nombre de usuario son las siguientes:\n",
    "\n",
    "+ Longitud mayor que 6 caracteres.\n",
    "+ Longitud menor que 13 caracteres\n",
    "+ El nombre de usuario debe ser alfanumérico.\n",
    "\n",
    "En caso de que el nombre de usuario sea válido se mostrará por pantalla \"Usuario válido\". En caso de encontrarnos con algún error. "
   ]
  },
  {
   "cell_type": "code",
   "execution_count": 13,
   "id": "d17a8d75",
   "metadata": {},
   "outputs": [
    {
     "name": "stdout",
     "output_type": "stream",
     "text": [
      "Cambio:\n",
      "1 billetes de 20 euros\n",
      "1 billetes de 5 euros\n"
     ]
    }
   ],
   "source": [
    "# Definir el precio de la compra y el dinero entregado por el cliente\n",
    "precio = 24.99\n",
    "dinero_entregado = 50.0\n",
    "\n",
    "# Calcular el cambio\n",
    "cambio = dinero_entregado - precio\n",
    "\n",
    "# Definir los tipos de billetes y sus valores\n",
    "billetes = [50, 20, 10, 5, 2, 1]\n",
    "\n",
    "# Calcular la cantidad de billetes de cada tipo para el cambio\n",
    "cantidad_billetes = []\n",
    "for billete in billetes:\n",
    "    cantidad = cambio // billete\n",
    "    cantidad_billetes.append(int(cantidad))\n",
    "    cambio %= billete\n",
    "\n",
    "# Mostrar el resultado\n",
    "print(\"Cambio:\")\n",
    "for i in range(len(billetes)):\n",
    "    if cantidad_billetes[i] > 0:\n",
    "        print(cantidad_billetes[i], \"billetes de\", billetes[i], \"euros\")"
   ]
  },
  {
   "cell_type": "markdown",
   "id": "bb4f9216",
   "metadata": {},
   "source": [
    "## Ejercicio 12\n",
    "\n",
    "Crear un módulo de validación de contraseñas. La contraseña debe cumplir los siguientes requisitos:\n",
    "\n",
    "+ La contraseña debe tener un mínimo de 8 caracteres.\n",
    "+ La contraseña debe contener mayúsculas, minúsculas, números y al menos un caracter no alfanumérico.\n",
    "+ La contraseña no debe tener espacios en blanco.\n",
    "\n",
    "Si la contraseña es válida se mostrará un mensaje por pantalla y en caso de no serlo se mostrarán los requisitos incumplidos.\n",
    "\n",
    "\n"
   ]
  },
  {
   "cell_type": "code",
   "execution_count": 14,
   "id": "3182c55a",
   "metadata": {},
   "outputs": [
    {
     "name": "stdout",
     "output_type": "stream",
     "text": [
      "La contraseña es válida.\n"
     ]
    },
    {
     "data": {
      "text/plain": [
       "True"
      ]
     },
     "execution_count": 14,
     "metadata": {},
     "output_type": "execute_result"
    }
   ],
   "source": [
    "def validar_contraseña(contraseña):\n",
    "    if len(contraseña) < 8:\n",
    "        print(\"La contraseña debe tener un mínimo de 8 caracteres.\")\n",
    "        return False\n",
    "    if not any(caracter.isupper() for caracter in contraseña):\n",
    "        print(\"La contraseña debe contener al menos una mayúscula.\")\n",
    "        return False\n",
    "    if not any(caracter.islower() for caracter in contraseña):\n",
    "        print(\"La contraseña debe contener al menos una minúscula.\")\n",
    "        return False\n",
    "    if not any(caracter.isdigit() for caracter in contraseña):\n",
    "        print(\"La contraseña debe contener al menos un número.\")\n",
    "        return False\n",
    "    if not any(not caracter.isalnum() for caracter in contraseña):\n",
    "        print(\"La contraseña debe contener al menos un caracter no alfanumérico.\")\n",
    "        return False\n",
    "    if ' ' in contraseña:\n",
    "        print(\"La contraseña no debe tener espacios en blanco.\")\n",
    "        return False\n",
    "    print(\"La contraseña es válida.\")\n",
    "    return True\n",
    "contraseña = \"Abc123!$\"\n",
    "validar_contraseña(contraseña)"
   ]
  },
  {
   "cell_type": "markdown",
   "id": "2c01ce00",
   "metadata": {},
   "source": [
    "## Ejercicio 13\n",
    "\n",
    "Crear un módulo de validación de DNI con expresiones regulares (*regex*). Las condiciones del DNI deben de ser las siguientes:\n",
    "+ El DNI debe de contener exactamente 9 caracteres.\n",
    "+ Los 8 primeros caracteres del DNI deben de ser números.\n",
    "+ El caracter final del DNI debe de ser una letra.\n",
    "\n",
    "Si el DNI es válido, se mostrará un mensaje por pantalla \"DNI Válido\". De lo contrario se mostrará un mensaje de error."
   ]
  },
  {
   "cell_type": "code",
   "execution_count": 16,
   "id": "82e079bc",
   "metadata": {},
   "outputs": [
    {
     "name": "stdout",
     "output_type": "stream",
     "text": [
      "DNI Válido\n"
     ]
    },
    {
     "data": {
      "text/plain": [
       "True"
      ]
     },
     "execution_count": 16,
     "metadata": {},
     "output_type": "execute_result"
    }
   ],
   "source": [
    "import re\n",
    "\n",
    "def validar_dni(dni):\n",
    "    patron = r'^\\d{8}[A-Z]$'\n",
    "    if not re.match(patron, dni):\n",
    "        print(\"DNI Inválido\")\n",
    "        return False\n",
    "    else:\n",
    "        print(\"DNI Válido\")\n",
    "        return True\n",
    "    \n",
    "dni = '12345678Z'\n",
    "validar_dni(dni)"
   ]
  },
  {
   "cell_type": "markdown",
   "id": "7ae4bec9",
   "metadata": {},
   "source": [
    "## Ejercicio 14\n",
    "Imprime un string con los caracteres de las posiciones en índices pares"
   ]
  },
  {
   "cell_type": "code",
   "execution_count": 17,
   "id": "adf1c131",
   "metadata": {},
   "outputs": [
    {
     "name": "stdout",
     "output_type": "stream",
     "text": [
      "Hl ud\n"
     ]
    }
   ],
   "source": [
    "cadena = \"Hola mundo\"\n",
    "resultado = \"\"\n",
    "for i in range(0, len(cadena), 2):\n",
    "    resultado += cadena[i]\n",
    "print(resultado)"
   ]
  },
  {
   "cell_type": "markdown",
   "id": "b3044b85",
   "metadata": {},
   "source": [
    "## Ejercicio 15\n",
    "Existiendo dos listas, devolver *True* si el primer y último elemento de las dos listas son iguales"
   ]
  },
  {
   "cell_type": "code",
   "execution_count": 18,
   "id": "e45d3a72",
   "metadata": {},
   "outputs": [
    {
     "name": "stdout",
     "output_type": "stream",
     "text": [
      "False\n"
     ]
    }
   ],
   "source": [
    "lista1 = [1, 2, 3, 4, 5]\n",
    "lista2 = [6, 7, 8, 9, 1]\n",
    "\n",
    "if lista1[0] == lista2[0] and lista1[-1] == lista2[-1]:\n",
    "    print(True)\n",
    "else:\n",
    "    print(False)"
   ]
  },
  {
   "cell_type": "markdown",
   "id": "4f66c995",
   "metadata": {},
   "source": [
    "## Ejercicio 16\n",
    "Dado una lista devolver otra lista con los elementos que son divisibles entre 5"
   ]
  },
  {
   "cell_type": "code",
   "execution_count": 19,
   "id": "20c7e7b8",
   "metadata": {},
   "outputs": [
    {
     "name": "stdout",
     "output_type": "stream",
     "text": [
      "[10, 5, 20, 25, 30, 15]\n"
     ]
    }
   ],
   "source": [
    "lista = [10, 3, 5, 20, 25, 30, 8, 15]\n",
    "nueva_lista = []\n",
    "for elemento in lista:\n",
    "    if elemento % 5 == 0:\n",
    "        nueva_lista.append(elemento)\n",
    "print(nueva_lista)"
   ]
  },
  {
   "cell_type": "markdown",
   "id": "38437c20",
   "metadata": {},
   "source": [
    "## Ejercicio 17\n",
    "Devolver *True* si el número recibido es un palíndromo"
   ]
  },
  {
   "cell_type": "code",
   "execution_count": 20,
   "id": "81fc0201",
   "metadata": {},
   "outputs": [
    {
     "name": "stdout",
     "output_type": "stream",
     "text": [
      "True\n"
     ]
    }
   ],
   "source": [
    "numero = 1221\n",
    "\n",
    "if str(numero) == str(numero)[::-1]:\n",
    "    print(True)\n",
    "else:\n",
    "    print(False)"
   ]
  },
  {
   "cell_type": "markdown",
   "id": "325c8280",
   "metadata": {},
   "source": [
    "## Ejercicio 18\n",
    "Calcular el impuesto de cada producto según su precio\n",
    "+ De 0 hasta 10.000€ --> 10% impuesto\n",
    "+ De 10.001 hasta 24.999€ --> 15% impuesto\n",
    "+ A partir de 25.000€ --> 20% impuesto"
   ]
  },
  {
   "cell_type": "code",
   "execution_count": 21,
   "id": "a579e81d",
   "metadata": {},
   "outputs": [
    {
     "name": "stdout",
     "output_type": "stream",
     "text": [
      "El impuesto para un producto de 15000 euros es de 2250.0 euros.\n"
     ]
    }
   ],
   "source": [
    "precio = 15000\n",
    "\n",
    "if precio <= 10000:\n",
    "    impuesto = precio * 0.1\n",
    "elif precio <= 24999:\n",
    "    impuesto = precio * 0.15\n",
    "else:\n",
    "    impuesto = precio * 0.2\n",
    "\n",
    "print(\"El impuesto para un producto de\", precio, \"euros es de\", impuesto, \"euros.\")"
   ]
  }
 ],
 "metadata": {
  "kernelspec": {
   "display_name": "Python 3 (ipykernel)",
   "language": "python",
   "name": "python3"
  },
  "language_info": {
   "codemirror_mode": {
    "name": "ipython",
    "version": 3
   },
   "file_extension": ".py",
   "mimetype": "text/x-python",
   "name": "python",
   "nbconvert_exporter": "python",
   "pygments_lexer": "ipython3",
   "version": "3.10.10"
  }
 },
 "nbformat": 4,
 "nbformat_minor": 5
}
