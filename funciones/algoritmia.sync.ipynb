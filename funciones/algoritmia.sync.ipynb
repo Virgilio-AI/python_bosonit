{
 "cells": [
  {
   "cell_type": "markdown",
   "id": "ea49e62f",
   "metadata": {},
   "source": [
    "# Setup"
   ]
  },
  {
   "cell_type": "markdown",
   "id": "72629e18",
   "metadata": {},
   "source": [
    "## imports"
   ]
  },
  {
   "cell_type": "code",
   "execution_count": 1,
   "id": "fc3639c6",
   "metadata": {},
   "outputs": [
    {
     "name": "stderr",
     "output_type": "stream",
     "text": [
      "/home/rockhight/Documents/machine_learning/kaggle/datasets/titanic/2023-apr-07/envi/lib/python3.10/site-packages/tqdm/auto.py:21: TqdmWarning: IProgress not found. Please update jupyter and ipywidgets. See https://ipywidgets.readthedocs.io/en/stable/user_install.html\n",
      "  from .autonotebook import tqdm as notebook_tqdm\n"
     ]
    }
   ],
   "source": [
    "import pandas as pd\n",
    "import numpy as np\n",
    "import matplotlib.pyplot as plt\n",
    "import seaborn as sns\n",
    "import sklearn\n",
    "# import tensorflow as tf\n",
    "# import keras\n",
    "import statsmodels.api as sm\n",
    "import scipy.stats as stats\n",
    "import datetime\n",
    "import warnings\n",
    "from sklearn.metrics import accuracy_score\n",
    "from sklearn.metrics import matthews_corrcoef as mcc\n",
    "from sklearn.metrics import f1_score, make_scorer\n",
    "from sklearn.metrics import recall_score, precision_score\n",
    "from sklearn.model_selection import train_test_split, GridSearchCV\n",
    "from sklearn.preprocessing import FunctionTransformer\n",
    "from sklearn.compose import ColumnTransformer\n",
    "from sklearn.pipeline import Pipeline\n",
    "from IPython.display import display\n",
    "from sklearn.preprocessing import StandardScaler, RobustScaler\n",
    "from tqdm.auto import tqdm\n",
    "import mapply\n",
    "import warnings\n",
    "import importlib\n",
    "# import torch\n",
    "# import torchvision\n",
    "# import nltk\n",
    "# import gensim\n",
    "# import cv2\n",
    "# import imutils\n",
    "# import skimage\n",
    "# import pydicom\n",
    "# import nibabel\n",
    "# import librosa\n",
    "# import xgboost\n",
    "# import lightgbm\n",
    "# import catboost\n",
    "# import dash\n",
    "# import dash_core_components as dcc\n",
    "# import dash_html_components as html\n",
    "# import plotly.express as px\n",
    "# import plotly.graph_objects as go\n",
    "# import tensorflow_datasets as tfds\n",
    "# import torchtext\n",
    "# import torchvision.datasets as datasets\n",
    "# import torchvision.transforms as transforms\n",
    "# import transformers\n",
    "# import sentence_transformers\n",
    "# import faiss\n",
    "# import modin.pandas as mpd\n",
    "#from sklearn.ensemble import RandomForestClassifier\n",
    "#from sklearn.linear_model import LogisticRegression\n",
    "#from xgboost import XGBClassifier\n",
    "#from sklearn.tree import DecisionTreeClassifier\n",
    "#from sklearn.neighbors import KNeighborsClassifier\n",
    "#from sklearn.svm import SVC\n",
    "#from sklearn.linear_model import SGDClassifier\n",
    "#from sklearn.naive_bayes import GaussianNB\n",
    "#from sklearn.model_selection import train_test_split, GridSearchCV"
   ]
  },
  {
   "cell_type": "code",
   "execution_count": 2,
   "id": "86764d76-66c1-4c91-9c91-5d4062cc5f7d",
   "metadata": {
    "tags": []
   },
   "outputs": [],
   "source": [
    "mapply.init(n_workers = -1)"
   ]
  },
  {
   "cell_type": "code",
   "execution_count": 3,
   "id": "a2fbbfeb",
   "metadata": {},
   "outputs": [],
   "source": [
    "%matplotlib inline"
   ]
  },
  {
   "cell_type": "code",
   "execution_count": 4,
   "id": "8585f572",
   "metadata": {},
   "outputs": [],
   "source": [
    "warnings.filterwarnings('ignore')"
   ]
  },
  {
   "cell_type": "code",
   "execution_count": 11,
   "id": "fad8b237",
   "metadata": {},
   "outputs": [],
   "source": [
    "# import helper functions for pipelines\n",
    "import simpleml as sml\n",
    "smlp = sml.plot()\n",
    "smlt = sml.test()\n",
    "smlf = sml.feature_selection()\n",
    "from simpleml import pipeline\n",
    "from simpleml import CustomEncoders as ce"
   ]
  },
  {
   "cell_type": "code",
   "execution_count": 44,
   "id": "52b3a87b",
   "metadata": {},
   "outputs": [
    {
     "name": "stdout",
     "output_type": "stream",
     "text": [
      " =============== STEPS ============= :\n",
      " =============== END STEPS ============= :\n",
      "current columns:\n",
      "PassengerId Survived Pclass Name Sex Age SibSp Parch Ticket Fare \n",
      "Cabin Embarked \n",
      "added columns: \n",
      "\u001b[32mParch\u001b[0m \u001b[32mEmbarked\u001b[0m \u001b[32mTicket\u001b[0m \u001b[32mSex\u001b[0m \u001b[32mName\u001b[0m \u001b[32mFare\u001b[0m \u001b[32mAge\u001b[0m \u001b[32mPclass\u001b[0m \u001b[32mPassengerId\u001b[0m \u001b[32mCabin\u001b[0m \n",
      "\u001b[32mSibSp\u001b[0m \u001b[32mSurvived\u001b[0m \n",
      "\n",
      "\n"
     ]
    }
   ],
   "source": [
    "#p = pipeline(train, 'Survived')\n",
    "#print(p)"
   ]
  },
  {
   "cell_type": "markdown",
   "id": "e9a7dfff",
   "metadata": {},
   "source": [
    "# Basic Data Fixing"
   ]
  },
  {
   "cell_type": "markdown",
   "id": "8339806a",
   "metadata": {},
   "source": [
    "## general view"
   ]
  },
  {
   "cell_type": "markdown",
   "id": "5e763078",
   "metadata": {},
   "source": [
    "## Basic preprocessing"
   ]
  },
  {
   "cell_type": "markdown",
   "id": "eaf23d8e",
   "metadata": {},
   "source": [
    "# EDA"
   ]
  },
  {
   "cell_type": "markdown",
   "id": "77606ed8",
   "metadata": {},
   "source": [
    "## numerical columns"
   ]
  },
  {
   "cell_type": "markdown",
   "id": "0dc3fbd2",
   "metadata": {},
   "source": [
    "## categorical columns"
   ]
  },
  {
   "cell_type": "markdown",
   "id": "ef67fd07",
   "metadata": {},
   "source": [
    "# Feature Engineering"
   ]
  },
  {
   "cell_type": "markdown",
   "id": "ae223b75",
   "metadata": {},
   "source": [
    "## feature creation"
   ]
  },
  {
   "cell_type": "markdown",
   "id": "10a8c01d",
   "metadata": {},
   "source": [
    "based on EDA we performed we will create features"
   ]
  },
  {
   "cell_type": "markdown",
   "id": "55a187fa",
   "metadata": {},
   "source": [
    "## feature selection"
   ]
  },
  {
   "cell_type": "markdown",
   "id": "dbd83861",
   "metadata": {},
   "source": [
    "in the feature extraction we will decide what are the best beatures and the best combination of features for our model"
   ]
  },
  {
   "cell_type": "markdown",
   "id": "9c842cb4",
   "metadata": {},
   "source": [
    "pipeline and predict test"
   ]
  },
  {
   "cell_type": "code",
   "execution_count": null,
   "id": "a339b974",
   "metadata": {},
   "outputs": [],
   "source": [
    "# save the notebook session\n",
    "!pip install dill\n",
    "import dill\n",
    "dill.dump_session('dill_session.db')"
   ]
  }
 ],
 "metadata": {
  "kernelspec": {
   "display_name": "Python 3 (ipykernel)",
   "language": "python",
   "name": "python3"
  },
  "language_info": {
   "codemirror_mode": {
    "name": "ipython",
    "version": 3
   },
   "file_extension": ".py",
   "mimetype": "text/x-python",
   "name": "python",
   "nbconvert_exporter": "python",
   "pygments_lexer": "ipython3",
   "version": "3.10.10"
  }
 },
 "nbformat": 4,
 "nbformat_minor": 5
}
