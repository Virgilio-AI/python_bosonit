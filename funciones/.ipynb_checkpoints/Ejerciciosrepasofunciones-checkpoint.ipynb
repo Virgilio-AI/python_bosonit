{
 "cells": [
  {
   "cell_type": "markdown",
   "id": "6b2fe664",
   "metadata": {},
   "source": [
    "# Ejercicios repaso funciones\n",
    "\n",
    "## Ejercicio 1\n",
    "\n",
    "Define una función que devuelva las palabras de entre 3 y 5 letras que no tienen la letra o. Úsala con la variable texto."
   ]
  },
  {
   "cell_type": "code",
   "execution_count": 4,
   "id": "c4c0d3d7-7cc1-47a9-908b-c64bdbe28943",
   "metadata": {
    "tags": []
   },
   "outputs": [],
   "source": [
    "# Date: 11/April/2023 - Tuesday\n",
    "# Author: Virgilio Murillo Ochoa\n",
    "# personal github: Virgilio-AI\n",
    "# linkedin: https://www.linkedin.com/in/virgilio-murillo-ochoa-b29b59203\n",
    "# contact: virgiliomurilloochoa1@gmail.com\n",
    "# web: virgiliomurillo.com\n",
    "\n",
    "from typing import *\n",
    "import heapq as hp\n",
    "from collections import deque\n",
    "from collections import defaultdict\n",
    "import sys"
   ]
  },
  {
   "cell_type": "code",
   "execution_count": 1,
   "id": "9a261558",
   "metadata": {},
   "outputs": [
    {
     "name": "stdout",
     "output_type": "stream",
     "text": [
      "['En', 'un', 'lugar,', 'de', 'la', 'Mancha,', 'de', 'ha', 'que', 'vivía', 'un', 'de', 'de', 'lanza', 'en', 'adarga', 'antigua,', 'y']\n"
     ]
    }
   ],
   "source": [
    "texto = \"En un lugar, de la Mancha, de cuyo nombre no quiero acordarme, no ha mucho tiempo que vivía un hidalgo de los de lanza en astillero, adarga antigua, rocín flaco y galgo corredor.\"\n",
    "def checklist(word):\n",
    "    ln = len(word)\n",
    "    ans = ln > 2 and ln < 6\n",
    "    ans = not ( 'o' in word ) \n",
    "    return ans\n",
    "def word_filter(text):\n",
    "    splitted = text.split()\n",
    "    ans = []\n",
    "    for word in splitted:\n",
    "        if checklist(word):\n",
    "            ans.append(word)\n",
    "    return ans\n",
    "            \n",
    "print(word_filter(texto))"
   ]
  },
  {
   "cell_type": "markdown",
   "id": "1a6e1a72",
   "metadata": {},
   "source": [
    "## Ejercicio 2\n",
    "\n",
    "Crea una función que devuelva el porcentaje de elementos únicos de una lista."
   ]
  },
  {
   "cell_type": "code",
   "execution_count": 9,
   "id": "338324e0",
   "metadata": {},
   "outputs": [
    {
     "name": "stdout",
     "output_type": "stream",
     "text": [
      "0.5\n"
     ]
    }
   ],
   "source": [
    "lista = [1,2,4,5,1,1,'Hola', 'pato', 'Hola', 'Logroño']\n",
    "\n",
    "def unique_element_percentage(lst):\n",
    "    lst_ln = len(lst)\n",
    "    unique_elements = 0\n",
    "    dic = defaultdict(int)\n",
    "    for ele in lista:\n",
    "        dic[ele] +=1\n",
    "    for ele in dic:\n",
    "        if dic[ele] == 1:\n",
    "            unique_elements +=1\n",
    "            \n",
    "    return unique_elements/lst_ln\n",
    "\n",
    "print(unique_element_percentage(lista))"
   ]
  },
  {
   "cell_type": "markdown",
   "id": "50732795",
   "metadata": {},
   "source": [
    "## Ejercicio 3\n",
    "\n",
    "La serie de Fibonacci es una conocida serie en la que cada elemento se calcula como la suma de los dos anteriores, empezando por 1 1, es decir:\n",
    "$$1, 1, 2, 3, 5, 8, 13, 21, ...$$\n",
    "\n",
    "Programar una función que calcule el n-ésimo término de la serie de forma recursiva"
   ]
  },
  {
   "cell_type": "code",
   "execution_count": 11,
   "id": "ff4ba175-911a-4c33-9e26-52a43c20023e",
   "metadata": {
    "tags": []
   },
   "outputs": [
    {
     "name": "stdout",
     "output_type": "stream",
     "text": [
      "21\n"
     ]
    }
   ],
   "source": [
    "def fibonacci(n):\n",
    "    if n == 1 or n == 2:\n",
    "        return 1\n",
    "    return fibonacci(n-1) + fibonacci(n-2)\n",
    "\n",
    "print(fibonacci(8))"
   ]
  },
  {
   "cell_type": "markdown",
   "id": "6333c40d",
   "metadata": {},
   "source": [
    "## Ejercicio 4.4\n",
    "\n",
    "Dada una lista con listas anidadas en su interior, devolver una lista que no esté anidada."
   ]
  },
  {
   "cell_type": "code",
   "execution_count": 12,
   "id": "25332f91",
   "metadata": {},
   "outputs": [
    {
     "name": "stdout",
     "output_type": "stream",
     "text": [
      "[1, 43, 1, 7, 6, 'uno', 'dos', 'Madrid', 'Tortuga']\n"
     ]
    }
   ],
   "source": [
    "lista = [1, 43, [1,7,6,['uno', 'dos'], 'Madrid'], 'Tortuga']\n",
    "def get_list(lst):\n",
    "    ans = []\n",
    "    for ele in lst:\n",
    "        if isinstance(ele,list):\n",
    "            ans += get_list(ele)\n",
    "        else:\n",
    "            ans.append(ele)\n",
    "    return ans\n",
    "\n",
    "print(get_list(lista))"
   ]
  },
  {
   "cell_type": "markdown",
   "id": "ed519b16",
   "metadata": {},
   "source": [
    "## Ejercicio 4.5\n",
    "\n",
    "Implementar una función que lleve a cabo el cifrado César de una frase. El cifrado se lleva a cabo de la siguiente manera:\n",
    "\n",
    "+ Para cada letra de la palabra (sin distinguir mayúsculas y minúsculas) obtenemos su orden dentro del alfabeto.\n",
    "+ A ese valor le sumaremos el valor de la *clave* dada por el usuario.\n",
    "+ Sustituiremos la letra original por la que esté en esta nueva posición calculada dentro de nuestro alfabeto."
   ]
  },
  {
   "cell_type": "code",
   "execution_count": 15,
   "id": "97291966-b938-4287-a108-342bd882d592",
   "metadata": {
    "tags": []
   },
   "outputs": [
    {
     "name": "stdout",
     "output_type": "stream",
     "text": [
      "jkncb\n"
     ]
    }
   ],
   "source": [
    "letras = 'abcdefghijklmnñopkrstwxyz'\n",
    "def get_sord_dic(letras):\n",
    "    ans = {}\n",
    "    for i,ch in enumerate(letras):\n",
    "        ans[ch] = i\n",
    "    return ans\n",
    "\n",
    "\n",
    "letras_dic = get_sord_dic(letras)\n",
    "\n",
    "\n",
    "def sord(ch):\n",
    "    return letras_dic[ch]\n",
    "         \n",
    "def cesar_cifer(word,value):\n",
    "    ln = len(letras)\n",
    "    ans = \"\"\n",
    "    for ch in word:\n",
    "        ans += letras[( sord(ch) + value ) % ln]\n",
    "    return ans\n",
    "\n",
    "print(cesar_cifer('holaz',2))"
   ]
  },
  {
   "cell_type": "markdown",
   "id": "6a7988bf",
   "metadata": {},
   "source": [
    "## Ejercicio 4.6\n",
    "\n",
    "Calcular la desviación estándar de una lista que será nuestra población. La desviación estandar ($\\sigma$) se puede calcular mediante la expresión\n",
    "\n",
    "$$\\sigma^2 = \\frac{\\sum_{i=1}^n{(x-\\bar{x})^2}}{n},$$\n",
    "donde $\\bar{x}$ es la media de la población. Hacerlo utilizando *map* y *reduce*."
   ]
  },
  {
   "cell_type": "code",
   "execution_count": 16,
   "id": "12714772",
   "metadata": {},
   "outputs": [
    {
     "name": "stdout",
     "output_type": "stream",
     "text": [
      "2.8284271247461903\n"
     ]
    }
   ],
   "source": [
    "from functools import reduce\n",
    "import math\n",
    "\n",
    "poblacion = [3, 5, 7, 9, 11]\n",
    "\n",
    "media = sum(poblacion) / len(poblacion)\n",
    "\n",
    "def desviacion(elemento):\n",
    "    return (elemento - media) ** 2\n",
    "\n",
    "suma_desviaciones = reduce(lambda x, y: x + y, map(desviacion, poblacion))\n",
    "\n",
    "desviacion_estandar = math.sqrt(suma_desviaciones / len(poblacion))\n",
    "\n",
    "print(desviacion_estandar)"
   ]
  }
 ],
 "metadata": {
  "kernelspec": {
   "display_name": "Python 3 (ipykernel)",
   "language": "python",
   "name": "python3"
  },
  "language_info": {
   "codemirror_mode": {
    "name": "ipython",
    "version": 3
   },
   "file_extension": ".py",
   "mimetype": "text/x-python",
   "name": "python",
   "nbconvert_exporter": "python",
   "pygments_lexer": "ipython3",
   "version": "3.10.10"
  }
 },
 "nbformat": 4,
 "nbformat_minor": 5
}
