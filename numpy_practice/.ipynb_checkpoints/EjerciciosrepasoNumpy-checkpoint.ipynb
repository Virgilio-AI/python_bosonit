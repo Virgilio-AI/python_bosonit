{
 "cells": [
  {
   "cell_type": "markdown",
   "id": "f1920790",
   "metadata": {},
   "source": [
    "## Ejercicios repaso Numpy"
   ]
  },
  {
   "cell_type": "code",
   "execution_count": 3,
   "id": "d5d4fdd6-e422-407c-9903-c8f96f99aba8",
   "metadata": {
    "tags": []
   },
   "outputs": [
    {
     "name": "stdout",
     "output_type": "stream",
     "text": [
      "Collecting numpy\n",
      "  Using cached numpy-1.24.2-cp310-cp310-manylinux_2_17_x86_64.manylinux2014_x86_64.whl (17.3 MB)\n",
      "Installing collected packages: numpy\n",
      "Successfully installed numpy-1.24.2\n"
     ]
    }
   ],
   "source": [
    "!pip install numpy"
   ]
  },
  {
   "cell_type": "code",
   "execution_count": 4,
   "id": "a5585d0e",
   "metadata": {
    "tags": []
   },
   "outputs": [],
   "source": [
    "import numpy as np"
   ]
  },
  {
   "cell_type": "markdown",
   "id": "ff25f152",
   "metadata": {},
   "source": [
    "1. Crea un vector de ceros de 10 elementos excepto el quinto elemento que debe de ser 1"
   ]
  },
  {
   "cell_type": "code",
   "execution_count": 5,
   "id": "fc332b64-d77a-40d0-9f17-1456f15d443f",
   "metadata": {
    "tags": []
   },
   "outputs": [
    {
     "name": "stdout",
     "output_type": "stream",
     "text": [
      "[0 0 0 0 1 0 0 0 0 0]\n"
     ]
    }
   ],
   "source": [
    "vector = np.full(10,0)\n",
    "vector[4] = 1\n",
    "print(vector)"
   ]
  },
  {
   "cell_type": "markdown",
   "id": "cf002b18",
   "metadata": {},
   "source": [
    "2. Crea un vector con los valores desde el 10 hasta 49"
   ]
  },
  {
   "cell_type": "code",
   "execution_count": 6,
   "id": "f8864dbe-bce4-4025-86f2-a487ef0be346",
   "metadata": {
    "tags": []
   },
   "outputs": [
    {
     "name": "stdout",
     "output_type": "stream",
     "text": [
      "[10 11 12 13 14 15 16 17 18 19 20 21 22 23 24 25 26 27 28 29 30 31 32 33\n",
      " 34 35 36 37 38 39 40 41 42 43 44 45 46 47 48 49]\n"
     ]
    }
   ],
   "source": [
    "vector2 = np.arange(10,50)\n",
    "print(vector2)"
   ]
  },
  {
   "cell_type": "markdown",
   "id": "37d01f7f",
   "metadata": {},
   "source": [
    "3. Modifica el vector del ejercicio anterior y calcula el inverso"
   ]
  },
  {
   "cell_type": "code",
   "execution_count": 7,
   "id": "364d98cc-8568-48d4-8e1b-272e7dc505ed",
   "metadata": {
    "tags": []
   },
   "outputs": [
    {
     "name": "stdout",
     "output_type": "stream",
     "text": [
      "[0.1        0.09090909 0.08333333 0.07692308 0.07142857 0.06666667\n",
      " 0.0625     0.05882353 0.05555556 0.05263158 0.05       0.04761905\n",
      " 0.04545455 0.04347826 0.04166667 0.04       0.03846154 0.03703704\n",
      " 0.03571429 0.03448276 0.03333333 0.03225806 0.03125    0.03030303\n",
      " 0.02941176 0.02857143 0.02777778 0.02702703 0.02631579 0.02564103\n",
      " 0.025      0.02439024 0.02380952 0.02325581 0.02272727 0.02222222\n",
      " 0.02173913 0.0212766  0.02083333 0.02040816]\n"
     ]
    }
   ],
   "source": [
    "inverso = 1 / vector2\n",
    "print(inverso)"
   ]
  },
  {
   "cell_type": "markdown",
   "id": "63df42e5",
   "metadata": {},
   "source": [
    "4. Crea una matriz de 3x3 con los valores desde 0 hasta 8"
   ]
  },
  {
   "cell_type": "code",
   "execution_count": 11,
   "id": "8e84b2ea-6285-43ed-bd65-6b4c7639ac5b",
   "metadata": {
    "tags": []
   },
   "outputs": [
    {
     "name": "stdout",
     "output_type": "stream",
     "text": [
      "[[0 1 2]\n",
      " [3 4 5]\n",
      " [6 7 8]]\n"
     ]
    }
   ],
   "source": [
    "mat_3_3 = np.arange(9).reshape(3,3)\n",
    "print(mat_3_3)"
   ]
  },
  {
   "cell_type": "markdown",
   "id": "df4f4b4c",
   "metadata": {},
   "source": [
    "5. Crea una matriz de identidad de 4x4"
   ]
  },
  {
   "cell_type": "code",
   "execution_count": 12,
   "id": "33d6af52-55a7-478f-90fd-28827b9614c0",
   "metadata": {
    "tags": []
   },
   "outputs": [
    {
     "name": "stdout",
     "output_type": "stream",
     "text": [
      "[[1 0 0 0]\n",
      " [0 1 0 0]\n",
      " [0 0 1 0]\n",
      " [0 0 0 1]]\n"
     ]
    }
   ],
   "source": [
    "mat_4_4 = np.full(16,0).reshape(4,4)\n",
    "for i in range(4):\n",
    "    for j in range(4):\n",
    "        if i == j:\n",
    "            mat_4_4[i,j] = 1\n",
    "print(mat_4_4)"
   ]
  },
  {
   "cell_type": "markdown",
   "id": "a51ecf94",
   "metadata": {},
   "source": [
    "6. Crea una matriz de 5x5x5 con valores aleatorios"
   ]
  },
  {
   "cell_type": "code",
   "execution_count": 15,
   "id": "52b392f9-66c1-4b9e-9930-4ca006a99458",
   "metadata": {
    "tags": []
   },
   "outputs": [
    {
     "name": "stdout",
     "output_type": "stream",
     "text": [
      "[[[0 9 8 4 9]\n",
      "  [1 5 0 8 9]\n",
      "  [8 0 1 3 6]\n",
      "  [3 6 0 3 8]\n",
      "  [4 9 8 0 6]]\n",
      "\n",
      " [[2 2 5 9 0]\n",
      "  [4 1 7 1 4]\n",
      "  [1 9 5 1 0]\n",
      "  [4 8 6 6 0]\n",
      "  [2 5 2 7 5]]\n",
      "\n",
      " [[3 1 9 8 7]\n",
      "  [3 9 0 9 1]\n",
      "  [8 7 5 5 9]\n",
      "  [7 0 4 2 5]\n",
      "  [5 2 7 4 7]]\n",
      "\n",
      " [[2 9 9 2 3]\n",
      "  [6 5 7 1 2]\n",
      "  [2 1 6 5 4]\n",
      "  [3 7 0 2 4]\n",
      "  [8 1 6 2 7]]\n",
      "\n",
      " [[8 8 5 6 2]\n",
      "  [7 6 0 9 2]\n",
      "  [9 1 5 6 9]\n",
      "  [9 2 4 2 0]\n",
      "  [6 1 5 1 9]]]\n"
     ]
    }
   ],
   "source": [
    "mat_555 = np.random.randint(0,10,size = (5,5,5))\n",
    "print(mat_555)"
   ]
  },
  {
   "cell_type": "markdown",
   "id": "9fc435e2",
   "metadata": {},
   "source": [
    "7. Calcula la media del vector anterior"
   ]
  },
  {
   "cell_type": "code",
   "execution_count": 18,
   "id": "b65bcc5b-7163-4edf-8804-d045856c511b",
   "metadata": {
    "tags": []
   },
   "outputs": [
    {
     "name": "stdout",
     "output_type": "stream",
     "text": [
      "4.536\n"
     ]
    }
   ],
   "source": [
    "mat_mean = mat_555.mean()\n",
    "print(mat_mean)"
   ]
  },
  {
   "cell_type": "markdown",
   "id": "a0e19b55",
   "metadata": {},
   "source": [
    "8. Crea una matriz 3x3 con los valores 1,2,3 en la diagonal (el resto de elementos deben de ser 0)"
   ]
  },
  {
   "cell_type": "code",
   "execution_count": 19,
   "id": "def312e3-1005-4735-b6f1-377273051c07",
   "metadata": {
    "tags": []
   },
   "outputs": [
    {
     "name": "stdout",
     "output_type": "stream",
     "text": [
      "[[1 0 0]\n",
      " [0 2 0]\n",
      " [0 0 3]]\n"
     ]
    }
   ],
   "source": [
    "mat_333 = np.full(9,0).reshape(3,3)\n",
    "counter = 1\n",
    "for i in range(3):\n",
    "    for j in range(3):\n",
    "        if i == j:\n",
    "            mat_333[i,j] = counter\n",
    "            counter+=1\n",
    "print(mat_333)"
   ]
  },
  {
   "cell_type": "markdown",
   "id": "fb43e162",
   "metadata": {},
   "source": [
    "9. Crea una matriz 4x4 con los valores 1,2,3 en la diagonal inferior (el resto de elementos deben de ser 0)\n",
    "[[0, 0, 0, 0],\n",
    "[1, 0, 0, 0],\n",
    "[0, 2, 0, 0],\n",
    "[0, 0, 3, 0]]"
   ]
  },
  {
   "cell_type": "code",
   "execution_count": 26,
   "id": "f8f8261e-a992-4bf9-81c2-4786a70aa30b",
   "metadata": {
    "tags": []
   },
   "outputs": [
    {
     "name": "stdout",
     "output_type": "stream",
     "text": [
      "[[0 0 0 0]\n",
      " [1 0 0 0]\n",
      " [0 2 0 0]\n",
      " [0 0 3 0]]\n"
     ]
    }
   ],
   "source": [
    "mat_44 = np.full(16,0).reshape(4,4)\n",
    "counter = 1\n",
    "for i in range(1,4):\n",
    "    for j in range(1,4):\n",
    "        if i == j:\n",
    "            mat_44[i,j-1] = counter\n",
    "            counter+=1\n",
    "print(mat_44)"
   ]
  },
  {
   "cell_type": "markdown",
   "id": "06c624aa",
   "metadata": {},
   "source": [
    "10. Normaliza una matriz de 4x4 con valores aleatorios"
   ]
  },
  {
   "cell_type": "code",
   "execution_count": 27,
   "id": "1fdf3353-8419-45a1-a6e1-8b2e5336cc59",
   "metadata": {
    "tags": []
   },
   "outputs": [
    {
     "name": "stdout",
     "output_type": "stream",
     "text": [
      "[[0 4 0 2]\n",
      " [6 8 6 1]\n",
      " [2 1 5 0]\n",
      " [5 6 3 9]]\n",
      "[[-1.28288447  0.13271219 -1.28288447 -0.57508614]\n",
      " [ 0.84051051  1.54830884  0.84051051 -0.92898531]\n",
      " [-0.57508614 -0.92898531  0.48661135 -1.28288447]\n",
      " [ 0.48661135  0.84051051 -0.22118698  1.90220801]]\n"
     ]
    }
   ],
   "source": [
    "mat_44 = np.random.randint(0,10,size = (4,4))\n",
    "print(mat_44)\n",
    "mat_44 = (mat_44 - mat_44.mean())/(mat_44.std())\n",
    "print(mat_44)"
   ]
  },
  {
   "cell_type": "markdown",
   "id": "04d68eb5",
   "metadata": {},
   "source": [
    "11. Multiplica una matriz de 6x3 (todos valores a 1) por una de 3x2 (todos valores a 1)"
   ]
  },
  {
   "cell_type": "code",
   "execution_count": 33,
   "id": "6c89b0b1-ac42-4e98-a7b7-cf4ee805ab02",
   "metadata": {
    "tags": []
   },
   "outputs": [
    {
     "name": "stdout",
     "output_type": "stream",
     "text": [
      "[[3 3]\n",
      " [3 3]\n",
      " [3 3]\n",
      " [3 3]\n",
      " [3 3]\n",
      " [3 3]]\n"
     ]
    }
   ],
   "source": [
    "mat_63 = np.full((6,3),1)\n",
    "mat_32 = np.full((3,2),1)\n",
    "mat_ans = np.dot(mat_63,mat_32)\n",
    "print(mat_ans)"
   ]
  },
  {
   "cell_type": "markdown",
   "id": "db196dd1",
   "metadata": {},
   "source": [
    "12. Realiza la multiplicación del ejercicio anterior utilizando un operador"
   ]
  },
  {
   "cell_type": "code",
   "execution_count": 36,
   "id": "b7406731-e2bd-4bf0-8954-3220f57f5322",
   "metadata": {
    "tags": []
   },
   "outputs": [
    {
     "name": "stdout",
     "output_type": "stream",
     "text": [
      "va a dar un error ya que se espera el mismo tamaño\n"
     ]
    },
    {
     "ename": "ValueError",
     "evalue": "operands could not be broadcast together with shapes (6,3) (3,2) ",
     "output_type": "error",
     "traceback": [
      "\u001b[0;31m---------------------------------------------------------------------------\u001b[0m",
      "\u001b[0;31mValueError\u001b[0m                                Traceback (most recent call last)",
      "Cell \u001b[0;32mIn[36], line 2\u001b[0m\n\u001b[1;32m      1\u001b[0m \u001b[38;5;28mprint\u001b[39m(\u001b[38;5;124m\"\u001b[39m\u001b[38;5;124mva a dar un error ya que se espera el mismo tamaño\u001b[39m\u001b[38;5;124m\"\u001b[39m)\n\u001b[0;32m----> 2\u001b[0m mat_ans \u001b[38;5;241m=\u001b[39m \u001b[43mmat_63\u001b[49m\u001b[43m \u001b[49m\u001b[38;5;241;43m*\u001b[39;49m\u001b[43m \u001b[49m\u001b[43mmat_32\u001b[49m\n\u001b[1;32m      3\u001b[0m \u001b[38;5;28mprint\u001b[39m(mat_ans)\n",
      "\u001b[0;31mValueError\u001b[0m: operands could not be broadcast together with shapes (6,3) (3,2) "
     ]
    }
   ],
   "source": [
    "print(\"va a dar un error ya que se espera el mismo tamaño\")\n",
    "mat_ans = mat_63 * mat_32\n",
    "print(mat_ans)"
   ]
  },
  {
   "cell_type": "markdown",
   "id": "7a0f8252",
   "metadata": {},
   "source": [
    "13. Cree una matriz de 1 dimensión con los valores desde 1 a 10, con los valores desde 3 hasta 8 en negativo. [1, 2 , -3, -4, -5, -6, -7, -8, 9, 10]"
   ]
  },
  {
   "cell_type": "code",
   "execution_count": 38,
   "id": "6012f445-efa0-428e-a44c-f34e7cbfc8f1",
   "metadata": {
    "tags": []
   },
   "outputs": [
    {
     "name": "stdout",
     "output_type": "stream",
     "text": [
      "[ 1  2 -3 -4 -5 -6 -7 -8  9 10]\n"
     ]
    }
   ],
   "source": [
    "mat = np.arange(1,11)\n",
    "mat[2:8] = -mat[2:8]\n",
    "print(mat)"
   ]
  },
  {
   "cell_type": "markdown",
   "id": "6a698b21",
   "metadata": {},
   "source": [
    "14. Cree un vector de 10 elementos con los valores aleatorios entre 0 y 10"
   ]
  },
  {
   "cell_type": "code",
   "execution_count": 39,
   "id": "d13a2428-e29e-4174-a985-00c62a03beda",
   "metadata": {
    "tags": []
   },
   "outputs": [
    {
     "name": "stdout",
     "output_type": "stream",
     "text": [
      "[ 0  1  2  3  4  5  6  7  8  9 10]\n"
     ]
    }
   ],
   "source": [
    "vec = np.arange(0,11)\n",
    "print(vec)"
   ]
  },
  {
   "cell_type": "markdown",
   "id": "68ec90bb",
   "metadata": {},
   "source": [
    "15. Cree un vector con todas las fechas de abril de 2022"
   ]
  },
  {
   "cell_type": "code",
   "execution_count": 42,
   "id": "8d295c78-f2fe-4825-9479-d63a3031b6ab",
   "metadata": {
    "tags": []
   },
   "outputs": [
    {
     "name": "stdout",
     "output_type": "stream",
     "text": [
      "['2022-04-01' '2022-04-02' '2022-04-03' '2022-04-04' '2022-04-05'\n",
      " '2022-04-06' '2022-04-07' '2022-04-08' '2022-04-09' '2022-04-10'\n",
      " '2022-04-11' '2022-04-12' '2022-04-13' '2022-04-14' '2022-04-15'\n",
      " '2022-04-16' '2022-04-17' '2022-04-18' '2022-04-19' '2022-04-20'\n",
      " '2022-04-21' '2022-04-22' '2022-04-23' '2022-04-24' '2022-04-25'\n",
      " '2022-04-26' '2022-04-27' '2022-04-28' '2022-04-29' '2022-04-30']\n"
     ]
    }
   ],
   "source": [
    "dvec = np.arange('2022-04-01','2022-05-01', dtype = 'datetime64')\n",
    "print(dvec)"
   ]
  },
  {
   "cell_type": "markdown",
   "id": "45e4793c",
   "metadata": {},
   "source": [
    "16. Crea un vector ordenado de 15 elementos con valores aleatorios entre 1 y 10"
   ]
  },
  {
   "cell_type": "code",
   "execution_count": 43,
   "id": "55599426-db94-4e92-8fc2-7f00d57bf623",
   "metadata": {
    "tags": []
   },
   "outputs": [
    {
     "name": "stdout",
     "output_type": "stream",
     "text": [
      "[1 2 2 3 3 4 4 4 5 6 6 6 8 9 9]\n"
     ]
    }
   ],
   "source": [
    "vec = np.random.randint(1,10,15)\n",
    "vsorted = np.sort(vec)\n",
    "print(vsorted)"
   ]
  },
  {
   "cell_type": "markdown",
   "id": "cd75615a",
   "metadata": {},
   "source": [
    "17. Devuelva la suma de los valores del vector del ejercicio anterior"
   ]
  },
  {
   "cell_type": "code",
   "execution_count": 44,
   "id": "db3cf9f2-00b2-4297-9888-fe5e3304dde1",
   "metadata": {
    "tags": []
   },
   "outputs": [
    {
     "name": "stdout",
     "output_type": "stream",
     "text": [
      "72\n"
     ]
    }
   ],
   "source": [
    "print(vec.sum())"
   ]
  },
  {
   "cell_type": "markdown",
   "id": "aa3d5192",
   "metadata": {},
   "source": [
    "18. Devuelve el resultado de la suma del vector ejercicio 16 de una forma más rápida que utilizar np.sum"
   ]
  },
  {
   "cell_type": "code",
   "execution_count": 46,
   "id": "61edfbfa-7702-4caa-9991-6d23eee4bf02",
   "metadata": {
    "tags": []
   },
   "outputs": [],
   "source": [
    "# hay una forma más rápida de sumar el vector vsorted?"
   ]
  },
  {
   "cell_type": "markdown",
   "id": "34163b26",
   "metadata": {},
   "source": [
    "19. Crea un vector aleatorio de tamaño 20 y reemplaza el máximo valor por 0"
   ]
  },
  {
   "cell_type": "code",
   "execution_count": 49,
   "id": "3fe43454-c766-4105-9ead-017eeaa19a9d",
   "metadata": {
    "tags": []
   },
   "outputs": [
    {
     "name": "stdout",
     "output_type": "stream",
     "text": [
      "[2 6 4 0 3 4 8 5 6 5 1 3 9 5 9 0 3 3 9 8]\n",
      "[2 6 4 0 3 4 8 5 6 5 1 3 0 5 9 0 3 3 9 8]\n"
     ]
    }
   ],
   "source": [
    "vec = np.random.randint(0,10,20)\n",
    "max_index = np.argmax(vec)\n",
    "print(vec)\n",
    "vec[max_index] = 0\n",
    "print(vec)"
   ]
  },
  {
   "cell_type": "markdown",
   "id": "2b9f71a0",
   "metadata": {},
   "source": [
    "20. Itera un numpy arrays mostrando su posición y el valor"
   ]
  },
  {
   "cell_type": "code",
   "execution_count": 51,
   "id": "6a59bc7e-6797-4a97-86e3-43e1cd1e1083",
   "metadata": {
    "tags": []
   },
   "outputs": [
    {
     "name": "stdout",
     "output_type": "stream",
     "text": [
      "0 2\n",
      "1 6\n",
      "2 4\n",
      "3 0\n",
      "4 3\n",
      "5 4\n",
      "6 8\n",
      "7 5\n",
      "8 6\n",
      "9 5\n",
      "10 1\n",
      "11 3\n",
      "12 0\n",
      "13 5\n",
      "14 9\n",
      "15 0\n",
      "16 3\n",
      "17 3\n",
      "18 9\n",
      "19 8\n"
     ]
    }
   ],
   "source": [
    "for i in range(len(vec)):\n",
    "    print(i,vec[i])"
   ]
  },
  {
   "cell_type": "markdown",
   "id": "47ff80af",
   "metadata": {},
   "source": [
    "21. Resta a cada elemento la media calculada de su fila de la matriz"
   ]
  },
  {
   "cell_type": "code",
   "execution_count": 59,
   "id": "3befa5f0-3d1a-4b4c-8538-a7ad8892eb04",
   "metadata": {
    "tags": []
   },
   "outputs": [
    {
     "name": "stdout",
     "output_type": "stream",
     "text": [
      "[[ 6  6  3 10 10]\n",
      " [11  3  1  1 11]\n",
      " [ 6 13  2  2  5]\n",
      " [ 2 10  8  8  1]\n",
      " [ 3  2 13 13  4]]\n",
      "ans\n",
      "[[-1 -1 -4  3  3]\n",
      " [ 5 -2 -4 -4  5]\n",
      " [ 0  7 -3 -3  0]\n",
      " [-3  4  2  2 -4]\n",
      " [-4 -5  6  6 -3]]\n"
     ]
    }
   ],
   "source": [
    "mat = np.random.randint(1,15,size = (5,5))\n",
    "print(mat)\n",
    "medias = []\n",
    "for i in range(mat.shape[0]):\n",
    "    medias.append(mat[i,:].mean())\n",
    "for i in range(mat.shape[0]):\n",
    "    for j in range(mat.shape[1]):\n",
    "        mat[i,j] = mat[i,j] - medias[i]\n",
    "print(\"ans\")\n",
    "print(mat)"
   ]
  },
  {
   "cell_type": "markdown",
   "id": "f31bee4d",
   "metadata": {},
   "source": [
    "22. Crea una matriz de 6x6 y ordenala por la 4ª fila"
   ]
  },
  {
   "cell_type": "code",
   "execution_count": 61,
   "id": "1c5679a0-368d-40a4-9959-a69dc483aedf",
   "metadata": {
    "tags": []
   },
   "outputs": [
    {
     "name": "stdout",
     "output_type": "stream",
     "text": [
      "Matriz original:\n",
      "[[ 2 10  2  3  4  2]\n",
      " [ 1  8  4  6  2  5]\n",
      " [ 9  9  1  6  5  1]\n",
      " [ 3  2  5  2  3  5]\n",
      " [ 9 10  4  3  1  2]\n",
      " [ 1 10  5  9  1  9]]\n",
      "cuarta fila ordenada\n",
      "[1 3 0 4 2 5]\n",
      "\n",
      "Matriz ordenada por la 4ª fila:\n",
      "[[10  3  2  4  2  2]\n",
      " [ 8  6  1  2  4  5]\n",
      " [ 9  6  9  5  1  1]\n",
      " [ 2  2  3  3  5  5]\n",
      " [10  3  9  1  4  2]\n",
      " [10  9  1  1  5  9]]\n"
     ]
    }
   ],
   "source": [
    "# Crea una matriz aleatoria de 6x6 con valores enteros entre 1 y 10\n",
    "matriz = np.random.randint(1, 11, size=(6, 6))\n",
    "\n",
    "print(\"Matriz original:\")\n",
    "print(matriz)\n",
    "print(\"cuarta fila ordenada\")\n",
    "print(np.argsort(matriz[3,:]))\n",
    "\n",
    "# Ordena la matriz por la 4ª fila\n",
    "matriz_ordenada = matriz[:, np.argsort(matriz[3, :])]\n",
    "\n",
    "print(\"\\nMatriz ordenada por la 4ª fila:\")\n",
    "print(matriz_ordenada)"
   ]
  },
  {
   "cell_type": "markdown",
   "id": "7a67ce90",
   "metadata": {},
   "source": [
    "23. Existiendo el vector [1, 2, 3, 4, 5], construir un nuevo vector con 3 ceros consecuitovs entre cada valor del vector anterior"
   ]
  },
  {
   "cell_type": "code",
   "execution_count": 71,
   "id": "fc6758b8-6de9-4f1d-ac75-84d079ada082",
   "metadata": {
    "tags": []
   },
   "outputs": [
    {
     "name": "stdout",
     "output_type": "stream",
     "text": [
      "Vector original:\n",
      "[1 2 3 4 5]\n",
      "Vector de ceros:\n",
      "[0 0 0]\n",
      "Nuevo vector:\n",
      "[1. 0. 0. 0. 2. 0. 0. 0. 3. 0. 0. 0. 4. 0. 0. 0. 5.]\n"
     ]
    }
   ],
   "source": [
    "import numpy as np\n",
    "\n",
    "# Vector original\n",
    "vec = np.arange(1, 6)\n",
    "print(\"Vector original:\")\n",
    "print(vec)\n",
    "\n",
    "ans = np.array([])\n",
    "ceros = np.full(3, 0)\n",
    "print(\"Vector de ceros:\")\n",
    "print(ceros)\n",
    "\n",
    "for i in range(len(vec) - 1):\n",
    "    tmp = np.insert(ceros,0,vec[i])\n",
    "    ans = np.concatenate((ans, tmp))\n",
    "    \n",
    "ans = np.append(ans,vec[-1])\n",
    "print(\"Nuevo vector:\")\n",
    "print(ans)\n"
   ]
  },
  {
   "cell_type": "markdown",
   "id": "fe2632d3",
   "metadata": {},
   "source": [
    "24. Crea un vector con números aleatorios de 5x5 e intercambia la fila segunda por la tercera"
   ]
  },
  {
   "cell_type": "code",
   "execution_count": 77,
   "id": "e30b54f9-6d7e-4049-861d-7d8ca0617630",
   "metadata": {
    "tags": []
   },
   "outputs": [
    {
     "name": "stdout",
     "output_type": "stream",
     "text": [
      "[[9 9 7 5 2]\n",
      " [9 9 8 9 6]\n",
      " [1 1 2 6 3]\n",
      " [9 1 9 1 0]\n",
      " [6 6 1 3 2]]\n",
      "[[9 9 7 5 2]\n",
      " [1 1 2 6 3]\n",
      " [9 9 8 9 6]\n",
      " [9 1 9 1 0]\n",
      " [6 6 1 3 2]]\n"
     ]
    }
   ],
   "source": [
    "vec_55 = np.random.randint(0,10,size = (5,5))\n",
    "print(vec_55)\n",
    "tmp = vec_55[1].copy()\n",
    "vec_55[1] = vec_55[2].copy()\n",
    "vec_55[2] = tmp.copy()\n",
    "print(vec_55)"
   ]
  }
 ],
 "metadata": {
  "kernelspec": {
   "display_name": "Python 3 (ipykernel)",
   "language": "python",
   "name": "python3"
  },
  "language_info": {
   "codemirror_mode": {
    "name": "ipython",
    "version": 3
   },
   "file_extension": ".py",
   "mimetype": "text/x-python",
   "name": "python",
   "nbconvert_exporter": "python",
   "pygments_lexer": "ipython3",
   "version": "3.10.10"
  }
 },
 "nbformat": 4,
 "nbformat_minor": 5
}
