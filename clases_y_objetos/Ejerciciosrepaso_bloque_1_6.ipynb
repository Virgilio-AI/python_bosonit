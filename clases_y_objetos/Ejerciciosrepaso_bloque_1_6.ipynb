{
 "cells": [
  {
   "cell_type": "markdown",
   "id": "823e0ba2",
   "metadata": {},
   "source": [
    "# Ejercicios de Repaso\n",
    "\n",
    "## Ejercicio 1\n",
    "\n",
    "Crear un programa que tire un dado. Tras tener un resultado, pide al usuario que diga si quiere que se genere otro número. Nota: Para pedir información al usuario se puede utilizar *variable = input()"
   ]
  },
  {
   "cell_type": "code",
   "execution_count": 1,
   "id": "f1db0c6a-c7fe-41ab-a199-33ec9c817cd8",
   "metadata": {
    "tags": []
   },
   "outputs": [
    {
     "name": "stdout",
     "output_type": "stream",
     "text": [
      "presiona cualquier tecla para tirar el dado\n"
     ]
    },
    {
     "name": "stdin",
     "output_type": "stream",
     "text": [
      " \n"
     ]
    },
    {
     "name": "stdout",
     "output_type": "stream",
     "text": [
      " el dado dio como resultado 5\n",
      "quiere que se genere otro numero? (Y/n)\n"
     ]
    },
    {
     "name": "stdin",
     "output_type": "stream",
     "text": [
      " y\n"
     ]
    },
    {
     "name": "stdout",
     "output_type": "stream",
     "text": [
      "presiona cualquier tecla para tirar el dado\n"
     ]
    },
    {
     "name": "stdin",
     "output_type": "stream",
     "text": [
      " \n"
     ]
    },
    {
     "name": "stdout",
     "output_type": "stream",
     "text": [
      " el dado dio como resultado 1\n",
      "quiere que se genere otro numero? (Y/n)\n"
     ]
    },
    {
     "name": "stdin",
     "output_type": "stream",
     "text": [
      " n\n"
     ]
    }
   ],
   "source": [
    "import random\n",
    "\n",
    "class Juego_dado():\n",
    "    def __init__(self):\n",
    "        pass\n",
    "    def tirar_dado(self):\n",
    "        return random.randint(1,6)\n",
    "        \n",
    "    def jugar(self):\n",
    "        br = False\n",
    "        while not br:\n",
    "            print(\"presiona cualquier tecla para tirar el dado\")\n",
    "            tecla = input()\n",
    "            numero = self.tirar_dado()\n",
    "            print(f' el dado dio como resultado {numero}')\n",
    "            print(\"quiere que se genere otro numero? (Y/n)\")\n",
    "            continuar = input()\n",
    "            if continuar == 'n':\n",
    "                br = True\n",
    "\n",
    "juego = Juego_dado()\n",
    "juego.jugar()"
   ]
  },
  {
   "cell_type": "markdown",
   "id": "c4da793d",
   "metadata": {
    "tags": []
   },
   "source": [
    "## Ejercicio 2\n",
    "\n",
    "El ordenador generará un número aleatorio del 1 al 10. El usuario tendrá que adivinarlo. El ordenador pedirá al usuario que diga un número y en caso de que falle le dará una pista (el número es mayor o menor que el dicho)."
   ]
  },
  {
   "cell_type": "code",
   "execution_count": 2,
   "id": "f0002049-422f-47b6-896b-b8d58a122020",
   "metadata": {
    "tags": []
   },
   "outputs": [
    {
     "name": "stdin",
     "output_type": "stream",
     "text": [
      "adivine un numero del 1 al 10:  5\n"
     ]
    },
    {
     "name": "stdout",
     "output_type": "stream",
     "text": [
      "introduce un numero mayor\n"
     ]
    },
    {
     "name": "stdin",
     "output_type": "stream",
     "text": [
      "adivine un numero del 1 al 10:  8\n"
     ]
    },
    {
     "name": "stdout",
     "output_type": "stream",
     "text": [
      "introduce un numero mayor\n"
     ]
    },
    {
     "name": "stdin",
     "output_type": "stream",
     "text": [
      "adivine un numero del 1 al 10:  9\n"
     ]
    },
    {
     "name": "stdout",
     "output_type": "stream",
     "text": [
      "introduce un numero mayor\n"
     ]
    },
    {
     "name": "stdin",
     "output_type": "stream",
     "text": [
      "adivine un numero del 1 al 10:  10\n"
     ]
    },
    {
     "name": "stdout",
     "output_type": "stream",
     "text": [
      "NUMERO CORRECTO\n"
     ]
    }
   ],
   "source": [
    "class Juego_adivinanza():\n",
    "    def __init__(self):\n",
    "        super().__init__()\n",
    "    def generar_numero(self):\n",
    "        return random.randint(1,10)\n",
    "    def jugar(self):\n",
    "        numero_generado = self.generar_numero()\n",
    "        while 1:\n",
    "            prompt = 'adivine un numero del 1 al 10: '\n",
    "            numero_usuario = int(input(prompt))\n",
    "            if numero_usuario == numero_generado:\n",
    "                print(\"NUMERO CORRECTO\")\n",
    "                break\n",
    "            elif numero_usuario < numero_generado:\n",
    "                print(\"introduce un numero mayor\")\n",
    "            elif numero_usuario > numero_generado:\n",
    "                print(\"introduce un numero menor\")\n",
    "            \n",
    "juego = Juego_adivinanza()\n",
    "juego.jugar()"
   ]
  },
  {
   "cell_type": "markdown",
   "id": "c4be1266",
   "metadata": {},
   "source": [
    "## Ejercicio 3\n",
    "\n",
    "Crear una función a la que le pasamos una lista y nos devuelve la misma lista pero ordenada al azar. Utilizar la función random.choice()"
   ]
  },
  {
   "cell_type": "code",
   "execution_count": 3,
   "id": "bb64f10d",
   "metadata": {},
   "outputs": [
    {
     "name": "stdout",
     "output_type": "stream",
     "text": [
      "[1, 8, 5, 6, 4, 7, 3, 2]\n"
     ]
    }
   ],
   "source": [
    "import random\n",
    "lst = [1,2,3,4,5,6,7,8]\n",
    "def orden_al_azar(lista):\n",
    "    nueva_lista = []\n",
    "    while lista:\n",
    "        elemento = random.choice(lista)\n",
    "        nueva_lista.append(elemento)\n",
    "        lista.remove(elemento)\n",
    "    return nueva_lista\n",
    "print(orden_al_azar(lst))"
   ]
  },
  {
   "cell_type": "markdown",
   "id": "2f20154b",
   "metadata": {},
   "source": [
    "## Ejercicio 4\n",
    "\n",
    "Crear una clase contraseña. Tendrá un método que nos diga si la contraseña es válida (usando el código del otro día). Será capaz de puntuar una contraseña (longitud + n_simbolos + n_numero) y comparar contraseñas entre sí. Al imprimir por pantalla una cadena mostraremos asteriscos."
   ]
  },
  {
   "cell_type": "code",
   "execution_count": 4,
   "id": "b321d19e",
   "metadata": {},
   "outputs": [
    {
     "name": "stdout",
     "output_type": "stream",
     "text": [
      "contrasenia: **************\n",
      "len: 14\n",
      "n_simbolos: 4\n",
      "n_num: 5\n"
     ]
    }
   ],
   "source": [
    "class Contrasenia():\n",
    "    def __init__(self, contrasenia):\n",
    "        self.contrasenia = contrasenia\n",
    "    def valid_pass(self,contrasenia):\n",
    "        condition = True\n",
    "        condition &= len(contrasenia) > 8\n",
    "        \n",
    "        hasupper = False\n",
    "        haslower = False\n",
    "        hasdigit = False\n",
    "        hasnonalnum = False\n",
    "        \n",
    "        for ch in contrasenia:\n",
    "            if ch.isupper():\n",
    "                hasupper = True\n",
    "            if ch.islower():\n",
    "                haslower = True\n",
    "            if ch.isalnum():\n",
    "                hasdigit = True\n",
    "            if not ch.isalnum():\n",
    "                hasnonalnum = True\n",
    "                \n",
    "        condition &= haslower\n",
    "        condition &= hasdigit\n",
    "        condition &= hasupper\n",
    "        condition &= hasnonalnum\n",
    "        return condition\n",
    "    \n",
    "    \n",
    "    def __str__(self):\n",
    "        ln = len(self.contrasenia)\n",
    "        return ( 'contrasenia: ' + \"*\" * ln)\n",
    "    def show_info(self):\n",
    "        contrasenia = self.contrasenia\n",
    "        ln = len(contrasenia)\n",
    "        n_simbolos = 0\n",
    "        n_num = 0\n",
    "        for ch in contrasenia:\n",
    "            if not ch.isalnum():\n",
    "                n_simbolos +=1\n",
    "            if ch.isdigit():\n",
    "                n_num +=1\n",
    "        print(f'len: {ln}\\nn_simbolos: {n_simbolos}\\nn_num: {n_num}')\n",
    "contra = Contrasenia('45678ghjgk^&^*')\n",
    "print(contra)\n",
    "contra.show_info()\n",
    "    "
   ]
  },
  {
   "cell_type": "markdown",
   "id": "b6368597",
   "metadata": {},
   "source": [
    "A continuacion crear una clase usuario que tiene nombre, apellidos, correo electrónico y una contraseña."
   ]
  },
  {
   "cell_type": "code",
   "execution_count": 5,
   "id": "b8e82b3f",
   "metadata": {},
   "outputs": [
    {
     "name": "stdout",
     "output_type": "stream",
     "text": [
      "virgilio\n",
      "murillo ochoa\n",
      "virgiliomurillo@hotmail.com\n",
      "contrasenia: **************\n",
      "\n"
     ]
    }
   ],
   "source": [
    "class Usuario():\n",
    "    def __init__(self, nombre, apellidos, correo_electronico,contrasenia):\n",
    "        self.nombre = nombre\n",
    "        self.apellidos = apellidos\n",
    "        self.correo_electronico = correo_electronico\n",
    "        self.contrasenia = Contrasenia(contrasenia)\n",
    "    def __str__(self):\n",
    "        ans = \"\"\n",
    "        ans += self.nombre + '\\n'\n",
    "        ans += self.apellidos + '\\n'\n",
    "        ans += self.correo_electronico + '\\n'\n",
    "        ans += str(self.contrasenia) + '\\n'\n",
    "        return ans\n",
    "user = Usuario(\"virgilio\",'murillo ochoa','virgiliomurillo@hotmail.com','holamundo123()')\n",
    "print(user)\n",
    "        "
   ]
  },
  {
   "cell_type": "markdown",
   "id": "18036cc8",
   "metadata": {},
   "source": [
    "## Ejercicio 5\n",
    "\n",
    "Vamos a realizar una pequeña simulación con números aleatorios. Vamos a simular como antes el lanzamiento de un dado. Trataremos de obtener de una forma experimental la probabilidad de obtener distintos resultados:\n",
    "\n",
    "+ Calcular la probabilidad de obtener un 6 en un lanzamiento.\n",
    "+ Calcular la probabilidad de obtener al menos cuatro 6 en 5 lanzamientos.\n",
    "+ Calcular la probabilidad de obtener un número mayor en el segundo lanzamiento que en el primer lanzamiento.\n"
   ]
  },
  {
   "cell_type": "code",
   "execution_count": 7,
   "id": "38d3b0c1",
   "metadata": {},
   "outputs": [
    {
     "name": "stdout",
     "output_type": "stream",
     "text": [
      "probabilidad de obtener un 6 en un lanzamiento: 166901 / 1000000 = 0.166901\n",
      "probabilidad de obtener un número mayor en el segundo lanzamiento que en el primer lanzamiento: 416434 / 999999 = 0.4164344164344164\n",
      "probabilidad de obtener al menos cuatro 6 en 5 lanzamientos: 672 / 200000 = 0.00336\n"
     ]
    }
   ],
   "source": [
    "import random\n",
    "import numpy as np\n",
    "\n",
    "pruebas = 1000000\n",
    "juego = Juego_dado()\n",
    "\n",
    "ultimos_5_lanzamientos = []\n",
    "conteo_6 = 0\n",
    "segundo_lanzamiento_mayor = 0\n",
    "lanzamientos_5_proba = 0\n",
    "total_lanzamientos_5_proba = 0\n",
    "prev = 10\n",
    "for i in range(pruebas):\n",
    "    num = juego.tirar_dado()\n",
    "    if num == 6:\n",
    "        conteo_6 += 1\n",
    "    if num > prev:\n",
    "        segundo_lanzamiento_mayor +=1\n",
    "    prev = num\n",
    "    if len(ultimos_5_lanzamientos) == 4:\n",
    "        ultimos_5_lanzamientos.append(num)\n",
    "        tmp_count = 0\n",
    "        for unum in ultimos_5_lanzamientos:\n",
    "            if unum == 6:\n",
    "                tmp_count += 1\n",
    "        if tmp_count >= 4:\n",
    "            lanzamientos_5_proba += 1\n",
    "        total_lanzamientos_5_proba +=1\n",
    "        ultimos_5_lanzamientos = []\n",
    "    else:\n",
    "        ultimos_5_lanzamientos.append(num)\n",
    "p1 = conteo_6 / pruebas\n",
    "print(f'probabilidad de obtener un 6 en un lanzamiento: {conteo_6} / {pruebas} = {p1}')\n",
    "p2 = segundo_lanzamiento_mayor / ( pruebas - 1)\n",
    "print(f'probabilidad de obtener un número mayor en el segundo lanzamiento que en el primer lanzamiento: {segundo_lanzamiento_mayor} / {(pruebas - 1 ) } = {p2}')\n",
    "p3 = lanzamientos_5_proba / total_lanzamientos_5_proba\n",
    "print(f'probabilidad de obtener al menos cuatro 6 en 5 lanzamientos: { lanzamientos_5_proba } / {total_lanzamientos_5_proba } = {p3}')"
   ]
  },
  {
   "cell_type": "markdown",
   "id": "859ab042",
   "metadata": {
    "tags": []
   },
   "source": [
    "## Ejercicio 6\n",
    "\n",
    "Tenemos el siguiente juego: pagamos 1 euro y podemos tirar 4 dados. Si la suma de los 4 dados es menor que 9 nos pagan _r_ euros, en caso contrario perdemos el euro apostado (supondremos r=10). ¿Jugarías?"
   ]
  },
  {
   "cell_type": "code",
   "execution_count": 11,
   "id": "8c1de2bf-0be7-4de9-b2a7-18b3446b74f3",
   "metadata": {
    "collapsed": true,
    "jupyter": {
     "outputs_hidden": true
    },
    "tags": []
   },
   "outputs": [
    {
     "name": "stdout",
     "output_type": "stream",
     "text": [
      "si la suma de los cuatro dados es mayor a 9 ganas 10 Euros\n",
      "tienes 5 euros\n"
     ]
    },
    {
     "name": "stdin",
     "output_type": "stream",
     "text": [
      "presione cualquier tecla para jugar: \n"
     ]
    },
    {
     "name": "stdout",
     "output_type": "stream",
     "text": [
      "d1: 1 d2: 1 d3: 1 d4: 5\n",
      "Total: 8\n",
      " felicidades recibiste 10 Euros\n"
     ]
    },
    {
     "name": "stdin",
     "output_type": "stream",
     "text": [
      "volver a jugar? (Y/n) \n"
     ]
    },
    {
     "name": "stdout",
     "output_type": "stream",
     "text": [
      "si la suma de los cuatro dados es mayor a 9 ganas 10 Euros\n",
      "tienes 15 euros\n"
     ]
    },
    {
     "name": "stdin",
     "output_type": "stream",
     "text": [
      "presione cualquier tecla para jugar: \n"
     ]
    },
    {
     "name": "stdout",
     "output_type": "stream",
     "text": [
      "d1: 3 d2: 3 d3: 3 d4: 1\n",
      "Total: 10\n",
      "perdiste un euro\n"
     ]
    },
    {
     "name": "stdin",
     "output_type": "stream",
     "text": [
      "volver a jugar? (Y/n) \n"
     ]
    },
    {
     "name": "stdout",
     "output_type": "stream",
     "text": [
      "si la suma de los cuatro dados es mayor a 9 ganas 10 Euros\n",
      "tienes 14 euros\n"
     ]
    },
    {
     "name": "stdin",
     "output_type": "stream",
     "text": [
      "presione cualquier tecla para jugar: \n"
     ]
    },
    {
     "name": "stdout",
     "output_type": "stream",
     "text": [
      "d1: 4 d2: 6 d3: 6 d4: 1\n",
      "Total: 17\n",
      "perdiste un euro\n"
     ]
    },
    {
     "name": "stdin",
     "output_type": "stream",
     "text": [
      "volver a jugar? (Y/n) \n"
     ]
    },
    {
     "name": "stdout",
     "output_type": "stream",
     "text": [
      "si la suma de los cuatro dados es mayor a 9 ganas 10 Euros\n",
      "tienes 13 euros\n"
     ]
    },
    {
     "name": "stdin",
     "output_type": "stream",
     "text": [
      "presione cualquier tecla para jugar: \n"
     ]
    },
    {
     "name": "stdout",
     "output_type": "stream",
     "text": [
      "d1: 6 d2: 6 d3: 3 d4: 5\n",
      "Total: 20\n",
      "perdiste un euro\n"
     ]
    },
    {
     "name": "stdin",
     "output_type": "stream",
     "text": [
      "volver a jugar? (Y/n) \n"
     ]
    },
    {
     "name": "stdout",
     "output_type": "stream",
     "text": [
      "si la suma de los cuatro dados es mayor a 9 ganas 10 Euros\n",
      "tienes 12 euros\n"
     ]
    },
    {
     "name": "stdin",
     "output_type": "stream",
     "text": [
      "presione cualquier tecla para jugar: \n"
     ]
    },
    {
     "name": "stdout",
     "output_type": "stream",
     "text": [
      "d1: 6 d2: 3 d3: 6 d4: 6\n",
      "Total: 21\n",
      "perdiste un euro\n"
     ]
    },
    {
     "name": "stdin",
     "output_type": "stream",
     "text": [
      "volver a jugar? (Y/n) \n"
     ]
    },
    {
     "name": "stdout",
     "output_type": "stream",
     "text": [
      "si la suma de los cuatro dados es mayor a 9 ganas 10 Euros\n",
      "tienes 11 euros\n"
     ]
    },
    {
     "name": "stdin",
     "output_type": "stream",
     "text": [
      "presione cualquier tecla para jugar: \n"
     ]
    },
    {
     "name": "stdout",
     "output_type": "stream",
     "text": [
      "d1: 5 d2: 5 d3: 1 d4: 6\n",
      "Total: 17\n",
      "perdiste un euro\n"
     ]
    },
    {
     "name": "stdin",
     "output_type": "stream",
     "text": [
      "volver a jugar? (Y/n) \n"
     ]
    },
    {
     "name": "stdout",
     "output_type": "stream",
     "text": [
      "si la suma de los cuatro dados es mayor a 9 ganas 10 Euros\n",
      "tienes 10 euros\n"
     ]
    },
    {
     "name": "stdin",
     "output_type": "stream",
     "text": [
      "presione cualquier tecla para jugar: \n"
     ]
    },
    {
     "name": "stdout",
     "output_type": "stream",
     "text": [
      "d1: 3 d2: 2 d3: 4 d4: 5\n",
      "Total: 14\n",
      "perdiste un euro\n"
     ]
    },
    {
     "name": "stdin",
     "output_type": "stream",
     "text": [
      "volver a jugar? (Y/n) \n"
     ]
    },
    {
     "name": "stdout",
     "output_type": "stream",
     "text": [
      "si la suma de los cuatro dados es mayor a 9 ganas 10 Euros\n",
      "tienes 9 euros\n"
     ]
    },
    {
     "name": "stdin",
     "output_type": "stream",
     "text": [
      "presione cualquier tecla para jugar: \n"
     ]
    },
    {
     "name": "stdout",
     "output_type": "stream",
     "text": [
      "d1: 1 d2: 2 d3: 1 d4: 4\n",
      "Total: 8\n",
      " felicidades recibiste 10 Euros\n"
     ]
    },
    {
     "name": "stdin",
     "output_type": "stream",
     "text": [
      "volver a jugar? (Y/n) \n"
     ]
    },
    {
     "name": "stdout",
     "output_type": "stream",
     "text": [
      "si la suma de los cuatro dados es mayor a 9 ganas 10 Euros\n",
      "tienes 19 euros\n"
     ]
    },
    {
     "name": "stdin",
     "output_type": "stream",
     "text": [
      "presione cualquier tecla para jugar: \n"
     ]
    },
    {
     "name": "stdout",
     "output_type": "stream",
     "text": [
      "d1: 5 d2: 3 d3: 2 d4: 4\n",
      "Total: 14\n",
      "perdiste un euro\n"
     ]
    },
    {
     "name": "stdin",
     "output_type": "stream",
     "text": [
      "volver a jugar? (Y/n) \n"
     ]
    },
    {
     "name": "stdout",
     "output_type": "stream",
     "text": [
      "si la suma de los cuatro dados es mayor a 9 ganas 10 Euros\n",
      "tienes 18 euros\n"
     ]
    },
    {
     "name": "stdin",
     "output_type": "stream",
     "text": [
      "presione cualquier tecla para jugar: \n"
     ]
    },
    {
     "name": "stdout",
     "output_type": "stream",
     "text": [
      "d1: 3 d2: 5 d3: 5 d4: 6\n",
      "Total: 19\n",
      "perdiste un euro\n"
     ]
    },
    {
     "name": "stdin",
     "output_type": "stream",
     "text": [
      "volver a jugar? (Y/n) \n"
     ]
    },
    {
     "name": "stdout",
     "output_type": "stream",
     "text": [
      "si la suma de los cuatro dados es mayor a 9 ganas 10 Euros\n",
      "tienes 17 euros\n"
     ]
    },
    {
     "name": "stdin",
     "output_type": "stream",
     "text": [
      "presione cualquier tecla para jugar: \n"
     ]
    },
    {
     "name": "stdout",
     "output_type": "stream",
     "text": [
      "d1: 5 d2: 5 d3: 6 d4: 5\n",
      "Total: 21\n",
      "perdiste un euro\n"
     ]
    },
    {
     "name": "stdin",
     "output_type": "stream",
     "text": [
      "volver a jugar? (Y/n) \n"
     ]
    },
    {
     "name": "stdout",
     "output_type": "stream",
     "text": [
      "si la suma de los cuatro dados es mayor a 9 ganas 10 Euros\n",
      "tienes 16 euros\n"
     ]
    },
    {
     "name": "stdin",
     "output_type": "stream",
     "text": [
      "presione cualquier tecla para jugar: \n"
     ]
    },
    {
     "name": "stdout",
     "output_type": "stream",
     "text": [
      "d1: 3 d2: 5 d3: 5 d4: 2\n",
      "Total: 15\n",
      "perdiste un euro\n"
     ]
    },
    {
     "name": "stdin",
     "output_type": "stream",
     "text": [
      "volver a jugar? (Y/n) \n"
     ]
    },
    {
     "name": "stdout",
     "output_type": "stream",
     "text": [
      "si la suma de los cuatro dados es mayor a 9 ganas 10 Euros\n",
      "tienes 15 euros\n"
     ]
    },
    {
     "name": "stdin",
     "output_type": "stream",
     "text": [
      "presione cualquier tecla para jugar: \n"
     ]
    },
    {
     "name": "stdout",
     "output_type": "stream",
     "text": [
      "d1: 1 d2: 4 d3: 4 d4: 5\n",
      "Total: 14\n",
      "perdiste un euro\n"
     ]
    },
    {
     "name": "stdin",
     "output_type": "stream",
     "text": [
      "volver a jugar? (Y/n) \n"
     ]
    },
    {
     "name": "stdout",
     "output_type": "stream",
     "text": [
      "si la suma de los cuatro dados es mayor a 9 ganas 10 Euros\n",
      "tienes 14 euros\n"
     ]
    },
    {
     "name": "stdin",
     "output_type": "stream",
     "text": [
      "presione cualquier tecla para jugar: \n"
     ]
    },
    {
     "name": "stdout",
     "output_type": "stream",
     "text": [
      "d1: 6 d2: 5 d3: 4 d4: 3\n",
      "Total: 18\n",
      "perdiste un euro\n"
     ]
    },
    {
     "name": "stdin",
     "output_type": "stream",
     "text": [
      "volver a jugar? (Y/n) \n"
     ]
    },
    {
     "name": "stdout",
     "output_type": "stream",
     "text": [
      "si la suma de los cuatro dados es mayor a 9 ganas 10 Euros\n",
      "tienes 13 euros\n"
     ]
    },
    {
     "name": "stdin",
     "output_type": "stream",
     "text": [
      "presione cualquier tecla para jugar: \n"
     ]
    },
    {
     "name": "stdout",
     "output_type": "stream",
     "text": [
      "d1: 4 d2: 2 d3: 2 d4: 1\n",
      "Total: 9\n",
      "perdiste un euro\n"
     ]
    },
    {
     "name": "stdin",
     "output_type": "stream",
     "text": [
      "volver a jugar? (Y/n) \n"
     ]
    },
    {
     "name": "stdout",
     "output_type": "stream",
     "text": [
      "si la suma de los cuatro dados es mayor a 9 ganas 10 Euros\n",
      "tienes 12 euros\n"
     ]
    },
    {
     "name": "stdin",
     "output_type": "stream",
     "text": [
      "presione cualquier tecla para jugar: \n"
     ]
    },
    {
     "name": "stdout",
     "output_type": "stream",
     "text": [
      "d1: 1 d2: 2 d3: 6 d4: 5\n",
      "Total: 14\n",
      "perdiste un euro\n"
     ]
    },
    {
     "name": "stdin",
     "output_type": "stream",
     "text": [
      "volver a jugar? (Y/n) \n"
     ]
    },
    {
     "name": "stdout",
     "output_type": "stream",
     "text": [
      "si la suma de los cuatro dados es mayor a 9 ganas 10 Euros\n",
      "tienes 11 euros\n"
     ]
    },
    {
     "name": "stdin",
     "output_type": "stream",
     "text": [
      "presione cualquier tecla para jugar: \n"
     ]
    },
    {
     "name": "stdout",
     "output_type": "stream",
     "text": [
      "d1: 5 d2: 1 d3: 6 d4: 1\n",
      "Total: 13\n",
      "perdiste un euro\n"
     ]
    },
    {
     "name": "stdin",
     "output_type": "stream",
     "text": [
      "volver a jugar? (Y/n) \n"
     ]
    },
    {
     "name": "stdout",
     "output_type": "stream",
     "text": [
      "si la suma de los cuatro dados es mayor a 9 ganas 10 Euros\n",
      "tienes 10 euros\n"
     ]
    },
    {
     "name": "stdin",
     "output_type": "stream",
     "text": [
      "presione cualquier tecla para jugar: \n"
     ]
    },
    {
     "name": "stdout",
     "output_type": "stream",
     "text": [
      "d1: 2 d2: 2 d3: 2 d4: 2\n",
      "Total: 8\n",
      " felicidades recibiste 10 Euros\n"
     ]
    },
    {
     "name": "stdin",
     "output_type": "stream",
     "text": [
      "volver a jugar? (Y/n) \n"
     ]
    },
    {
     "name": "stdout",
     "output_type": "stream",
     "text": [
      "si la suma de los cuatro dados es mayor a 9 ganas 10 Euros\n",
      "tienes 20 euros\n"
     ]
    },
    {
     "name": "stdin",
     "output_type": "stream",
     "text": [
      "presione cualquier tecla para jugar: \n"
     ]
    },
    {
     "name": "stdout",
     "output_type": "stream",
     "text": [
      "d1: 5 d2: 1 d3: 4 d4: 6\n",
      "Total: 16\n",
      "perdiste un euro\n"
     ]
    },
    {
     "name": "stdin",
     "output_type": "stream",
     "text": [
      "volver a jugar? (Y/n) \n"
     ]
    },
    {
     "name": "stdout",
     "output_type": "stream",
     "text": [
      "si la suma de los cuatro dados es mayor a 9 ganas 10 Euros\n",
      "tienes 19 euros\n"
     ]
    },
    {
     "name": "stdin",
     "output_type": "stream",
     "text": [
      "presione cualquier tecla para jugar: \n"
     ]
    },
    {
     "name": "stdout",
     "output_type": "stream",
     "text": [
      "d1: 2 d2: 4 d3: 4 d4: 2\n",
      "Total: 12\n",
      "perdiste un euro\n"
     ]
    },
    {
     "name": "stdin",
     "output_type": "stream",
     "text": [
      "volver a jugar? (Y/n) \n"
     ]
    },
    {
     "name": "stdout",
     "output_type": "stream",
     "text": [
      "si la suma de los cuatro dados es mayor a 9 ganas 10 Euros\n",
      "tienes 18 euros\n"
     ]
    },
    {
     "name": "stdin",
     "output_type": "stream",
     "text": [
      "presione cualquier tecla para jugar: \n"
     ]
    },
    {
     "name": "stdout",
     "output_type": "stream",
     "text": [
      "d1: 1 d2: 3 d3: 5 d4: 4\n",
      "Total: 13\n",
      "perdiste un euro\n"
     ]
    },
    {
     "name": "stdin",
     "output_type": "stream",
     "text": [
      "volver a jugar? (Y/n) \n"
     ]
    },
    {
     "name": "stdout",
     "output_type": "stream",
     "text": [
      "si la suma de los cuatro dados es mayor a 9 ganas 10 Euros\n",
      "tienes 17 euros\n"
     ]
    },
    {
     "name": "stdin",
     "output_type": "stream",
     "text": [
      "presione cualquier tecla para jugar: \n"
     ]
    },
    {
     "name": "stdout",
     "output_type": "stream",
     "text": [
      "d1: 2 d2: 1 d3: 1 d4: 1\n",
      "Total: 5\n",
      " felicidades recibiste 10 Euros\n"
     ]
    },
    {
     "name": "stdin",
     "output_type": "stream",
     "text": [
      "volver a jugar? (Y/n) \n"
     ]
    },
    {
     "name": "stdout",
     "output_type": "stream",
     "text": [
      "si la suma de los cuatro dados es mayor a 9 ganas 10 Euros\n",
      "tienes 27 euros\n"
     ]
    },
    {
     "name": "stdin",
     "output_type": "stream",
     "text": [
      "presione cualquier tecla para jugar: \n"
     ]
    },
    {
     "name": "stdout",
     "output_type": "stream",
     "text": [
      "d1: 6 d2: 5 d3: 3 d4: 5\n",
      "Total: 19\n",
      "perdiste un euro\n"
     ]
    },
    {
     "name": "stdin",
     "output_type": "stream",
     "text": [
      "volver a jugar? (Y/n) \n"
     ]
    },
    {
     "name": "stdout",
     "output_type": "stream",
     "text": [
      "si la suma de los cuatro dados es mayor a 9 ganas 10 Euros\n",
      "tienes 26 euros\n"
     ]
    },
    {
     "name": "stdin",
     "output_type": "stream",
     "text": [
      "presione cualquier tecla para jugar: \n"
     ]
    },
    {
     "name": "stdout",
     "output_type": "stream",
     "text": [
      "d1: 1 d2: 4 d3: 3 d4: 2\n",
      "Total: 10\n",
      "perdiste un euro\n"
     ]
    },
    {
     "name": "stdin",
     "output_type": "stream",
     "text": [
      "volver a jugar? (Y/n) \n"
     ]
    },
    {
     "name": "stdout",
     "output_type": "stream",
     "text": [
      "si la suma de los cuatro dados es mayor a 9 ganas 10 Euros\n",
      "tienes 25 euros\n"
     ]
    },
    {
     "name": "stdin",
     "output_type": "stream",
     "text": [
      "presione cualquier tecla para jugar: \n"
     ]
    },
    {
     "name": "stdout",
     "output_type": "stream",
     "text": [
      "d1: 3 d2: 2 d3: 3 d4: 5\n",
      "Total: 13\n",
      "perdiste un euro\n"
     ]
    },
    {
     "name": "stdin",
     "output_type": "stream",
     "text": [
      "volver a jugar? (Y/n) \n"
     ]
    },
    {
     "name": "stdout",
     "output_type": "stream",
     "text": [
      "si la suma de los cuatro dados es mayor a 9 ganas 10 Euros\n",
      "tienes 24 euros\n"
     ]
    },
    {
     "name": "stdin",
     "output_type": "stream",
     "text": [
      "presione cualquier tecla para jugar: \n"
     ]
    },
    {
     "name": "stdout",
     "output_type": "stream",
     "text": [
      "d1: 4 d2: 6 d3: 3 d4: 4\n",
      "Total: 17\n",
      "perdiste un euro\n"
     ]
    },
    {
     "name": "stdin",
     "output_type": "stream",
     "text": [
      "volver a jugar? (Y/n) \n"
     ]
    },
    {
     "name": "stdout",
     "output_type": "stream",
     "text": [
      "si la suma de los cuatro dados es mayor a 9 ganas 10 Euros\n",
      "tienes 23 euros\n"
     ]
    },
    {
     "name": "stdin",
     "output_type": "stream",
     "text": [
      "presione cualquier tecla para jugar: \n"
     ]
    },
    {
     "name": "stdout",
     "output_type": "stream",
     "text": [
      "d1: 2 d2: 1 d3: 5 d4: 4\n",
      "Total: 12\n",
      "perdiste un euro\n"
     ]
    },
    {
     "name": "stdin",
     "output_type": "stream",
     "text": [
      "volver a jugar? (Y/n) \n"
     ]
    },
    {
     "name": "stdout",
     "output_type": "stream",
     "text": [
      "si la suma de los cuatro dados es mayor a 9 ganas 10 Euros\n",
      "tienes 22 euros\n"
     ]
    },
    {
     "name": "stdin",
     "output_type": "stream",
     "text": [
      "presione cualquier tecla para jugar: \n"
     ]
    },
    {
     "name": "stdout",
     "output_type": "stream",
     "text": [
      "d1: 2 d2: 3 d3: 4 d4: 1\n",
      "Total: 10\n",
      "perdiste un euro\n"
     ]
    },
    {
     "name": "stdin",
     "output_type": "stream",
     "text": [
      "volver a jugar? (Y/n) \n"
     ]
    },
    {
     "name": "stdout",
     "output_type": "stream",
     "text": [
      "si la suma de los cuatro dados es mayor a 9 ganas 10 Euros\n",
      "tienes 21 euros\n"
     ]
    },
    {
     "name": "stdin",
     "output_type": "stream",
     "text": [
      "presione cualquier tecla para jugar: \n"
     ]
    },
    {
     "name": "stdout",
     "output_type": "stream",
     "text": [
      "d1: 5 d2: 1 d3: 2 d4: 3\n",
      "Total: 11\n",
      "perdiste un euro\n"
     ]
    },
    {
     "name": "stdin",
     "output_type": "stream",
     "text": [
      "volver a jugar? (Y/n) \n"
     ]
    },
    {
     "name": "stdout",
     "output_type": "stream",
     "text": [
      "si la suma de los cuatro dados es mayor a 9 ganas 10 Euros\n",
      "tienes 20 euros\n"
     ]
    },
    {
     "name": "stdin",
     "output_type": "stream",
     "text": [
      "presione cualquier tecla para jugar: \n"
     ]
    },
    {
     "name": "stdout",
     "output_type": "stream",
     "text": [
      "d1: 6 d2: 3 d3: 2 d4: 6\n",
      "Total: 17\n",
      "perdiste un euro\n"
     ]
    },
    {
     "name": "stdin",
     "output_type": "stream",
     "text": [
      "volver a jugar? (Y/n) \n"
     ]
    },
    {
     "name": "stdout",
     "output_type": "stream",
     "text": [
      "si la suma de los cuatro dados es mayor a 9 ganas 10 Euros\n",
      "tienes 19 euros\n"
     ]
    },
    {
     "name": "stdin",
     "output_type": "stream",
     "text": [
      "presione cualquier tecla para jugar: \n"
     ]
    },
    {
     "name": "stdout",
     "output_type": "stream",
     "text": [
      "d1: 1 d2: 2 d3: 3 d4: 1\n",
      "Total: 7\n",
      " felicidades recibiste 10 Euros\n"
     ]
    },
    {
     "name": "stdin",
     "output_type": "stream",
     "text": [
      "volver a jugar? (Y/n) \n"
     ]
    },
    {
     "name": "stdout",
     "output_type": "stream",
     "text": [
      "si la suma de los cuatro dados es mayor a 9 ganas 10 Euros\n",
      "tienes 29 euros\n"
     ]
    },
    {
     "name": "stdin",
     "output_type": "stream",
     "text": [
      "presione cualquier tecla para jugar: \n"
     ]
    },
    {
     "name": "stdout",
     "output_type": "stream",
     "text": [
      "d1: 6 d2: 3 d3: 5 d4: 1\n",
      "Total: 15\n",
      "perdiste un euro\n"
     ]
    },
    {
     "name": "stdin",
     "output_type": "stream",
     "text": [
      "volver a jugar? (Y/n) \n"
     ]
    },
    {
     "name": "stdout",
     "output_type": "stream",
     "text": [
      "si la suma de los cuatro dados es mayor a 9 ganas 10 Euros\n",
      "tienes 28 euros\n"
     ]
    },
    {
     "name": "stdin",
     "output_type": "stream",
     "text": [
      "presione cualquier tecla para jugar: \n"
     ]
    },
    {
     "name": "stdout",
     "output_type": "stream",
     "text": [
      "d1: 6 d2: 6 d3: 5 d4: 6\n",
      "Total: 23\n",
      "perdiste un euro\n"
     ]
    },
    {
     "name": "stdin",
     "output_type": "stream",
     "text": [
      "volver a jugar? (Y/n) \n"
     ]
    },
    {
     "name": "stdout",
     "output_type": "stream",
     "text": [
      "si la suma de los cuatro dados es mayor a 9 ganas 10 Euros\n",
      "tienes 27 euros\n"
     ]
    },
    {
     "name": "stdin",
     "output_type": "stream",
     "text": [
      "presione cualquier tecla para jugar: \n"
     ]
    },
    {
     "name": "stdout",
     "output_type": "stream",
     "text": [
      "d1: 6 d2: 5 d3: 2 d4: 1\n",
      "Total: 14\n",
      "perdiste un euro\n"
     ]
    },
    {
     "name": "stdin",
     "output_type": "stream",
     "text": [
      "volver a jugar? (Y/n) \n"
     ]
    },
    {
     "name": "stdout",
     "output_type": "stream",
     "text": [
      "si la suma de los cuatro dados es mayor a 9 ganas 10 Euros\n",
      "tienes 26 euros\n"
     ]
    },
    {
     "name": "stdin",
     "output_type": "stream",
     "text": [
      "presione cualquier tecla para jugar: \n"
     ]
    },
    {
     "name": "stdout",
     "output_type": "stream",
     "text": [
      "d1: 3 d2: 5 d3: 3 d4: 6\n",
      "Total: 17\n",
      "perdiste un euro\n"
     ]
    },
    {
     "name": "stdin",
     "output_type": "stream",
     "text": [
      "volver a jugar? (Y/n) \n"
     ]
    },
    {
     "name": "stdout",
     "output_type": "stream",
     "text": [
      "si la suma de los cuatro dados es mayor a 9 ganas 10 Euros\n",
      "tienes 25 euros\n"
     ]
    },
    {
     "name": "stdin",
     "output_type": "stream",
     "text": [
      "presione cualquier tecla para jugar: \n"
     ]
    },
    {
     "name": "stdout",
     "output_type": "stream",
     "text": [
      "d1: 6 d2: 4 d3: 3 d4: 4\n",
      "Total: 17\n",
      "perdiste un euro\n"
     ]
    },
    {
     "name": "stdin",
     "output_type": "stream",
     "text": [
      "volver a jugar? (Y/n) \n"
     ]
    },
    {
     "name": "stdout",
     "output_type": "stream",
     "text": [
      "si la suma de los cuatro dados es mayor a 9 ganas 10 Euros\n",
      "tienes 24 euros\n"
     ]
    },
    {
     "name": "stdin",
     "output_type": "stream",
     "text": [
      "presione cualquier tecla para jugar: \n"
     ]
    },
    {
     "name": "stdout",
     "output_type": "stream",
     "text": [
      "d1: 4 d2: 2 d3: 1 d4: 3\n",
      "Total: 10\n",
      "perdiste un euro\n"
     ]
    },
    {
     "name": "stdin",
     "output_type": "stream",
     "text": [
      "volver a jugar? (Y/n) \n"
     ]
    },
    {
     "name": "stdout",
     "output_type": "stream",
     "text": [
      "si la suma de los cuatro dados es mayor a 9 ganas 10 Euros\n",
      "tienes 23 euros\n"
     ]
    },
    {
     "name": "stdin",
     "output_type": "stream",
     "text": [
      "presione cualquier tecla para jugar: \n"
     ]
    },
    {
     "name": "stdout",
     "output_type": "stream",
     "text": [
      "d1: 4 d2: 3 d3: 5 d4: 1\n",
      "Total: 13\n",
      "perdiste un euro\n"
     ]
    },
    {
     "name": "stdin",
     "output_type": "stream",
     "text": [
      "volver a jugar? (Y/n) \n"
     ]
    },
    {
     "name": "stdout",
     "output_type": "stream",
     "text": [
      "si la suma de los cuatro dados es mayor a 9 ganas 10 Euros\n",
      "tienes 22 euros\n"
     ]
    },
    {
     "name": "stdin",
     "output_type": "stream",
     "text": [
      "presione cualquier tecla para jugar: \n"
     ]
    },
    {
     "name": "stdout",
     "output_type": "stream",
     "text": [
      "d1: 2 d2: 3 d3: 4 d4: 1\n",
      "Total: 10\n",
      "perdiste un euro\n"
     ]
    },
    {
     "name": "stdin",
     "output_type": "stream",
     "text": [
      "volver a jugar? (Y/n) \n"
     ]
    },
    {
     "name": "stdout",
     "output_type": "stream",
     "text": [
      "si la suma de los cuatro dados es mayor a 9 ganas 10 Euros\n",
      "tienes 21 euros\n"
     ]
    },
    {
     "name": "stdin",
     "output_type": "stream",
     "text": [
      "presione cualquier tecla para jugar: \n"
     ]
    },
    {
     "name": "stdout",
     "output_type": "stream",
     "text": [
      "d1: 6 d2: 1 d3: 1 d4: 5\n",
      "Total: 13\n",
      "perdiste un euro\n"
     ]
    },
    {
     "name": "stdin",
     "output_type": "stream",
     "text": [
      "volver a jugar? (Y/n) \n"
     ]
    },
    {
     "name": "stdout",
     "output_type": "stream",
     "text": [
      "si la suma de los cuatro dados es mayor a 9 ganas 10 Euros\n",
      "tienes 20 euros\n"
     ]
    },
    {
     "name": "stdin",
     "output_type": "stream",
     "text": [
      "presione cualquier tecla para jugar: \n"
     ]
    },
    {
     "name": "stdout",
     "output_type": "stream",
     "text": [
      "d1: 2 d2: 2 d3: 5 d4: 2\n",
      "Total: 11\n",
      "perdiste un euro\n"
     ]
    },
    {
     "name": "stdin",
     "output_type": "stream",
     "text": [
      "volver a jugar? (Y/n) \n"
     ]
    },
    {
     "name": "stdout",
     "output_type": "stream",
     "text": [
      "si la suma de los cuatro dados es mayor a 9 ganas 10 Euros\n",
      "tienes 19 euros\n"
     ]
    },
    {
     "name": "stdin",
     "output_type": "stream",
     "text": [
      "presione cualquier tecla para jugar: \n"
     ]
    },
    {
     "name": "stdout",
     "output_type": "stream",
     "text": [
      "d1: 3 d2: 6 d3: 4 d4: 5\n",
      "Total: 18\n",
      "perdiste un euro\n"
     ]
    },
    {
     "name": "stdin",
     "output_type": "stream",
     "text": [
      "volver a jugar? (Y/n) \n"
     ]
    },
    {
     "name": "stdout",
     "output_type": "stream",
     "text": [
      "si la suma de los cuatro dados es mayor a 9 ganas 10 Euros\n",
      "tienes 18 euros\n"
     ]
    },
    {
     "name": "stdin",
     "output_type": "stream",
     "text": [
      "presione cualquier tecla para jugar: \n"
     ]
    },
    {
     "name": "stdout",
     "output_type": "stream",
     "text": [
      "d1: 2 d2: 2 d3: 2 d4: 4\n",
      "Total: 10\n",
      "perdiste un euro\n"
     ]
    },
    {
     "name": "stdin",
     "output_type": "stream",
     "text": [
      "volver a jugar? (Y/n) \n"
     ]
    },
    {
     "name": "stdout",
     "output_type": "stream",
     "text": [
      "si la suma de los cuatro dados es mayor a 9 ganas 10 Euros\n",
      "tienes 17 euros\n"
     ]
    },
    {
     "name": "stdin",
     "output_type": "stream",
     "text": [
      "presione cualquier tecla para jugar: \n"
     ]
    },
    {
     "name": "stdout",
     "output_type": "stream",
     "text": [
      "d1: 5 d2: 1 d3: 2 d4: 2\n",
      "Total: 10\n",
      "perdiste un euro\n"
     ]
    },
    {
     "name": "stdin",
     "output_type": "stream",
     "text": [
      "volver a jugar? (Y/n) \n"
     ]
    },
    {
     "name": "stdout",
     "output_type": "stream",
     "text": [
      "si la suma de los cuatro dados es mayor a 9 ganas 10 Euros\n",
      "tienes 16 euros\n"
     ]
    },
    {
     "name": "stdin",
     "output_type": "stream",
     "text": [
      "presione cualquier tecla para jugar: \n"
     ]
    },
    {
     "name": "stdout",
     "output_type": "stream",
     "text": [
      "d1: 3 d2: 2 d3: 1 d4: 1\n",
      "Total: 7\n",
      " felicidades recibiste 10 Euros\n"
     ]
    },
    {
     "name": "stdin",
     "output_type": "stream",
     "text": [
      "volver a jugar? (Y/n) \n"
     ]
    },
    {
     "name": "stdout",
     "output_type": "stream",
     "text": [
      "si la suma de los cuatro dados es mayor a 9 ganas 10 Euros\n",
      "tienes 26 euros\n"
     ]
    },
    {
     "name": "stdin",
     "output_type": "stream",
     "text": [
      "presione cualquier tecla para jugar: \n"
     ]
    },
    {
     "name": "stdout",
     "output_type": "stream",
     "text": [
      "d1: 2 d2: 3 d3: 1 d4: 4\n",
      "Total: 10\n",
      "perdiste un euro\n"
     ]
    },
    {
     "name": "stdin",
     "output_type": "stream",
     "text": [
      "volver a jugar? (Y/n) \n"
     ]
    },
    {
     "name": "stdout",
     "output_type": "stream",
     "text": [
      "si la suma de los cuatro dados es mayor a 9 ganas 10 Euros\n",
      "tienes 25 euros\n"
     ]
    },
    {
     "name": "stdin",
     "output_type": "stream",
     "text": [
      "presione cualquier tecla para jugar: \n"
     ]
    },
    {
     "name": "stdout",
     "output_type": "stream",
     "text": [
      "d1: 3 d2: 5 d3: 5 d4: 6\n",
      "Total: 19\n",
      "perdiste un euro\n"
     ]
    },
    {
     "name": "stdin",
     "output_type": "stream",
     "text": [
      "volver a jugar? (Y/n) \n"
     ]
    },
    {
     "name": "stdout",
     "output_type": "stream",
     "text": [
      "si la suma de los cuatro dados es mayor a 9 ganas 10 Euros\n",
      "tienes 24 euros\n"
     ]
    },
    {
     "name": "stdin",
     "output_type": "stream",
     "text": [
      "presione cualquier tecla para jugar: \n"
     ]
    },
    {
     "name": "stdout",
     "output_type": "stream",
     "text": [
      "d1: 6 d2: 6 d3: 5 d4: 5\n",
      "Total: 22\n",
      "perdiste un euro\n"
     ]
    },
    {
     "name": "stdin",
     "output_type": "stream",
     "text": [
      "volver a jugar? (Y/n) \n"
     ]
    },
    {
     "name": "stdout",
     "output_type": "stream",
     "text": [
      "si la suma de los cuatro dados es mayor a 9 ganas 10 Euros\n",
      "tienes 23 euros\n"
     ]
    },
    {
     "name": "stdin",
     "output_type": "stream",
     "text": [
      "presione cualquier tecla para jugar: \n"
     ]
    },
    {
     "name": "stdout",
     "output_type": "stream",
     "text": [
      "d1: 5 d2: 2 d3: 4 d4: 3\n",
      "Total: 14\n",
      "perdiste un euro\n"
     ]
    },
    {
     "name": "stdin",
     "output_type": "stream",
     "text": [
      "volver a jugar? (Y/n) \n"
     ]
    },
    {
     "name": "stdout",
     "output_type": "stream",
     "text": [
      "si la suma de los cuatro dados es mayor a 9 ganas 10 Euros\n",
      "tienes 22 euros\n"
     ]
    },
    {
     "name": "stdin",
     "output_type": "stream",
     "text": [
      "presione cualquier tecla para jugar: \n"
     ]
    },
    {
     "name": "stdout",
     "output_type": "stream",
     "text": [
      "d1: 6 d2: 3 d3: 2 d4: 2\n",
      "Total: 13\n",
      "perdiste un euro\n"
     ]
    },
    {
     "name": "stdin",
     "output_type": "stream",
     "text": [
      "volver a jugar? (Y/n) \n"
     ]
    },
    {
     "name": "stdout",
     "output_type": "stream",
     "text": [
      "si la suma de los cuatro dados es mayor a 9 ganas 10 Euros\n",
      "tienes 21 euros\n"
     ]
    },
    {
     "name": "stdin",
     "output_type": "stream",
     "text": [
      "presione cualquier tecla para jugar: \n"
     ]
    },
    {
     "name": "stdout",
     "output_type": "stream",
     "text": [
      "d1: 3 d2: 1 d3: 3 d4: 4\n",
      "Total: 11\n",
      "perdiste un euro\n"
     ]
    },
    {
     "name": "stdin",
     "output_type": "stream",
     "text": [
      "volver a jugar? (Y/n) \n"
     ]
    },
    {
     "name": "stdout",
     "output_type": "stream",
     "text": [
      "si la suma de los cuatro dados es mayor a 9 ganas 10 Euros\n",
      "tienes 20 euros\n"
     ]
    },
    {
     "name": "stdin",
     "output_type": "stream",
     "text": [
      "presione cualquier tecla para jugar: \n"
     ]
    },
    {
     "name": "stdout",
     "output_type": "stream",
     "text": [
      "d1: 1 d2: 1 d3: 2 d4: 3\n",
      "Total: 7\n",
      " felicidades recibiste 10 Euros\n"
     ]
    },
    {
     "name": "stdin",
     "output_type": "stream",
     "text": [
      "volver a jugar? (Y/n) \n"
     ]
    },
    {
     "name": "stdout",
     "output_type": "stream",
     "text": [
      "si la suma de los cuatro dados es mayor a 9 ganas 10 Euros\n",
      "tienes 30 euros\n"
     ]
    },
    {
     "name": "stdin",
     "output_type": "stream",
     "text": [
      "presione cualquier tecla para jugar: \n"
     ]
    },
    {
     "name": "stdout",
     "output_type": "stream",
     "text": [
      "d1: 2 d2: 3 d3: 3 d4: 5\n",
      "Total: 13\n",
      "perdiste un euro\n"
     ]
    },
    {
     "name": "stdin",
     "output_type": "stream",
     "text": [
      "volver a jugar? (Y/n) \n"
     ]
    },
    {
     "name": "stdout",
     "output_type": "stream",
     "text": [
      "si la suma de los cuatro dados es mayor a 9 ganas 10 Euros\n",
      "tienes 29 euros\n"
     ]
    },
    {
     "name": "stdin",
     "output_type": "stream",
     "text": [
      "presione cualquier tecla para jugar: \n"
     ]
    },
    {
     "name": "stdout",
     "output_type": "stream",
     "text": [
      "d1: 3 d2: 5 d3: 6 d4: 4\n",
      "Total: 18\n",
      "perdiste un euro\n"
     ]
    },
    {
     "name": "stdin",
     "output_type": "stream",
     "text": [
      "volver a jugar? (Y/n) \n"
     ]
    },
    {
     "name": "stdout",
     "output_type": "stream",
     "text": [
      "si la suma de los cuatro dados es mayor a 9 ganas 10 Euros\n",
      "tienes 28 euros\n"
     ]
    },
    {
     "name": "stdin",
     "output_type": "stream",
     "text": [
      "presione cualquier tecla para jugar: \n"
     ]
    },
    {
     "name": "stdout",
     "output_type": "stream",
     "text": [
      "d1: 3 d2: 2 d3: 6 d4: 6\n",
      "Total: 17\n",
      "perdiste un euro\n"
     ]
    },
    {
     "name": "stdin",
     "output_type": "stream",
     "text": [
      "volver a jugar? (Y/n) \n"
     ]
    },
    {
     "name": "stdout",
     "output_type": "stream",
     "text": [
      "si la suma de los cuatro dados es mayor a 9 ganas 10 Euros\n",
      "tienes 27 euros\n"
     ]
    },
    {
     "name": "stdin",
     "output_type": "stream",
     "text": [
      "presione cualquier tecla para jugar: \n"
     ]
    },
    {
     "name": "stdout",
     "output_type": "stream",
     "text": [
      "d1: 2 d2: 2 d3: 6 d4: 6\n",
      "Total: 16\n",
      "perdiste un euro\n"
     ]
    },
    {
     "name": "stdin",
     "output_type": "stream",
     "text": [
      "volver a jugar? (Y/n) \n"
     ]
    },
    {
     "name": "stdout",
     "output_type": "stream",
     "text": [
      "si la suma de los cuatro dados es mayor a 9 ganas 10 Euros\n",
      "tienes 26 euros\n"
     ]
    },
    {
     "name": "stdin",
     "output_type": "stream",
     "text": [
      "presione cualquier tecla para jugar: \n"
     ]
    },
    {
     "name": "stdout",
     "output_type": "stream",
     "text": [
      "d1: 6 d2: 1 d3: 3 d4: 5\n",
      "Total: 15\n",
      "perdiste un euro\n"
     ]
    },
    {
     "name": "stdin",
     "output_type": "stream",
     "text": [
      "volver a jugar? (Y/n) \n"
     ]
    },
    {
     "name": "stdout",
     "output_type": "stream",
     "text": [
      "si la suma de los cuatro dados es mayor a 9 ganas 10 Euros\n",
      "tienes 25 euros\n"
     ]
    },
    {
     "name": "stdin",
     "output_type": "stream",
     "text": [
      "presione cualquier tecla para jugar: \n"
     ]
    },
    {
     "name": "stdout",
     "output_type": "stream",
     "text": [
      "d1: 4 d2: 4 d3: 3 d4: 2\n",
      "Total: 13\n",
      "perdiste un euro\n"
     ]
    },
    {
     "name": "stdin",
     "output_type": "stream",
     "text": [
      "volver a jugar? (Y/n) \n"
     ]
    },
    {
     "name": "stdout",
     "output_type": "stream",
     "text": [
      "si la suma de los cuatro dados es mayor a 9 ganas 10 Euros\n",
      "tienes 24 euros\n"
     ]
    },
    {
     "name": "stdin",
     "output_type": "stream",
     "text": [
      "presione cualquier tecla para jugar: \n"
     ]
    },
    {
     "name": "stdout",
     "output_type": "stream",
     "text": [
      "d1: 2 d2: 4 d3: 6 d4: 4\n",
      "Total: 16\n",
      "perdiste un euro\n"
     ]
    },
    {
     "name": "stdin",
     "output_type": "stream",
     "text": [
      "volver a jugar? (Y/n) \n"
     ]
    },
    {
     "name": "stdout",
     "output_type": "stream",
     "text": [
      "si la suma de los cuatro dados es mayor a 9 ganas 10 Euros\n",
      "tienes 23 euros\n"
     ]
    },
    {
     "name": "stdin",
     "output_type": "stream",
     "text": [
      "presione cualquier tecla para jugar: \n"
     ]
    },
    {
     "name": "stdout",
     "output_type": "stream",
     "text": [
      "d1: 6 d2: 3 d3: 3 d4: 4\n",
      "Total: 16\n",
      "perdiste un euro\n"
     ]
    },
    {
     "name": "stdin",
     "output_type": "stream",
     "text": [
      "volver a jugar? (Y/n) \n"
     ]
    },
    {
     "name": "stdout",
     "output_type": "stream",
     "text": [
      "si la suma de los cuatro dados es mayor a 9 ganas 10 Euros\n",
      "tienes 22 euros\n"
     ]
    },
    {
     "name": "stdin",
     "output_type": "stream",
     "text": [
      "presione cualquier tecla para jugar: \n"
     ]
    },
    {
     "name": "stdout",
     "output_type": "stream",
     "text": [
      "d1: 4 d2: 6 d3: 6 d4: 4\n",
      "Total: 20\n",
      "perdiste un euro\n"
     ]
    },
    {
     "name": "stdin",
     "output_type": "stream",
     "text": [
      "volver a jugar? (Y/n) \n"
     ]
    },
    {
     "name": "stdout",
     "output_type": "stream",
     "text": [
      "si la suma de los cuatro dados es mayor a 9 ganas 10 Euros\n",
      "tienes 21 euros\n"
     ]
    },
    {
     "name": "stdin",
     "output_type": "stream",
     "text": [
      "presione cualquier tecla para jugar: \n"
     ]
    },
    {
     "name": "stdout",
     "output_type": "stream",
     "text": [
      "d1: 1 d2: 6 d3: 1 d4: 3\n",
      "Total: 11\n",
      "perdiste un euro\n"
     ]
    },
    {
     "name": "stdin",
     "output_type": "stream",
     "text": [
      "volver a jugar? (Y/n) \n"
     ]
    },
    {
     "name": "stdout",
     "output_type": "stream",
     "text": [
      "si la suma de los cuatro dados es mayor a 9 ganas 10 Euros\n",
      "tienes 20 euros\n"
     ]
    },
    {
     "name": "stdin",
     "output_type": "stream",
     "text": [
      "presione cualquier tecla para jugar: \n"
     ]
    },
    {
     "name": "stdout",
     "output_type": "stream",
     "text": [
      "d1: 3 d2: 6 d3: 2 d4: 4\n",
      "Total: 15\n",
      "perdiste un euro\n"
     ]
    },
    {
     "name": "stdin",
     "output_type": "stream",
     "text": [
      "volver a jugar? (Y/n) \n"
     ]
    },
    {
     "name": "stdout",
     "output_type": "stream",
     "text": [
      "si la suma de los cuatro dados es mayor a 9 ganas 10 Euros\n",
      "tienes 19 euros\n"
     ]
    },
    {
     "name": "stdin",
     "output_type": "stream",
     "text": [
      "presione cualquier tecla para jugar: \n"
     ]
    },
    {
     "name": "stdout",
     "output_type": "stream",
     "text": [
      "d1: 3 d2: 3 d3: 5 d4: 5\n",
      "Total: 16\n",
      "perdiste un euro\n"
     ]
    },
    {
     "name": "stdin",
     "output_type": "stream",
     "text": [
      "volver a jugar? (Y/n) \n"
     ]
    },
    {
     "name": "stdout",
     "output_type": "stream",
     "text": [
      "si la suma de los cuatro dados es mayor a 9 ganas 10 Euros\n",
      "tienes 18 euros\n"
     ]
    },
    {
     "name": "stdin",
     "output_type": "stream",
     "text": [
      "presione cualquier tecla para jugar: \n"
     ]
    },
    {
     "name": "stdout",
     "output_type": "stream",
     "text": [
      "d1: 5 d2: 5 d3: 3 d4: 2\n",
      "Total: 15\n",
      "perdiste un euro\n"
     ]
    },
    {
     "name": "stdin",
     "output_type": "stream",
     "text": [
      "volver a jugar? (Y/n) \n"
     ]
    },
    {
     "name": "stdout",
     "output_type": "stream",
     "text": [
      "si la suma de los cuatro dados es mayor a 9 ganas 10 Euros\n",
      "tienes 17 euros\n"
     ]
    },
    {
     "name": "stdin",
     "output_type": "stream",
     "text": [
      "presione cualquier tecla para jugar: \n"
     ]
    },
    {
     "name": "stdout",
     "output_type": "stream",
     "text": [
      "d1: 3 d2: 5 d3: 1 d4: 1\n",
      "Total: 10\n",
      "perdiste un euro\n"
     ]
    },
    {
     "name": "stdin",
     "output_type": "stream",
     "text": [
      "volver a jugar? (Y/n) \n"
     ]
    },
    {
     "name": "stdout",
     "output_type": "stream",
     "text": [
      "si la suma de los cuatro dados es mayor a 9 ganas 10 Euros\n",
      "tienes 16 euros\n"
     ]
    },
    {
     "name": "stdin",
     "output_type": "stream",
     "text": [
      "presione cualquier tecla para jugar: \n"
     ]
    },
    {
     "name": "stdout",
     "output_type": "stream",
     "text": [
      "d1: 4 d2: 6 d3: 3 d4: 2\n",
      "Total: 15\n",
      "perdiste un euro\n"
     ]
    },
    {
     "name": "stdin",
     "output_type": "stream",
     "text": [
      "volver a jugar? (Y/n) \n"
     ]
    },
    {
     "name": "stdout",
     "output_type": "stream",
     "text": [
      "si la suma de los cuatro dados es mayor a 9 ganas 10 Euros\n",
      "tienes 15 euros\n"
     ]
    },
    {
     "name": "stdin",
     "output_type": "stream",
     "text": [
      "presione cualquier tecla para jugar: \n"
     ]
    },
    {
     "name": "stdout",
     "output_type": "stream",
     "text": [
      "d1: 6 d2: 4 d3: 6 d4: 4\n",
      "Total: 20\n",
      "perdiste un euro\n"
     ]
    },
    {
     "name": "stdin",
     "output_type": "stream",
     "text": [
      "volver a jugar? (Y/n) \n"
     ]
    },
    {
     "name": "stdout",
     "output_type": "stream",
     "text": [
      "si la suma de los cuatro dados es mayor a 9 ganas 10 Euros\n",
      "tienes 14 euros\n"
     ]
    },
    {
     "name": "stdin",
     "output_type": "stream",
     "text": [
      "presione cualquier tecla para jugar: \n"
     ]
    },
    {
     "name": "stdout",
     "output_type": "stream",
     "text": [
      "d1: 5 d2: 4 d3: 6 d4: 2\n",
      "Total: 17\n",
      "perdiste un euro\n"
     ]
    },
    {
     "name": "stdin",
     "output_type": "stream",
     "text": [
      "volver a jugar? (Y/n) \n"
     ]
    },
    {
     "name": "stdout",
     "output_type": "stream",
     "text": [
      "si la suma de los cuatro dados es mayor a 9 ganas 10 Euros\n",
      "tienes 13 euros\n"
     ]
    },
    {
     "name": "stdin",
     "output_type": "stream",
     "text": [
      "presione cualquier tecla para jugar: \n"
     ]
    },
    {
     "name": "stdout",
     "output_type": "stream",
     "text": [
      "d1: 2 d2: 3 d3: 4 d4: 4\n",
      "Total: 13\n",
      "perdiste un euro\n"
     ]
    },
    {
     "name": "stdin",
     "output_type": "stream",
     "text": [
      "volver a jugar? (Y/n) \n"
     ]
    },
    {
     "name": "stdout",
     "output_type": "stream",
     "text": [
      "si la suma de los cuatro dados es mayor a 9 ganas 10 Euros\n",
      "tienes 12 euros\n"
     ]
    },
    {
     "name": "stdin",
     "output_type": "stream",
     "text": [
      "presione cualquier tecla para jugar: \n"
     ]
    },
    {
     "name": "stdout",
     "output_type": "stream",
     "text": [
      "d1: 2 d2: 6 d3: 3 d4: 3\n",
      "Total: 14\n",
      "perdiste un euro\n"
     ]
    },
    {
     "name": "stdin",
     "output_type": "stream",
     "text": [
      "volver a jugar? (Y/n) \n"
     ]
    },
    {
     "name": "stdout",
     "output_type": "stream",
     "text": [
      "si la suma de los cuatro dados es mayor a 9 ganas 10 Euros\n",
      "tienes 11 euros\n"
     ]
    },
    {
     "name": "stdin",
     "output_type": "stream",
     "text": [
      "presione cualquier tecla para jugar: \n"
     ]
    },
    {
     "name": "stdout",
     "output_type": "stream",
     "text": [
      "d1: 3 d2: 5 d3: 1 d4: 1\n",
      "Total: 10\n",
      "perdiste un euro\n"
     ]
    },
    {
     "name": "stdin",
     "output_type": "stream",
     "text": [
      "volver a jugar? (Y/n) \n"
     ]
    },
    {
     "name": "stdout",
     "output_type": "stream",
     "text": [
      "si la suma de los cuatro dados es mayor a 9 ganas 10 Euros\n",
      "tienes 10 euros\n"
     ]
    },
    {
     "name": "stdin",
     "output_type": "stream",
     "text": [
      "presione cualquier tecla para jugar: \n"
     ]
    },
    {
     "name": "stdout",
     "output_type": "stream",
     "text": [
      "d1: 5 d2: 6 d3: 5 d4: 4\n",
      "Total: 20\n",
      "perdiste un euro\n"
     ]
    },
    {
     "name": "stdin",
     "output_type": "stream",
     "text": [
      "volver a jugar? (Y/n) \n"
     ]
    },
    {
     "name": "stdout",
     "output_type": "stream",
     "text": [
      "si la suma de los cuatro dados es mayor a 9 ganas 10 Euros\n",
      "tienes 9 euros\n"
     ]
    },
    {
     "name": "stdin",
     "output_type": "stream",
     "text": [
      "presione cualquier tecla para jugar: \n"
     ]
    },
    {
     "name": "stdout",
     "output_type": "stream",
     "text": [
      "d1: 5 d2: 3 d3: 4 d4: 4\n",
      "Total: 16\n",
      "perdiste un euro\n"
     ]
    },
    {
     "name": "stdin",
     "output_type": "stream",
     "text": [
      "volver a jugar? (Y/n) \n"
     ]
    },
    {
     "name": "stdout",
     "output_type": "stream",
     "text": [
      "si la suma de los cuatro dados es mayor a 9 ganas 10 Euros\n",
      "tienes 8 euros\n"
     ]
    },
    {
     "name": "stdin",
     "output_type": "stream",
     "text": [
      "presione cualquier tecla para jugar: \n"
     ]
    },
    {
     "name": "stdout",
     "output_type": "stream",
     "text": [
      "d1: 2 d2: 5 d3: 2 d4: 2\n",
      "Total: 11\n",
      "perdiste un euro\n"
     ]
    },
    {
     "name": "stdin",
     "output_type": "stream",
     "text": [
      "volver a jugar? (Y/n) \n"
     ]
    },
    {
     "name": "stdout",
     "output_type": "stream",
     "text": [
      "si la suma de los cuatro dados es mayor a 9 ganas 10 Euros\n",
      "tienes 7 euros\n"
     ]
    },
    {
     "name": "stdin",
     "output_type": "stream",
     "text": [
      "presione cualquier tecla para jugar: \n"
     ]
    },
    {
     "name": "stdout",
     "output_type": "stream",
     "text": [
      "d1: 1 d2: 4 d3: 2 d4: 5\n",
      "Total: 12\n",
      "perdiste un euro\n"
     ]
    },
    {
     "name": "stdin",
     "output_type": "stream",
     "text": [
      "volver a jugar? (Y/n) \n"
     ]
    },
    {
     "name": "stdout",
     "output_type": "stream",
     "text": [
      "si la suma de los cuatro dados es mayor a 9 ganas 10 Euros\n",
      "tienes 6 euros\n"
     ]
    },
    {
     "name": "stdin",
     "output_type": "stream",
     "text": [
      "presione cualquier tecla para jugar: \n"
     ]
    },
    {
     "name": "stdout",
     "output_type": "stream",
     "text": [
      "d1: 6 d2: 6 d3: 3 d4: 2\n",
      "Total: 17\n",
      "perdiste un euro\n"
     ]
    },
    {
     "name": "stdin",
     "output_type": "stream",
     "text": [
      "volver a jugar? (Y/n) \n"
     ]
    },
    {
     "name": "stdout",
     "output_type": "stream",
     "text": [
      "si la suma de los cuatro dados es mayor a 9 ganas 10 Euros\n",
      "tienes 5 euros\n"
     ]
    },
    {
     "name": "stdin",
     "output_type": "stream",
     "text": [
      "presione cualquier tecla para jugar: \n"
     ]
    },
    {
     "name": "stdout",
     "output_type": "stream",
     "text": [
      "d1: 3 d2: 1 d3: 2 d4: 2\n",
      "Total: 8\n",
      " felicidades recibiste 10 Euros\n"
     ]
    },
    {
     "name": "stdin",
     "output_type": "stream",
     "text": [
      "volver a jugar? (Y/n) \n"
     ]
    },
    {
     "name": "stdout",
     "output_type": "stream",
     "text": [
      "si la suma de los cuatro dados es mayor a 9 ganas 10 Euros\n",
      "tienes 15 euros\n"
     ]
    },
    {
     "name": "stdin",
     "output_type": "stream",
     "text": [
      "presione cualquier tecla para jugar: \n"
     ]
    },
    {
     "name": "stdout",
     "output_type": "stream",
     "text": [
      "d1: 2 d2: 3 d3: 3 d4: 3\n",
      "Total: 11\n",
      "perdiste un euro\n"
     ]
    },
    {
     "name": "stdin",
     "output_type": "stream",
     "text": [
      "volver a jugar? (Y/n) \n"
     ]
    },
    {
     "name": "stdout",
     "output_type": "stream",
     "text": [
      "si la suma de los cuatro dados es mayor a 9 ganas 10 Euros\n",
      "tienes 14 euros\n"
     ]
    },
    {
     "name": "stdin",
     "output_type": "stream",
     "text": [
      "presione cualquier tecla para jugar: \n"
     ]
    },
    {
     "name": "stdout",
     "output_type": "stream",
     "text": [
      "d1: 3 d2: 2 d3: 6 d4: 5\n",
      "Total: 16\n",
      "perdiste un euro\n"
     ]
    },
    {
     "name": "stdin",
     "output_type": "stream",
     "text": [
      "volver a jugar? (Y/n) \n"
     ]
    },
    {
     "name": "stdout",
     "output_type": "stream",
     "text": [
      "si la suma de los cuatro dados es mayor a 9 ganas 10 Euros\n",
      "tienes 13 euros\n"
     ]
    },
    {
     "name": "stdin",
     "output_type": "stream",
     "text": [
      "presione cualquier tecla para jugar: \n"
     ]
    },
    {
     "name": "stdout",
     "output_type": "stream",
     "text": [
      "d1: 2 d2: 2 d3: 4 d4: 1\n",
      "Total: 9\n",
      "perdiste un euro\n"
     ]
    },
    {
     "name": "stdin",
     "output_type": "stream",
     "text": [
      "volver a jugar? (Y/n) \n"
     ]
    },
    {
     "name": "stdout",
     "output_type": "stream",
     "text": [
      "si la suma de los cuatro dados es mayor a 9 ganas 10 Euros\n",
      "tienes 12 euros\n"
     ]
    },
    {
     "name": "stdin",
     "output_type": "stream",
     "text": [
      "presione cualquier tecla para jugar: \n"
     ]
    },
    {
     "name": "stdout",
     "output_type": "stream",
     "text": [
      "d1: 4 d2: 4 d3: 4 d4: 2\n",
      "Total: 14\n",
      "perdiste un euro\n"
     ]
    },
    {
     "name": "stdin",
     "output_type": "stream",
     "text": [
      "volver a jugar? (Y/n) \n"
     ]
    },
    {
     "name": "stdout",
     "output_type": "stream",
     "text": [
      "si la suma de los cuatro dados es mayor a 9 ganas 10 Euros\n",
      "tienes 11 euros\n"
     ]
    },
    {
     "name": "stdin",
     "output_type": "stream",
     "text": [
      "presione cualquier tecla para jugar: \n"
     ]
    },
    {
     "name": "stdout",
     "output_type": "stream",
     "text": [
      "d1: 5 d2: 5 d3: 5 d4: 5\n",
      "Total: 20\n",
      "perdiste un euro\n"
     ]
    },
    {
     "name": "stdin",
     "output_type": "stream",
     "text": [
      "volver a jugar? (Y/n) \n"
     ]
    },
    {
     "name": "stdout",
     "output_type": "stream",
     "text": [
      "si la suma de los cuatro dados es mayor a 9 ganas 10 Euros\n",
      "tienes 10 euros\n"
     ]
    },
    {
     "name": "stdin",
     "output_type": "stream",
     "text": [
      "presione cualquier tecla para jugar: \n"
     ]
    },
    {
     "name": "stdout",
     "output_type": "stream",
     "text": [
      "d1: 4 d2: 5 d3: 6 d4: 1\n",
      "Total: 16\n",
      "perdiste un euro\n"
     ]
    },
    {
     "name": "stdin",
     "output_type": "stream",
     "text": [
      "volver a jugar? (Y/n) \n"
     ]
    },
    {
     "name": "stdout",
     "output_type": "stream",
     "text": [
      "si la suma de los cuatro dados es mayor a 9 ganas 10 Euros\n",
      "tienes 9 euros\n"
     ]
    },
    {
     "name": "stdin",
     "output_type": "stream",
     "text": [
      "presione cualquier tecla para jugar: \n"
     ]
    },
    {
     "name": "stdout",
     "output_type": "stream",
     "text": [
      "d1: 1 d2: 2 d3: 1 d4: 1\n",
      "Total: 5\n",
      " felicidades recibiste 10 Euros\n"
     ]
    },
    {
     "name": "stdin",
     "output_type": "stream",
     "text": [
      "volver a jugar? (Y/n) \n"
     ]
    },
    {
     "name": "stdout",
     "output_type": "stream",
     "text": [
      "si la suma de los cuatro dados es mayor a 9 ganas 10 Euros\n",
      "tienes 19 euros\n"
     ]
    },
    {
     "name": "stdin",
     "output_type": "stream",
     "text": [
      "presione cualquier tecla para jugar: \n"
     ]
    },
    {
     "name": "stdout",
     "output_type": "stream",
     "text": [
      "d1: 5 d2: 5 d3: 2 d4: 5\n",
      "Total: 17\n",
      "perdiste un euro\n"
     ]
    },
    {
     "name": "stdin",
     "output_type": "stream",
     "text": [
      "volver a jugar? (Y/n) \n"
     ]
    },
    {
     "name": "stdout",
     "output_type": "stream",
     "text": [
      "si la suma de los cuatro dados es mayor a 9 ganas 10 Euros\n",
      "tienes 18 euros\n"
     ]
    },
    {
     "name": "stdin",
     "output_type": "stream",
     "text": [
      "presione cualquier tecla para jugar: \n"
     ]
    },
    {
     "name": "stdout",
     "output_type": "stream",
     "text": [
      "d1: 1 d2: 6 d3: 3 d4: 4\n",
      "Total: 14\n",
      "perdiste un euro\n"
     ]
    },
    {
     "name": "stdin",
     "output_type": "stream",
     "text": [
      "volver a jugar? (Y/n) \n"
     ]
    },
    {
     "name": "stdout",
     "output_type": "stream",
     "text": [
      "si la suma de los cuatro dados es mayor a 9 ganas 10 Euros\n",
      "tienes 17 euros\n"
     ]
    },
    {
     "name": "stdin",
     "output_type": "stream",
     "text": [
      "presione cualquier tecla para jugar: \n"
     ]
    },
    {
     "name": "stdout",
     "output_type": "stream",
     "text": [
      "d1: 3 d2: 4 d3: 6 d4: 6\n",
      "Total: 19\n",
      "perdiste un euro\n"
     ]
    },
    {
     "name": "stdin",
     "output_type": "stream",
     "text": [
      "volver a jugar? (Y/n) \n"
     ]
    },
    {
     "name": "stdout",
     "output_type": "stream",
     "text": [
      "si la suma de los cuatro dados es mayor a 9 ganas 10 Euros\n",
      "tienes 16 euros\n"
     ]
    },
    {
     "name": "stdin",
     "output_type": "stream",
     "text": [
      "presione cualquier tecla para jugar: \n"
     ]
    },
    {
     "name": "stdout",
     "output_type": "stream",
     "text": [
      "d1: 2 d2: 3 d3: 1 d4: 1\n",
      "Total: 7\n",
      " felicidades recibiste 10 Euros\n"
     ]
    },
    {
     "name": "stdin",
     "output_type": "stream",
     "text": [
      "volver a jugar? (Y/n) \n"
     ]
    },
    {
     "name": "stdout",
     "output_type": "stream",
     "text": [
      "si la suma de los cuatro dados es mayor a 9 ganas 10 Euros\n",
      "tienes 26 euros\n"
     ]
    },
    {
     "name": "stdin",
     "output_type": "stream",
     "text": [
      "presione cualquier tecla para jugar: \n"
     ]
    },
    {
     "name": "stdout",
     "output_type": "stream",
     "text": [
      "d1: 6 d2: 4 d3: 3 d4: 5\n",
      "Total: 18\n",
      "perdiste un euro\n"
     ]
    },
    {
     "name": "stdin",
     "output_type": "stream",
     "text": [
      "volver a jugar? (Y/n) \n"
     ]
    },
    {
     "name": "stdout",
     "output_type": "stream",
     "text": [
      "si la suma de los cuatro dados es mayor a 9 ganas 10 Euros\n",
      "tienes 25 euros\n"
     ]
    },
    {
     "name": "stdin",
     "output_type": "stream",
     "text": [
      "presione cualquier tecla para jugar: \n"
     ]
    },
    {
     "name": "stdout",
     "output_type": "stream",
     "text": [
      "d1: 1 d2: 5 d3: 3 d4: 5\n",
      "Total: 14\n",
      "perdiste un euro\n"
     ]
    },
    {
     "name": "stdin",
     "output_type": "stream",
     "text": [
      "volver a jugar? (Y/n) \n"
     ]
    },
    {
     "name": "stdout",
     "output_type": "stream",
     "text": [
      "si la suma de los cuatro dados es mayor a 9 ganas 10 Euros\n",
      "tienes 24 euros\n"
     ]
    },
    {
     "name": "stdin",
     "output_type": "stream",
     "text": [
      "presione cualquier tecla para jugar: \n"
     ]
    },
    {
     "name": "stdout",
     "output_type": "stream",
     "text": [
      "d1: 6 d2: 1 d3: 1 d4: 5\n",
      "Total: 13\n",
      "perdiste un euro\n"
     ]
    },
    {
     "name": "stdin",
     "output_type": "stream",
     "text": [
      "volver a jugar? (Y/n) \n"
     ]
    },
    {
     "name": "stdout",
     "output_type": "stream",
     "text": [
      "si la suma de los cuatro dados es mayor a 9 ganas 10 Euros\n",
      "tienes 23 euros\n"
     ]
    },
    {
     "name": "stdin",
     "output_type": "stream",
     "text": [
      "presione cualquier tecla para jugar: \n"
     ]
    },
    {
     "name": "stdout",
     "output_type": "stream",
     "text": [
      "d1: 5 d2: 1 d3: 1 d4: 5\n",
      "Total: 12\n",
      "perdiste un euro\n"
     ]
    },
    {
     "name": "stdin",
     "output_type": "stream",
     "text": [
      "volver a jugar? (Y/n) \n"
     ]
    },
    {
     "name": "stdout",
     "output_type": "stream",
     "text": [
      "si la suma de los cuatro dados es mayor a 9 ganas 10 Euros\n",
      "tienes 22 euros\n"
     ]
    },
    {
     "name": "stdin",
     "output_type": "stream",
     "text": [
      "presione cualquier tecla para jugar: \n"
     ]
    },
    {
     "name": "stdout",
     "output_type": "stream",
     "text": [
      "d1: 6 d2: 6 d3: 6 d4: 4\n",
      "Total: 22\n",
      "perdiste un euro\n"
     ]
    },
    {
     "name": "stdin",
     "output_type": "stream",
     "text": [
      "volver a jugar? (Y/n) \n"
     ]
    },
    {
     "name": "stdout",
     "output_type": "stream",
     "text": [
      "si la suma de los cuatro dados es mayor a 9 ganas 10 Euros\n",
      "tienes 21 euros\n"
     ]
    },
    {
     "name": "stdin",
     "output_type": "stream",
     "text": [
      "presione cualquier tecla para jugar: \n"
     ]
    },
    {
     "name": "stdout",
     "output_type": "stream",
     "text": [
      "d1: 1 d2: 2 d3: 1 d4: 5\n",
      "Total: 9\n",
      "perdiste un euro\n"
     ]
    },
    {
     "name": "stdin",
     "output_type": "stream",
     "text": [
      "volver a jugar? (Y/n) \n"
     ]
    },
    {
     "name": "stdout",
     "output_type": "stream",
     "text": [
      "si la suma de los cuatro dados es mayor a 9 ganas 10 Euros\n",
      "tienes 20 euros\n"
     ]
    },
    {
     "name": "stdin",
     "output_type": "stream",
     "text": [
      "presione cualquier tecla para jugar: \n"
     ]
    },
    {
     "name": "stdout",
     "output_type": "stream",
     "text": [
      "d1: 5 d2: 1 d3: 4 d4: 5\n",
      "Total: 15\n",
      "perdiste un euro\n"
     ]
    },
    {
     "name": "stdin",
     "output_type": "stream",
     "text": [
      "volver a jugar? (Y/n) \n"
     ]
    },
    {
     "name": "stdout",
     "output_type": "stream",
     "text": [
      "si la suma de los cuatro dados es mayor a 9 ganas 10 Euros\n",
      "tienes 19 euros\n"
     ]
    },
    {
     "name": "stdin",
     "output_type": "stream",
     "text": [
      "presione cualquier tecla para jugar: \n"
     ]
    },
    {
     "name": "stdout",
     "output_type": "stream",
     "text": [
      "d1: 1 d2: 6 d3: 4 d4: 4\n",
      "Total: 15\n",
      "perdiste un euro\n"
     ]
    },
    {
     "name": "stdin",
     "output_type": "stream",
     "text": [
      "volver a jugar? (Y/n) \n"
     ]
    },
    {
     "name": "stdout",
     "output_type": "stream",
     "text": [
      "si la suma de los cuatro dados es mayor a 9 ganas 10 Euros\n",
      "tienes 18 euros\n"
     ]
    },
    {
     "name": "stdin",
     "output_type": "stream",
     "text": [
      "presione cualquier tecla para jugar: \n"
     ]
    },
    {
     "name": "stdout",
     "output_type": "stream",
     "text": [
      "d1: 4 d2: 6 d3: 2 d4: 4\n",
      "Total: 16\n",
      "perdiste un euro\n"
     ]
    },
    {
     "name": "stdin",
     "output_type": "stream",
     "text": [
      "volver a jugar? (Y/n) \n"
     ]
    },
    {
     "name": "stdout",
     "output_type": "stream",
     "text": [
      "si la suma de los cuatro dados es mayor a 9 ganas 10 Euros\n",
      "tienes 17 euros\n"
     ]
    },
    {
     "name": "stdin",
     "output_type": "stream",
     "text": [
      "presione cualquier tecla para jugar: \n"
     ]
    },
    {
     "name": "stdout",
     "output_type": "stream",
     "text": [
      "d1: 2 d2: 3 d3: 1 d4: 4\n",
      "Total: 10\n",
      "perdiste un euro\n"
     ]
    },
    {
     "name": "stdin",
     "output_type": "stream",
     "text": [
      "volver a jugar? (Y/n) \n"
     ]
    },
    {
     "name": "stdout",
     "output_type": "stream",
     "text": [
      "si la suma de los cuatro dados es mayor a 9 ganas 10 Euros\n",
      "tienes 16 euros\n"
     ]
    },
    {
     "name": "stdin",
     "output_type": "stream",
     "text": [
      "presione cualquier tecla para jugar: \n"
     ]
    },
    {
     "name": "stdout",
     "output_type": "stream",
     "text": [
      "d1: 5 d2: 1 d3: 2 d4: 4\n",
      "Total: 12\n",
      "perdiste un euro\n"
     ]
    },
    {
     "name": "stdin",
     "output_type": "stream",
     "text": [
      "volver a jugar? (Y/n) \n"
     ]
    },
    {
     "name": "stdout",
     "output_type": "stream",
     "text": [
      "si la suma de los cuatro dados es mayor a 9 ganas 10 Euros\n",
      "tienes 15 euros\n"
     ]
    },
    {
     "name": "stdin",
     "output_type": "stream",
     "text": [
      "presione cualquier tecla para jugar: \n"
     ]
    },
    {
     "name": "stdout",
     "output_type": "stream",
     "text": [
      "d1: 6 d2: 5 d3: 2 d4: 5\n",
      "Total: 18\n",
      "perdiste un euro\n"
     ]
    },
    {
     "name": "stdin",
     "output_type": "stream",
     "text": [
      "volver a jugar? (Y/n) \n"
     ]
    },
    {
     "name": "stdout",
     "output_type": "stream",
     "text": [
      "si la suma de los cuatro dados es mayor a 9 ganas 10 Euros\n",
      "tienes 14 euros\n"
     ]
    },
    {
     "name": "stdin",
     "output_type": "stream",
     "text": [
      "presione cualquier tecla para jugar: \n"
     ]
    },
    {
     "name": "stdout",
     "output_type": "stream",
     "text": [
      "d1: 3 d2: 3 d3: 4 d4: 3\n",
      "Total: 13\n",
      "perdiste un euro\n"
     ]
    },
    {
     "name": "stdin",
     "output_type": "stream",
     "text": [
      "volver a jugar? (Y/n) \n"
     ]
    },
    {
     "name": "stdout",
     "output_type": "stream",
     "text": [
      "si la suma de los cuatro dados es mayor a 9 ganas 10 Euros\n",
      "tienes 13 euros\n"
     ]
    },
    {
     "name": "stdin",
     "output_type": "stream",
     "text": [
      "presione cualquier tecla para jugar: \n"
     ]
    },
    {
     "name": "stdout",
     "output_type": "stream",
     "text": [
      "d1: 2 d2: 6 d3: 2 d4: 6\n",
      "Total: 16\n",
      "perdiste un euro\n"
     ]
    },
    {
     "name": "stdin",
     "output_type": "stream",
     "text": [
      "volver a jugar? (Y/n) \n"
     ]
    },
    {
     "name": "stdout",
     "output_type": "stream",
     "text": [
      "si la suma de los cuatro dados es mayor a 9 ganas 10 Euros\n",
      "tienes 12 euros\n"
     ]
    },
    {
     "name": "stdin",
     "output_type": "stream",
     "text": [
      "presione cualquier tecla para jugar: \n"
     ]
    },
    {
     "name": "stdout",
     "output_type": "stream",
     "text": [
      "d1: 5 d2: 3 d3: 4 d4: 3\n",
      "Total: 15\n",
      "perdiste un euro\n"
     ]
    },
    {
     "name": "stdin",
     "output_type": "stream",
     "text": [
      "volver a jugar? (Y/n) \n"
     ]
    },
    {
     "name": "stdout",
     "output_type": "stream",
     "text": [
      "si la suma de los cuatro dados es mayor a 9 ganas 10 Euros\n",
      "tienes 11 euros\n"
     ]
    },
    {
     "name": "stdin",
     "output_type": "stream",
     "text": [
      "presione cualquier tecla para jugar: \n"
     ]
    },
    {
     "name": "stdout",
     "output_type": "stream",
     "text": [
      "d1: 2 d2: 1 d3: 4 d4: 2\n",
      "Total: 9\n",
      "perdiste un euro\n"
     ]
    },
    {
     "name": "stdin",
     "output_type": "stream",
     "text": [
      "volver a jugar? (Y/n) \n"
     ]
    },
    {
     "name": "stdout",
     "output_type": "stream",
     "text": [
      "si la suma de los cuatro dados es mayor a 9 ganas 10 Euros\n",
      "tienes 10 euros\n"
     ]
    },
    {
     "name": "stdin",
     "output_type": "stream",
     "text": [
      "presione cualquier tecla para jugar: \n"
     ]
    },
    {
     "name": "stdout",
     "output_type": "stream",
     "text": [
      "d1: 6 d2: 6 d3: 5 d4: 3\n",
      "Total: 20\n",
      "perdiste un euro\n"
     ]
    },
    {
     "name": "stdin",
     "output_type": "stream",
     "text": [
      "volver a jugar? (Y/n) \n"
     ]
    },
    {
     "name": "stdout",
     "output_type": "stream",
     "text": [
      "si la suma de los cuatro dados es mayor a 9 ganas 10 Euros\n",
      "tienes 9 euros\n"
     ]
    },
    {
     "name": "stdin",
     "output_type": "stream",
     "text": [
      "presione cualquier tecla para jugar: \n"
     ]
    },
    {
     "name": "stdout",
     "output_type": "stream",
     "text": [
      "d1: 1 d2: 5 d3: 3 d4: 3\n",
      "Total: 12\n",
      "perdiste un euro\n"
     ]
    },
    {
     "name": "stdin",
     "output_type": "stream",
     "text": [
      "volver a jugar? (Y/n) \n"
     ]
    },
    {
     "name": "stdout",
     "output_type": "stream",
     "text": [
      "si la suma de los cuatro dados es mayor a 9 ganas 10 Euros\n",
      "tienes 8 euros\n"
     ]
    },
    {
     "name": "stdin",
     "output_type": "stream",
     "text": [
      "presione cualquier tecla para jugar: \n"
     ]
    },
    {
     "name": "stdout",
     "output_type": "stream",
     "text": [
      "d1: 5 d2: 6 d3: 6 d4: 4\n",
      "Total: 21\n",
      "perdiste un euro\n"
     ]
    },
    {
     "name": "stdin",
     "output_type": "stream",
     "text": [
      "volver a jugar? (Y/n) \n"
     ]
    },
    {
     "name": "stdout",
     "output_type": "stream",
     "text": [
      "si la suma de los cuatro dados es mayor a 9 ganas 10 Euros\n",
      "tienes 7 euros\n"
     ]
    },
    {
     "name": "stdin",
     "output_type": "stream",
     "text": [
      "presione cualquier tecla para jugar: \n"
     ]
    },
    {
     "name": "stdout",
     "output_type": "stream",
     "text": [
      "d1: 5 d2: 3 d3: 4 d4: 2\n",
      "Total: 14\n",
      "perdiste un euro\n"
     ]
    },
    {
     "name": "stdin",
     "output_type": "stream",
     "text": [
      "volver a jugar? (Y/n) \n"
     ]
    },
    {
     "name": "stdout",
     "output_type": "stream",
     "text": [
      "si la suma de los cuatro dados es mayor a 9 ganas 10 Euros\n",
      "tienes 6 euros\n"
     ]
    },
    {
     "name": "stdin",
     "output_type": "stream",
     "text": [
      "presione cualquier tecla para jugar: \n"
     ]
    },
    {
     "name": "stdout",
     "output_type": "stream",
     "text": [
      "d1: 6 d2: 1 d3: 1 d4: 3\n",
      "Total: 11\n",
      "perdiste un euro\n"
     ]
    },
    {
     "name": "stdin",
     "output_type": "stream",
     "text": [
      "volver a jugar? (Y/n) \n"
     ]
    },
    {
     "name": "stdout",
     "output_type": "stream",
     "text": [
      "si la suma de los cuatro dados es mayor a 9 ganas 10 Euros\n",
      "tienes 5 euros\n"
     ]
    },
    {
     "name": "stdin",
     "output_type": "stream",
     "text": [
      "presione cualquier tecla para jugar: \n"
     ]
    },
    {
     "name": "stdout",
     "output_type": "stream",
     "text": [
      "d1: 4 d2: 6 d3: 3 d4: 2\n",
      "Total: 15\n",
      "perdiste un euro\n"
     ]
    },
    {
     "name": "stdin",
     "output_type": "stream",
     "text": [
      "volver a jugar? (Y/n) \n"
     ]
    },
    {
     "name": "stdout",
     "output_type": "stream",
     "text": [
      "si la suma de los cuatro dados es mayor a 9 ganas 10 Euros\n",
      "tienes 4 euros\n"
     ]
    },
    {
     "name": "stdin",
     "output_type": "stream",
     "text": [
      "presione cualquier tecla para jugar: \n"
     ]
    },
    {
     "name": "stdout",
     "output_type": "stream",
     "text": [
      "d1: 6 d2: 2 d3: 6 d4: 2\n",
      "Total: 16\n",
      "perdiste un euro\n"
     ]
    },
    {
     "name": "stdin",
     "output_type": "stream",
     "text": [
      "volver a jugar? (Y/n) \n"
     ]
    },
    {
     "name": "stdout",
     "output_type": "stream",
     "text": [
      "si la suma de los cuatro dados es mayor a 9 ganas 10 Euros\n",
      "tienes 3 euros\n"
     ]
    },
    {
     "name": "stdin",
     "output_type": "stream",
     "text": [
      "presione cualquier tecla para jugar: \n"
     ]
    },
    {
     "name": "stdout",
     "output_type": "stream",
     "text": [
      "d1: 5 d2: 5 d3: 4 d4: 5\n",
      "Total: 19\n",
      "perdiste un euro\n"
     ]
    },
    {
     "name": "stdin",
     "output_type": "stream",
     "text": [
      "volver a jugar? (Y/n) \n"
     ]
    },
    {
     "name": "stdout",
     "output_type": "stream",
     "text": [
      "si la suma de los cuatro dados es mayor a 9 ganas 10 Euros\n",
      "tienes 2 euros\n"
     ]
    },
    {
     "name": "stdin",
     "output_type": "stream",
     "text": [
      "presione cualquier tecla para jugar: \n"
     ]
    },
    {
     "name": "stdout",
     "output_type": "stream",
     "text": [
      "d1: 4 d2: 1 d3: 1 d4: 4\n",
      "Total: 10\n",
      "perdiste un euro\n"
     ]
    },
    {
     "name": "stdin",
     "output_type": "stream",
     "text": [
      "volver a jugar? (Y/n) \n"
     ]
    },
    {
     "name": "stdout",
     "output_type": "stream",
     "text": [
      "si la suma de los cuatro dados es mayor a 9 ganas 10 Euros\n",
      "tienes 1 euros\n"
     ]
    },
    {
     "name": "stdin",
     "output_type": "stream",
     "text": [
      "presione cualquier tecla para jugar: \n"
     ]
    },
    {
     "name": "stdout",
     "output_type": "stream",
     "text": [
      "d1: 6 d2: 3 d3: 5 d4: 4\n",
      "Total: 18\n",
      "perdiste un euro\n"
     ]
    },
    {
     "name": "stdin",
     "output_type": "stream",
     "text": [
      "volver a jugar? (Y/n) \n"
     ]
    }
   ],
   "source": [
    "# podemos ver en la simulacion que siempre llegamos a perder.\n",
    "# para poder saber si nos conviene jugar simplemente obtenemos la cantidad total de combinaciones.\n",
    "# obtenemos la cantidad total de combinaciones negativas y dividimos ese numero entre la cantidad total de convinaciones\n",
    "# lo exponenciamos a la 10 ( el numero de la ganancia ) y vemos si el resultado es menor a 0.5\n",
    "dinero = 5\n",
    "r = 10\n",
    "while dinero > 0:\n",
    "    print(f\"si la suma de los cuatro dados es mayor a 9 ganas {r} Euros\")\n",
    "    print(f'tienes {dinero} euros')\n",
    "    input(\"presione cualquier tecla para jugar:\")\n",
    "    d1 = juego.tirar_dado()\n",
    "    d2 = juego.tirar_dado()\n",
    "    d3 = juego.tirar_dado()\n",
    "    d4 = juego.tirar_dado()\n",
    "    suma = d1 + d2 + d3 + d4\n",
    "    print(f'd1: {d1} d2: {d2} d3: {d3} d4: {d4}\\nTotal: {suma}')\n",
    "    if suma < 9:\n",
    "        print(f\" felicidades recibiste {r} Euros\")\n",
    "        dinero += r\n",
    "    else:\n",
    "        print(f'perdiste un euro')\n",
    "        dinero -= 1\n",
    "    ans = input(\"volver a jugar? (Y/n)\")\n",
    "    if ans == 'n':\n",
    "        break\n",
    "    "
   ]
  },
  {
   "cell_type": "markdown",
   "id": "063eccbe",
   "metadata": {
    "tags": []
   },
   "source": [
    "## Ejercicio 7\n",
    "\n",
    "Dado el [Ejercicio 3.3](#Ejercicio3.3), reproduce el ejercicio, pero esta vez con un *regex*"
   ]
  },
  {
   "cell_type": "code",
   "execution_count": 13,
   "id": "f4b86458-1af7-45c6-96e0-9ae761621623",
   "metadata": {
    "tags": []
   },
   "outputs": [],
   "source": [
    "# tengo duda en este ejercicio. para empezar a que ejercicio se refiere en especifico"
   ]
  }
 ],
 "metadata": {
  "kernelspec": {
   "display_name": "Python 3 (ipykernel)",
   "language": "python",
   "name": "python3"
  },
  "language_info": {
   "codemirror_mode": {
    "name": "ipython",
    "version": 3
   },
   "file_extension": ".py",
   "mimetype": "text/x-python",
   "name": "python",
   "nbconvert_exporter": "python",
   "pygments_lexer": "ipython3",
   "version": "3.10.10"
  }
 },
 "nbformat": 4,
 "nbformat_minor": 5
}
