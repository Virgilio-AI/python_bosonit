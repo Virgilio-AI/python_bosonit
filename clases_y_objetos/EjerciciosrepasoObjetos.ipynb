{
 "cells": [
  {
   "cell_type": "markdown",
   "id": "d45dc88d",
   "metadata": {},
   "source": [
    "# Ejercicios repaso Objetos\n",
    "\n",
    "## Ejercicio 1\n",
    "\n",
    "Crea una clase vehículo que al instanciarse se le pase la información la potencia y su consumo a los 100 km. Además, crea un método que nos devuelva el consumo por kilómetro"
   ]
  },
  {
   "cell_type": "code",
   "execution_count": 3,
   "id": "08a486a4-6346-432d-94db-b1e704a1310a",
   "metadata": {
    "tags": []
   },
   "outputs": [
    {
     "name": "stdout",
     "output_type": "stream",
     "text": [
      "1.0 lts\n"
     ]
    }
   ],
   "source": [
    "class Vehiculo():\n",
    "    def __init__(self, potencia, consumo_100km):\n",
    "        self.potencia = potencia\n",
    "        self.consumo_100km = consumo_100km\n",
    "    def get_consumo_por_km(self):\n",
    "        return f'{(self.consumo_100km / 100)} lts'\n",
    "carro = Vehiculo(200,100)\n",
    "print(carro.get_consumo_por_km())"
   ]
  },
  {
   "cell_type": "markdown",
   "id": "d57993aa",
   "metadata": {
    "tags": []
   },
   "source": [
    "## Ejercicio 2\n",
    "\n",
    "Crear una clase coche que herede de la clase vehículo. Se añaden los atributos numero de puertas y tipo de gasolina."
   ]
  },
  {
   "cell_type": "code",
   "execution_count": 5,
   "id": "545b43f8-5c51-4958-86d2-35f4d1b87955",
   "metadata": {
    "tags": []
   },
   "outputs": [
    {
     "name": "stdout",
     "output_type": "stream",
     "text": [
      "1.0 lts\n"
     ]
    }
   ],
   "source": [
    "class Coche(Vehiculo):\n",
    "    def __init__(self, potencia, consumo_100km, numero_puertas, tipo_gas):\n",
    "        super().__init__(potencia,consumo_100km)\n",
    "        self.numero_puertas = numero_puertas\n",
    "        self.tipo_gas = tipo_gas\n",
    "coche = Coche(200, 100, 4, 'gasolina')\n",
    "print(coche.get_consumo_por_km()) # Output: 1.0 lts"
   ]
  },
  {
   "cell_type": "markdown",
   "id": "c88de038",
   "metadata": {
    "tags": []
   },
   "source": [
    "## Ejercicio 3\n",
    "\n",
    "Crear mediante la utilización de clases un sistema capaz de lidiar con vectores en 2D, es decir, con el que podamos calcular el producto escalar de dos vectores, el coseno del ángulo entre dos vectores y con el que podamos sumar y restar vectores (además de compararlos entre sí en términos de módulo). Definir las funciones de producto como métodos de un vector al que se le pasa otro vector.\n",
    "\n",
    "(Se pueden definir las funciones $__lt__$ y $__gt__$)."
   ]
  },
  {
   "cell_type": "code",
   "execution_count": 10,
   "id": "63f3527f-9889-4546-9895-93929cb78d99",
   "metadata": {
    "tags": []
   },
   "outputs": [
    {
     "name": "stdout",
     "output_type": "stream",
     "text": [
      "v1:[3,4], v2: [1,2]\n",
      "v3:[4,6], v4: [2,2]\n",
      "dot_product: 11\n",
      "v5: [1.5,2.0]\n",
      "modulo_v1: 5.0\n",
      "angle_v1_v2: 0.17985349979247847\n"
     ]
    }
   ],
   "source": [
    "import math\n",
    "\n",
    "class Vector2D:\n",
    "    def __init__(self, x, y):\n",
    "        self.x = x\n",
    "        self.y = y\n",
    "    \n",
    "    def __add__(self, other):\n",
    "        return Vector2D(self.x + other.x, self.y + other.y)\n",
    "    \n",
    "    def __sub__(self, other):\n",
    "        return Vector2D(self.x - other.x, self.y - other.y)\n",
    "    \n",
    "    def __mul__(self, other):\n",
    "        return self.x * other.x + self.y * other.y\n",
    "    \n",
    "    def __truediv__(self, other):\n",
    "        return Vector2D(self.x / other, self.y / other)\n",
    "    \n",
    "    def modulo(self):\n",
    "        return math.sqrt(self.x ** 2 + self.y ** 2)\n",
    "    \n",
    "    def angle(self, other):\n",
    "        dot_product = self * other\n",
    "        magnitude_product = self.modulo() * other.modulo()\n",
    "        return math.acos(dot_product / magnitude_product)\n",
    "    def __str__(self):\n",
    "        return (f'[{self.x},{self.y}]')\n",
    "    \n",
    "    \n",
    "v1 = Vector2D(3, 4)\n",
    "v2 = Vector2D(1, 2)\n",
    "print(f'v1:{v1}, v2: {v2}')\n",
    "\n",
    "# Suma y resta de vectores\n",
    "v3 = v1 + v2\n",
    "v4 = v1 - v2\n",
    "print(f'v3:{v3}, v4: {v4}')\n",
    "\n",
    "\n",
    "# Producto escalar\n",
    "dot_product = v1 * v2\n",
    "print(f'dot_product: {dot_product}')\n",
    "\n",
    "\n",
    "# División por un escalar\n",
    "v5 = v1 / 2\n",
    "print(f'v5: {v5}')\n",
    "\n",
    "# Módulo de un vector\n",
    "modulo_v1 = v1.modulo()\n",
    "print(f'modulo_v1: {modulo_v1}')\n",
    "\n",
    "# Ángulo entre dos vectores\n",
    "angle_v1_v2 = v1.angle(v2)\n",
    "print(f'angle_v1_v2: {angle_v1_v2}')\n"
   ]
  },
  {
   "cell_type": "markdown",
   "id": "28f5f9ee",
   "metadata": {},
   "source": [
    "## Ejercicio 4\n",
    "\n",
    "Crear un objeto de tipo rectángulo, que tenga la posibilidad de devolver el area y el perímetro. Además, tendrá que poder comparar rectángulos entre sí (la igualdad será igualdad total y las comparaciones se realizarán en términos de área). Tambien implementar si un rectángulo está contenido en otro.\n",
    "\n",
    "Para hacerlo más sencillo, definir el rectángulo como un origen en el plano x e y , la longitud del lado horizontal y la longitud del lado vertical (es decir, no trabajaremos con rectángulos que no tengan un lado paralelo al eje X. Además, supondremos que el origen dado es la esquina inferior izquierda."
   ]
  },
  {
   "cell_type": "code",
   "execution_count": 31,
   "id": "d0e9df2a",
   "metadata": {
    "tags": []
   },
   "outputs": [],
   "source": [
    "class rectangulo:\n",
    "    def __init__(self, origen_x, origen_y, lado_h, lado_v):\n",
    "        self.x = origen_x\n",
    "        self.y = origen_y\n",
    "        self.lado_h = lado_h\n",
    "        self.lado_v = lado_v\n",
    "        self.area = lado_h * lado_v\n",
    "        self.perimeter = self.lado_h * 2 + self.lado_v * 2\n",
    "        \n",
    "    def __ne__(self,other):\n",
    "        return self.area != other.area\n",
    "    def __eq__(self,other):\n",
    "        return self.area == other.area\n",
    "    def __gt__(self,other):\n",
    "        return self.area > other.area\n",
    "    def __ge__(self,other):\n",
    "        return self.area >= other.area\n",
    "    def __le__(self,other):\n",
    "        return self.area <= other.area\n",
    "    def __lt__(self,other):\n",
    "        return self.area < other.area\n",
    "    \n",
    "    def __contains__(self,other):\n",
    "        condition = True\n",
    "        x_end = self.x + self.lado_h\n",
    "        y_end = self.y + self.lado_v\n",
    "        cx_end = other.x + other.lado_h\n",
    "        cy_end = other.y + other.lado_v\n",
    "        condition &= x_end >= cx_end\n",
    "        condition &= self.x <= other.x\n",
    "        condition &= y_end >= cy_end\n",
    "        condition &= self.y <= other.y\n",
    "        return condition\n",
    "    def get_perimeter(self):\n",
    "        return self.perimeter\n",
    "    \n",
    "    def get_area(self):\n",
    "        return self.area\n",
    "    \n",
    "    def __str__(self):\n",
    "        ans = \" ==================================== \"\n",
    "        ans += f\"\\nRectángulo en ({self.x}, {self.y}), \" \\\n",
    "               f\"\\nlado horizontal: {self.lado_h}, \" \\\n",
    "               f\"\\nlado vertical: {self.lado_v}, \" \\\n",
    "               f\"\\nárea: {self.area}\"\n",
    "        ans += \"\\n ----------------------------------- \"\n",
    "        return ans\n",
    "        \n",
    "        \n"
   ]
  },
  {
   "cell_type": "code",
   "execution_count": 32,
   "id": "b98058f5-a392-4d39-8357-2fd1d16d1056",
   "metadata": {
    "tags": []
   },
   "outputs": [
    {
     "name": "stdout",
     "output_type": "stream",
     "text": [
      " ==================================== \n",
      "Rectángulo en (0, 0), \n",
      "lado horizontal: 5, \n",
      "lado vertical: 10, \n",
      "área: 50\n",
      " ----------------------------------- \n",
      " ==================================== \n",
      "Rectángulo en (0, 0), \n",
      "lado horizontal: 10, \n",
      "lado vertical: 20, \n",
      "área: 200\n",
      " ----------------------------------- \n",
      "rect1 == rect2: False\n",
      "rect1 != rect2: True\n",
      "rect1 < rect2: True\n",
      "rect1 <= rect2: True\n",
      "rect1 > rect2: False\n",
      "rect1 >= rect2: False\n",
      " ==================================== \n",
      "Rectángulo en (0, 0), \n",
      "lado horizontal: 2, \n",
      "lado vertical: 4, \n",
      "área: 8\n",
      " ----------------------------------- \n",
      " ==================================== \n",
      "Rectángulo en (0, 0), \n",
      "lado horizontal: 10, \n",
      "lado vertical: 20, \n",
      "área: 200\n",
      " ----------------------------------- \n",
      "small_rect in large_rect: True\n",
      "large_rect in small_rect: False\n",
      "8\n",
      "60\n"
     ]
    }
   ],
   "source": [
    "# Create two rectangles\n",
    "rect1 = rectangulo(0, 0, 5, 10)\n",
    "rect2 = rectangulo(0, 0, 10, 20)\n",
    "\n",
    "print(rect1)\n",
    "print(rect2)\n",
    "# Test comparison methods\n",
    "print(f\"rect1 == rect2: {rect1 == rect2}\")\n",
    "print(f\"rect1 != rect2: {rect1 != rect2}\")\n",
    "print(f\"rect1 < rect2: {rect1 < rect2}\")\n",
    "print(f\"rect1 <= rect2: {rect1 <= rect2}\")\n",
    "print(f\"rect1 > rect2: {rect1 > rect2}\")\n",
    "print(f\"rect1 >= rect2: {rect1 >= rect2}\")\n",
    "\n",
    "# Test contains method\n",
    "small_rect = rectangulo(0, 0, 2, 4)\n",
    "large_rect = rectangulo(0, 0, 10, 20)\n",
    "\n",
    "\n",
    "print(small_rect)\n",
    "print(large_rect)\n",
    "\n",
    "print(f\"small_rect in large_rect: {small_rect in large_rect}\")\n",
    "print(f\"large_rect in small_rect: {large_rect in small_rect}\")\n",
    "\n",
    "print(small_rect.get_area())\n",
    "print(large_rect.get_perimeter())"
   ]
  },
  {
   "cell_type": "markdown",
   "id": "346840fb",
   "metadata": {
    "tags": []
   },
   "source": [
    "## Ejercicio 5\n",
    "\n",
    "Crear una clase de tipo círculo dando el centro y el radio. Crear los métodos necesarios para calcular el area, el perímetro, un método para poder comprobar si un punto está en su interior y un método que modifique el círculo para introducir un punto en su interior."
   ]
  },
  {
   "cell_type": "code",
   "execution_count": 42,
   "id": "8979fd15-f0c0-46af-a1ab-628bbd42dd69",
   "metadata": {
    "tags": []
   },
   "outputs": [],
   "source": [
    "import math\n",
    "class Circulo():\n",
    "    def __init__(self,coordenadas:list,radio):\n",
    "        self.x = coordenadas[0]\n",
    "        self.y = coordenadas[1]\n",
    "        self.radio = radio\n",
    "    def get_area(self):\n",
    "        return math.pi * (self.radio ** 2)\n",
    "    def get_perimetro(self):\n",
    "        return 2 * math.pi * self.radio\n",
    "    def contiene_punto(self, coordenadas):\n",
    "        x1 = self.x\n",
    "        y1 = self.y\n",
    "        x2 = coordenadas[0]\n",
    "        y2 = coordenadas[1]\n",
    "        distance = math.sqrt((x2 - x1)**2 + (y2 - y1)**2)\n",
    "        return distance <= self.radio\n",
    "    def modificar_circulo_para_incluir_punto(self,coordenadas):\n",
    "        x1 = self.x\n",
    "        y1 = self.y\n",
    "        x2 = coordenadas[0]\n",
    "        y2 = coordenadas[1]\n",
    "        distance = math.sqrt((x2 - x1)**2 + (y2 - y1)**2)\n",
    "        self.radio = distance\n",
    "    def __str__(self):\n",
    "        ans = \"\"\n",
    "        ans += \" \\n-------------------------- \"\n",
    "        ans += f\"\\ncoordenadas: {self.x,self.y} \"\n",
    "        ans += f'\\nradio: {self.radio}'\n",
    "        ans += \" \\n-------------------------- \"\n",
    "        return ans\n",
    "        \n",
    "        \n",
    "        "
   ]
  },
  {
   "cell_type": "code",
   "execution_count": 43,
   "id": "ea0e102d-28c5-410b-97fb-f8e072cfd8a2",
   "metadata": {
    "tags": []
   },
   "outputs": [
    {
     "name": "stdout",
     "output_type": "stream",
     "text": [
      " \n",
      "-------------------------- \n",
      "coordenadas: (0, 0) \n",
      "radio: 5 \n",
      "-------------------------- \n",
      "Area: 78.53981633974483\n",
      "Perimetro: 31.41592653589793\n",
      "El punto [2, 2] esta dentro del circulo: True\n",
      "El punto [7, 7] esta dentro del circulo: False\n",
      " \n",
      "-------------------------- \n",
      "coordenadas: (0, 0) \n",
      "radio: 14.142135623730951 \n",
      "-------------------------- \n"
     ]
    }
   ],
   "source": [
    "# Create a circle object with center at (0, 0) and radius 5\n",
    "circle = Circulo([0, 0], 5)\n",
    "\n",
    "# Print the circle's properties\n",
    "print(circle)\n",
    "print(f\"Area: {circle.get_area()}\")\n",
    "print(f\"Perimetro: {circle.get_perimetro()}\")\n",
    "\n",
    "# Check if a point is inside the circle\n",
    "point1 = [2, 2]\n",
    "point2 = [7, 7]\n",
    "print(f\"El punto {point1} esta dentro del circulo: {circle.contiene_punto(point1)}\")\n",
    "print(f\"El punto {point2} esta dentro del circulo: {circle.contiene_punto(point2)}\")\n",
    "\n",
    "# Modify the circle to include a point\n",
    "circle.modificar_circulo_para_incluir_punto([10,10])\n",
    "print(circle)"
   ]
  }
 ],
 "metadata": {
  "kernelspec": {
   "display_name": "Python 3 (ipykernel)",
   "language": "python",
   "name": "python3"
  },
  "language_info": {
   "codemirror_mode": {
    "name": "ipython",
    "version": 3
   },
   "file_extension": ".py",
   "mimetype": "text/x-python",
   "name": "python",
   "nbconvert_exporter": "python",
   "pygments_lexer": "ipython3",
   "version": "3.10.10"
  }
 },
 "nbformat": 4,
 "nbformat_minor": 5
}
